{
 "cells": [
  {
   "cell_type": "markdown",
   "metadata": {},
   "source": [
    "# Python re-learning\n",
    "\n",
    "- matematicke operacije\n",
    "-\n",
    "-\n",
    "-\n",
    "\n"
   ]
  },
  {
   "cell_type": "code",
   "execution_count": 1,
   "metadata": {},
   "outputs": [
    {
     "data": {
      "text/plain": [
       "9"
      ]
     },
     "execution_count": 1,
     "metadata": {},
     "output_type": "execute_result"
    }
   ],
   "source": [
    "# sabiranje\n",
    "5+4"
   ]
  },
  {
   "cell_type": "code",
   "execution_count": 2,
   "metadata": {},
   "outputs": [
    {
     "data": {
      "text/plain": [
       "1"
      ]
     },
     "execution_count": 2,
     "metadata": {},
     "output_type": "execute_result"
    }
   ],
   "source": [
    "# oduzimanje \n",
    "5-4"
   ]
  },
  {
   "cell_type": "code",
   "execution_count": 3,
   "metadata": {},
   "outputs": [
    {
     "data": {
      "text/plain": [
       "20"
      ]
     },
     "execution_count": 3,
     "metadata": {},
     "output_type": "execute_result"
    }
   ],
   "source": [
    "# mnozenje\n",
    "5*4"
   ]
  },
  {
   "cell_type": "code",
   "execution_count": 4,
   "metadata": {},
   "outputs": [
    {
     "data": {
      "text/plain": [
       "1.25"
      ]
     },
     "execution_count": 4,
     "metadata": {},
     "output_type": "execute_result"
    }
   ],
   "source": [
    "#deljenje\n",
    "5/4"
   ]
  },
  {
   "cell_type": "code",
   "execution_count": 5,
   "metadata": {},
   "outputs": [
    {
     "data": {
      "text/plain": [
       "2"
      ]
     },
     "execution_count": 5,
     "metadata": {},
     "output_type": "execute_result"
    }
   ],
   "source": [
    "#deljenje ceo deo\n",
    "\n",
    "7//3"
   ]
  },
  {
   "cell_type": "code",
   "execution_count": 6,
   "metadata": {},
   "outputs": [
    {
     "data": {
      "text/plain": [
       "1"
      ]
     },
     "execution_count": 6,
     "metadata": {},
     "output_type": "execute_result"
    }
   ],
   "source": [
    "# moduo\n",
    "7%3"
   ]
  },
  {
   "cell_type": "code",
   "execution_count": 7,
   "metadata": {},
   "outputs": [
    {
     "data": {
      "text/plain": [
       "2.0"
      ]
     },
     "execution_count": 7,
     "metadata": {},
     "output_type": "execute_result"
    }
   ],
   "source": [
    "# stepenovanje\n",
    "2**3\n",
    "# korenovanje(I nacin)\n",
    "4**0.5"
   ]
  },
  {
   "cell_type": "code",
   "execution_count": 8,
   "metadata": {},
   "outputs": [
    {
     "data": {
      "text/plain": [
       "105"
      ]
     },
     "execution_count": 8,
     "metadata": {},
     "output_type": "execute_result"
    }
   ],
   "source": [
    "# pravila prvenstava operacija\n",
    "2+10*10+3"
   ]
  },
  {
   "cell_type": "code",
   "execution_count": 9,
   "metadata": {},
   "outputs": [],
   "source": [
    "#koriscenje zagrada poboljsava citljivost"
   ]
  },
  {
   "cell_type": "code",
   "execution_count": 10,
   "metadata": {},
   "outputs": [
    {
     "data": {
      "text/plain": [
       "105"
      ]
     },
     "execution_count": 10,
     "metadata": {},
     "output_type": "execute_result"
    }
   ],
   "source": [
    "2+(10*10)+3"
   ]
  },
  {
   "cell_type": "code",
   "execution_count": 11,
   "metadata": {},
   "outputs": [],
   "source": [
    "# promenljive"
   ]
  },
  {
   "cell_type": "code",
   "execution_count": 12,
   "metadata": {},
   "outputs": [],
   "source": [
    "# kreiramo objekat nazvani \"a\" i dodeljujemo mu vrednost 5\n",
    "a = 5"
   ]
  },
  {
   "cell_type": "code",
   "execution_count": 13,
   "metadata": {},
   "outputs": [
    {
     "data": {
      "text/plain": [
       "10"
      ]
     },
     "execution_count": 13,
     "metadata": {},
     "output_type": "execute_result"
    }
   ],
   "source": [
    "# sabiranje objekata\n",
    "a+a"
   ]
  },
  {
   "cell_type": "code",
   "execution_count": 14,
   "metadata": {},
   "outputs": [
    {
     "data": {
      "text/plain": [
       "20"
      ]
     },
     "execution_count": 14,
     "metadata": {},
     "output_type": "execute_result"
    }
   ],
   "source": [
    "# mozemo ponovo dodeliti vrednost starom objektu\n",
    "a=10\n",
    "a\n",
    "# dodeljivanje objekata sa objektom\n",
    "a=a+a\n",
    "a"
   ]
  },
  {
   "cell_type": "code",
   "execution_count": 15,
   "metadata": {},
   "outputs": [],
   "source": [
    "# koristimo imena promeljivih koji ce blize \"obisati\" smestenu vrednosti\n",
    "\n",
    "moj_dohodak=100;\n",
    "rata_takse=0.1\n",
    "moja_taksa=moj_dohodak*rata_takse"
   ]
  },
  {
   "cell_type": "code",
   "execution_count": 16,
   "metadata": {},
   "outputs": [
    {
     "data": {
      "text/plain": [
       "10.0"
      ]
     },
     "execution_count": 16,
     "metadata": {},
     "output_type": "execute_result"
    }
   ],
   "source": [
    "moja_taksa"
   ]
  },
  {
   "cell_type": "code",
   "execution_count": 17,
   "metadata": {},
   "outputs": [
    {
     "data": {
      "text/plain": [
       "['Sami', 'Frenki']"
      ]
     },
     "execution_count": 17,
     "metadata": {},
     "output_type": "execute_result"
    }
   ],
   "source": [
    "#dinamicko kuckanje - mogucnost dodeljivanje razlicitin objekata sa istim nazivom jer nismo u obavezi da definisimo tip promljive\n",
    "                    # pre  unosa vrednsoti promenljive\n",
    "\n",
    "moje_kuce=2\n",
    "moje_kuce\n",
    "\n",
    "moje_kuce=[\"Sami\",\"Frenki\"]\n",
    "\n",
    "moje_kuce"
   ]
  },
  {
   "cell_type": "code",
   "execution_count": 18,
   "metadata": {},
   "outputs": [
    {
     "data": {
      "text/plain": [
       "list"
      ]
     },
     "execution_count": 18,
     "metadata": {},
     "output_type": "execute_result"
    }
   ],
   "source": [
    "# provera tipa promeljive\n",
    "type(moje_kuce)"
   ]
  },
  {
   "cell_type": "code",
   "execution_count": 19,
   "metadata": {},
   "outputs": [
    {
     "name": "stdout",
     "output_type": "stream",
     "text": [
      "20\n",
      "10\n",
      "5.0\n",
      "50.0\n"
     ]
    }
   ],
   "source": [
    "a=10\n",
    "# ponovno dodelivanej vrednosti objektu +cosnt, -const\n",
    "a+=10 # a=a+10\n",
    "print(a)\n",
    "a-=10 #a=a-10\n",
    "print(a)\n",
    "a/=2 #a=a/2\n",
    "print(a)\n",
    "a*=10 #a=a*10\n",
    "print(a)"
   ]
  },
  {
   "cell_type": "markdown",
   "metadata": {},
   "source": [
    "## Definistsanje tipova prmenljivih (type())"
   ]
  },
  {
   "cell_type": "markdown",
   "metadata": {},
   "source": [
    "Proveravamo tip objekta sa funkcijom type()\n",
    "- int (for integer)\n",
    "- float\n",
    "- str (for string)\n",
    "- list\n",
    "- tuple\n",
    "- dict (for dictionary)\n",
    "- set\n",
    "- bool (for Boolean True/False)"
   ]
  },
  {
   "cell_type": "code",
   "execution_count": 21,
   "metadata": {},
   "outputs": [
    {
     "data": {
      "text/plain": [
       "float"
      ]
     },
     "execution_count": 21,
     "metadata": {},
     "output_type": "execute_result"
    }
   ],
   "source": [
    "a\n",
    "type(a)"
   ]
  },
  {
   "cell_type": "code",
   "execution_count": 22,
   "metadata": {},
   "outputs": [
    {
     "data": {
      "text/plain": [
       "tuple"
      ]
     },
     "execution_count": 22,
     "metadata": {},
     "output_type": "execute_result"
    }
   ],
   "source": [
    "a=(1,2)\n",
    "type(a)"
   ]
  },
  {
   "cell_type": "markdown",
   "metadata": {},
   "source": [
    "# Stringovi \n",
    "\n",
    "- kreiranje stringova\n",
    "- printovanje stringova\n",
    "- indeksiranje i slajsiranje\n",
    "- stringovi svojstva\n",
    "- stringovi metode\n",
    "- print formatiranje\n",
    "\n"
   ]
  },
  {
   "cell_type": "code",
   "execution_count": 23,
   "metadata": {},
   "outputs": [
    {
     "data": {
      "text/plain": [
       "'Hello'"
      ]
     },
     "execution_count": 23,
     "metadata": {},
     "output_type": "execute_result"
    }
   ],
   "source": [
    "# Kreiranje stringa\n",
    "\"Hello\""
   ]
  },
  {
   "cell_type": "code",
   "execution_count": 24,
   "metadata": {},
   "outputs": [
    {
     "data": {
      "text/plain": [
       "'Ovo je string'"
      ]
     },
     "execution_count": 24,
     "metadata": {},
     "output_type": "execute_result"
    }
   ],
   "source": [
    "\"Ovo je string\""
   ]
  },
  {
   "cell_type": "code",
   "execution_count": 25,
   "metadata": {},
   "outputs": [
    {
     "data": {
      "text/plain": [
       "'String se moze kreirati i sajednostepenim navodnicima'"
      ]
     },
     "execution_count": 25,
     "metadata": {},
     "output_type": "execute_result"
    }
   ],
   "source": [
    "'String se moze kreirati i sajednostepenim navodnicima'"
   ]
  },
  {
   "cell_type": "code",
   "execution_count": 26,
   "metadata": {},
   "outputs": [
    {
     "ename": "SyntaxError",
     "evalue": "invalid syntax (<ipython-input-26-422362cfc181>, line 3)",
     "output_type": "error",
     "traceback": [
      "\u001b[1;36m  File \u001b[1;32m\"<ipython-input-26-422362cfc181>\"\u001b[1;36m, line \u001b[1;32m3\u001b[0m\n\u001b[1;33m    'I'm using single quotes'\u001b[0m\n\u001b[1;37m       ^\u001b[0m\n\u001b[1;31mSyntaxError\u001b[0m\u001b[1;31m:\u001b[0m invalid syntax\n"
     ]
    }
   ],
   "source": [
    "# Vodimo racuna o koriscenje \"\" i '' zajedno!\n",
    "\n",
    "'I'm using single quotes'"
   ]
  },
  {
   "cell_type": "code",
   "execution_count": 27,
   "metadata": {},
   "outputs": [
    {
     "data": {
      "text/plain": [
       "\"Now I'm ready to use the single quotes inside a string!\""
      ]
     },
     "execution_count": 27,
     "metadata": {},
     "output_type": "execute_result"
    }
   ],
   "source": [
    "\"Now I'm ready to use the single quotes inside a string!\""
   ]
  },
  {
   "cell_type": "code",
   "execution_count": 28,
   "metadata": {},
   "outputs": [],
   "source": [
    "# Printovanje stringa"
   ]
  },
  {
   "cell_type": "code",
   "execution_count": 29,
   "metadata": {},
   "outputs": [
    {
     "data": {
      "text/plain": [
       "'Hello World'"
      ]
     },
     "execution_count": 29,
     "metadata": {},
     "output_type": "execute_result"
    }
   ],
   "source": [
    "\"Hello World\""
   ]
  },
  {
   "cell_type": "code",
   "execution_count": 30,
   "metadata": {},
   "outputs": [
    {
     "data": {
      "text/plain": [
       "'Hello World 2'"
      ]
     },
     "execution_count": 30,
     "metadata": {},
     "output_type": "execute_result"
    }
   ],
   "source": [
    "# Prilikom ispisa visestrukog broja stringova \n",
    "\"Hello World 1\"\n",
    "\"Hello World 2\"\n",
    "# stamapa se samo poslednji"
   ]
  },
  {
   "cell_type": "code",
   "execution_count": 31,
   "metadata": {},
   "outputs": [
    {
     "name": "stdout",
     "output_type": "stream",
     "text": [
      "Hello World 1\n",
      "Hello World 2\n"
     ]
    }
   ],
   "source": [
    "# zato koristimo print() funkciju koja resava ovaj problem\n",
    "print(\"Hello World 1\")\n",
    "print(\"Hello World 2\")"
   ]
  },
  {
   "cell_type": "code",
   "execution_count": 34,
   "metadata": {},
   "outputs": [
    {
     "name": "stdout",
     "output_type": "stream",
     "text": [
      "Hello World 1\n",
      "Hello World 2\n",
      "Koristi \n",
      " da bi string presao u novi red\n",
      "\n",
      "\n",
      "bas ovako\n"
     ]
    }
   ],
   "source": [
    "#Mozeo modifikovati izgled stringa\n",
    "\n",
    "print(\"Hello World 1\")\n",
    "print(\"Hello World 2\")\n",
    "print(\"Koristi \\n da bi string presao u novi red\")\n",
    "print(\"\\n\")\n",
    "print(\"bas ovako\")"
   ]
  },
  {
   "cell_type": "code",
   "execution_count": 35,
   "metadata": {},
   "outputs": [
    {
     "data": {
      "text/plain": [
       "11"
      ]
     },
     "execution_count": 35,
     "metadata": {},
     "output_type": "execute_result"
    }
   ],
   "source": [
    "# velicina stringa se proverava sa len(), gde se broje i prazna mesta\n",
    "len(\"hello world\")"
   ]
  },
  {
   "cell_type": "code",
   "execution_count": 75,
   "metadata": {},
   "outputs": [
    {
     "data": {
      "text/plain": [
       "('h', 'l', 'o', 'r')"
      ]
     },
     "execution_count": 75,
     "metadata": {},
     "output_type": "execute_result"
    }
   ],
   "source": [
    "# Indeksiranje stringa\n",
    "# u pithon-u koristimo [] da bismo vrsili indeksiranje i indeksiranja pocinje sa 0\n",
    "\n",
    "s=\"hello world\"\n",
    "s[0], s[3],s[4], s[8]"
   ]
  },
  {
   "cell_type": "code",
   "execution_count": 38,
   "metadata": {},
   "outputs": [
    {
     "data": {
      "text/plain": [
       "'o world'"
      ]
     },
     "execution_count": 38,
     "metadata": {},
     "output_type": "execute_result"
    }
   ],
   "source": [
    "#koristimo : da bimo \"zgrabili\" neki segment naseg stinga\n",
    "s[4:] # odvoj sve od 4 pa na dalje"
   ]
  },
  {
   "cell_type": "code",
   "execution_count": 43,
   "metadata": {},
   "outputs": [
    {
     "data": {
      "text/plain": [
       "'hel'"
      ]
     },
     "execution_count": 43,
     "metadata": {},
     "output_type": "execute_result"
    }
   ],
   "source": [
    "# ili mozemo reci \n",
    "s[:3] #sve od pocetka do treceg indeksa -> 0,1,2 <-"
   ]
  },
  {
   "cell_type": "code",
   "execution_count": 44,
   "metadata": {},
   "outputs": [
    {
     "data": {
      "text/plain": [
       "'d'"
      ]
     },
     "execution_count": 44,
     "metadata": {},
     "output_type": "execute_result"
    }
   ],
   "source": [
    "# vracenje poslednejg elementa u stringu je najbrze uraditi sa \n",
    "s[-1]"
   ]
  },
  {
   "cell_type": "code",
   "execution_count": 47,
   "metadata": {},
   "outputs": [
    {
     "data": {
      "text/plain": [
       "'hello worl'"
      ]
     },
     "execution_count": 47,
     "metadata": {},
     "output_type": "execute_result"
    }
   ],
   "source": [
    "# zgrabiti sve sem poslednjeg \n",
    "s[:-1]"
   ]
  },
  {
   "cell_type": "code",
   "execution_count": 48,
   "metadata": {},
   "outputs": [
    {
     "data": {
      "text/plain": [
       "'hello world'"
      ]
     },
     "execution_count": 48,
     "metadata": {},
     "output_type": "execute_result"
    }
   ],
   "source": [
    "# prilikom koricenja ove metode mozemo i koisti korak tj. s[start:stop:step]\n",
    "s[::1]"
   ]
  },
  {
   "cell_type": "code",
   "execution_count": 50,
   "metadata": {},
   "outputs": [
    {
     "data": {
      "text/plain": [
       "'hlowrd'"
      ]
     },
     "execution_count": 50,
     "metadata": {},
     "output_type": "execute_result"
    }
   ],
   "source": [
    "s[::2] #od pocetka do kraja sa korakom 2"
   ]
  },
  {
   "cell_type": "code",
   "execution_count": 51,
   "metadata": {},
   "outputs": [
    {
     "data": {
      "text/plain": [
       "'dlrow olleh'"
      ]
     },
     "execution_count": 51,
     "metadata": {},
     "output_type": "execute_result"
    }
   ],
   "source": [
    "# ovo mozemo iskoristi za okretanje stringa\n",
    "s[::-1]"
   ]
  },
  {
   "cell_type": "markdown",
   "metadata": {},
   "source": [
    "## Svojstva stingova"
   ]
  },
  {
   "cell_type": "code",
   "execution_count": 60,
   "metadata": {},
   "outputs": [
    {
     "data": {
      "text/plain": [
       "'hello world concatinate me! concatinate me! concatinate me!'"
      ]
     },
     "execution_count": 60,
     "metadata": {},
     "output_type": "execute_result"
    }
   ],
   "source": [
    "s"
   ]
  },
  {
   "cell_type": "code",
   "execution_count": 54,
   "metadata": {},
   "outputs": [
    {
     "ename": "TypeError",
     "evalue": "'str' object does not support item assignment",
     "output_type": "error",
     "traceback": [
      "\u001b[1;31m---------------------------------------------------------------------------\u001b[0m",
      "\u001b[1;31mTypeError\u001b[0m                                 Traceback (most recent call last)",
      "\u001b[1;32m<ipython-input-54-d6c81ef74674>\u001b[0m in \u001b[0;36m<module>\u001b[1;34m\u001b[0m\n\u001b[0;32m      1\u001b[0m \u001b[1;31m# ne mozemo menjati vrednosti u stingu\u001b[0m\u001b[1;33m\u001b[0m\u001b[1;33m\u001b[0m\u001b[1;33m\u001b[0m\u001b[0m\n\u001b[1;32m----> 2\u001b[1;33m \u001b[0ms\u001b[0m\u001b[1;33m[\u001b[0m\u001b[1;36m3\u001b[0m\u001b[1;33m]\u001b[0m\u001b[1;33m=\u001b[0m\u001b[1;34m\"x\"\u001b[0m\u001b[1;33m\u001b[0m\u001b[1;33m\u001b[0m\u001b[0m\n\u001b[0m",
      "\u001b[1;31mTypeError\u001b[0m: 'str' object does not support item assignment"
     ]
    }
   ],
   "source": [
    "# ne mozemo menjati vrednosti u stingu\n",
    "s[3]=\"x\" "
   ]
  },
  {
   "cell_type": "code",
   "execution_count": 56,
   "metadata": {},
   "outputs": [
    {
     "data": {
      "text/plain": [
       "'hello world concatinate me!'"
      ]
     },
     "execution_count": 56,
     "metadata": {},
     "output_type": "execute_result"
    }
   ],
   "source": [
    "# konkatiniranje stringova -  dodavanje stinga na string\n",
    "s + \" concatinate me!\""
   ]
  },
  {
   "cell_type": "code",
   "execution_count": 61,
   "metadata": {},
   "outputs": [
    {
     "data": {
      "text/plain": [
       "'hello world concatinate me! concatinate me! concatinate me! concatinate me!'"
      ]
     },
     "execution_count": 61,
     "metadata": {},
     "output_type": "execute_result"
    }
   ],
   "source": [
    "# mozemo da menjamo vrednosti stinga \n",
    "s= s +\" concatinate me!\"\n",
    "s\n"
   ]
  },
  {
   "cell_type": "code",
   "execution_count": 63,
   "metadata": {},
   "outputs": [
    {
     "data": {
      "text/plain": [
       "'ooooo'"
      ]
     },
     "execution_count": 63,
     "metadata": {},
     "output_type": "execute_result"
    }
   ],
   "source": [
    "#Umnozavanje slova\n",
    "slovo= s[4]\n",
    "slovo*5"
   ]
  },
  {
   "cell_type": "markdown",
   "metadata": {},
   "source": [
    "## Osnovne Build-in String Metode"
   ]
  },
  {
   "cell_type": "code",
   "execution_count": 76,
   "metadata": {},
   "outputs": [
    {
     "data": {
      "text/plain": [
       "'hello world'"
      ]
     },
     "execution_count": 76,
     "metadata": {},
     "output_type": "execute_result"
    }
   ],
   "source": [
    "s"
   ]
  },
  {
   "cell_type": "code",
   "execution_count": 66,
   "metadata": {},
   "outputs": [
    {
     "data": {
      "text/plain": [
       "'HELLO WORLD CONCATINATE ME! CONCATINATE ME! CONCATINATE ME! CONCATINATE ME!'"
      ]
     },
     "execution_count": 66,
     "metadata": {},
     "output_type": "execute_result"
    }
   ],
   "source": [
    "#Uvecenja svih slova u stingu\n",
    "s.upper()"
   ]
  },
  {
   "cell_type": "code",
   "execution_count": 67,
   "metadata": {},
   "outputs": [
    {
     "data": {
      "text/plain": [
       "'hello world concatinate me! concatinate me! concatinate me! concatinate me!'"
      ]
     },
     "execution_count": 67,
     "metadata": {},
     "output_type": "execute_result"
    }
   ],
   "source": [
    "#Umanjivanje svih slova u stingu\n",
    "s.lower()"
   ]
  },
  {
   "cell_type": "code",
   "execution_count": 72,
   "metadata": {},
   "outputs": [
    {
     "data": {
      "text/plain": [
       "['hello',\n",
       " 'world',\n",
       " 'concatinate',\n",
       " 'me!',\n",
       " 'concatinate me! concatinate me! concatinate me!']"
      ]
     },
     "execution_count": 72,
     "metadata": {},
     "output_type": "execute_result"
    }
   ],
   "source": [
    "# splitovanje stringa \n",
    "s.split(maxsplit=4)\n",
    "# maxsplit - broj splitovanja\n",
    "# sep - pocemu vrsimo splitovanje"
   ]
  },
  {
   "cell_type": "code",
   "execution_count": 79,
   "metadata": {},
   "outputs": [
    {
     "data": {
      "text/plain": [
       "['hello ', 'orld']"
      ]
     },
     "execution_count": 79,
     "metadata": {},
     "output_type": "execute_result"
    }
   ],
   "source": [
    "#splitovanje po specificnom elementu\n",
    "s.split(\"w\")"
   ]
  },
  {
   "cell_type": "code",
   "execution_count": 81,
   "metadata": {},
   "outputs": [
    {
     "data": {
      "text/plain": [
       "'ubacivanje novog stringa u viticaste zagrade -> Uneseni string <-'"
      ]
     },
     "execution_count": 81,
     "metadata": {},
     "output_type": "execute_result"
    }
   ],
   "source": [
    "#printovanje stringa\n",
    "# koristimo funkciju .format(\"string\")\n",
    "\n",
    "\"ubacivanje novog stringa u viticaste zagrade {}\".format(\"-> Uneseni string <-\")\n",
    "\n"
   ]
  },
  {
   "cell_type": "markdown",
   "metadata": {},
   "source": [
    "# Formatiranje stringa\n",
    "\n",
    "String formating na m omogucuje ubacivanje elemenata u string sto je bolje nego da pokusavamo da \"chain.ujemo\" ili \"concatinate\" tj: <br>\n",
    "\n",
    "\n",
    "Igrac=\"Tomson\"\n",
    "Poena=30\n",
    "\n",
    "\"Sinoc, \" + igrac + \"je postigao\" +str(poena)+ \"poena\". #conacatenation <br>\n",
    "f\" Sinoc,  {igrac} je postigao {poena} poena\" string formatiranje"
   ]
  },
  {
   "cell_type": "markdown",
   "metadata": {},
   "source": [
    "## formatiranje stringa sa (f-string)"
   ]
  },
  {
   "cell_type": "code",
   "execution_count": 82,
   "metadata": {},
   "outputs": [
    {
     "name": "stdout",
     "output_type": "stream",
     "text": [
      "On je rekao da je njegovo ime Fred.\n"
     ]
    }
   ],
   "source": [
    "ime=\"Fred\"\n",
    "print(f\"On je rekao da je njegovo ime {ime}.\")"
   ]
  },
  {
   "cell_type": "code",
   "execution_count": 86,
   "metadata": {},
   "outputs": [
    {
     "name": "stdout",
     "output_type": "stream",
     "text": [
      "Moj 10 karakterni, 4-decimalno broj je:    13.4568\n"
     ]
    }
   ],
   "source": [
    "# koriscenej za vrednosti brojeva \n",
    "\n",
    "broj=13.456789\n",
    "print(f\"Moj 10 karakterni, 4-decimalno broj je: {broj:{10}.{6}}\")"
   ]
  },
  {
   "cell_type": "code",
   "execution_count": 88,
   "metadata": {},
   "outputs": [
    {
     "name": "stdout",
     "output_type": "stream",
     "text": [
      "Moj 10 karakterni, 4-decimalno broj je:  23.450000\n"
     ]
    }
   ],
   "source": [
    "broj=23.45\n",
    "print(f\"Moj 10 karakterni, 4-decimalno broj je: {broj:10.6f}\")"
   ]
  },
  {
   "cell_type": "markdown",
   "metadata": {},
   "source": [
    "## Liste - one su promenljive za rayliku od stingova\n",
    "\n",
    "- Kreiranje liste \n",
    "- Indeksiranje i slajsiranje liste\n",
    "- Bazicni lista metodi \n",
    "- Ugnjezdene liste\n",
    "- List Comprehensions\n"
   ]
  },
  {
   "cell_type": "code",
   "execution_count": 89,
   "metadata": {},
   "outputs": [],
   "source": [
    "#konstrukcija liste\n",
    "lista=[1,2,3,4]"
   ]
  },
  {
   "cell_type": "code",
   "execution_count": 103,
   "metadata": {},
   "outputs": [
    {
     "data": {
      "text/plain": [
       "['string', 12, 100.44, 'o']"
      ]
     },
     "execution_count": 103,
     "metadata": {},
     "output_type": "execute_result"
    }
   ],
   "source": [
    "moja_lista=[\"string\",12,100.44,\"o\"]\n",
    "moja_lista"
   ]
  },
  {
   "cell_type": "code",
   "execution_count": 94,
   "metadata": {},
   "outputs": [
    {
     "data": {
      "text/plain": [
       "4"
      ]
     },
     "execution_count": 94,
     "metadata": {},
     "output_type": "execute_result"
    }
   ],
   "source": [
    "#kao i kod stringa mozemo prveriti velicinu liste sa len()\n",
    "len(moja_lista)"
   ]
  },
  {
   "cell_type": "code",
   "execution_count": 95,
   "metadata": {},
   "outputs": [
    {
     "data": {
      "text/plain": [
       "[12, 100.44, 'o']"
      ]
     },
     "execution_count": 95,
     "metadata": {},
     "output_type": "execute_result"
    }
   ],
   "source": [
    "#Indeksiranje i slajsiranje liste\n",
    "moja_lista[1:] #pocev od prvog indeksa pa do kraja"
   ]
  },
  {
   "cell_type": "code",
   "execution_count": 96,
   "metadata": {},
   "outputs": [
    {
     "data": {
      "text/plain": [
       "['string', 12, 100.44]"
      ]
     },
     "execution_count": 96,
     "metadata": {},
     "output_type": "execute_result"
    }
   ],
   "source": [
    "moja_lista[:3] #do treceg indeksa"
   ]
  },
  {
   "cell_type": "code",
   "execution_count": 97,
   "metadata": {},
   "outputs": [
    {
     "data": {
      "text/plain": [
       "['string', 12, 100.44, 'o', 'novi element']"
      ]
     },
     "execution_count": 97,
     "metadata": {},
     "output_type": "execute_result"
    }
   ],
   "source": [
    "# mozemo concatenatirati listu\n",
    "moja_lista+[\"novi element\"] #ali ovo ne menja orginalnu listu"
   ]
  },
  {
   "cell_type": "code",
   "execution_count": 101,
   "metadata": {},
   "outputs": [
    {
     "data": {
      "text/plain": [
       "['string', 12, 100.44, 'o', 'novi element', 'novi element']"
      ]
     },
     "execution_count": 101,
     "metadata": {},
     "output_type": "execute_result"
    }
   ],
   "source": [
    "moja_lista"
   ]
  },
  {
   "cell_type": "code",
   "execution_count": 104,
   "metadata": {},
   "outputs": [
    {
     "data": {
      "text/plain": [
       "['string', 12, 100.44, 'o', 'novi element']"
      ]
     },
     "execution_count": 104,
     "metadata": {},
     "output_type": "execute_result"
    }
   ],
   "source": [
    "# menjanje pocetne liste\n",
    "moja_lista=moja_lista+[\"novi element\"]\n",
    "moja_lista"
   ]
  },
  {
   "cell_type": "code",
   "execution_count": 105,
   "metadata": {},
   "outputs": [
    {
     "data": {
      "text/plain": [
       "['string',\n",
       " 12,\n",
       " 100.44,\n",
       " 'o',\n",
       " 'novi element',\n",
       " 'string',\n",
       " 12,\n",
       " 100.44,\n",
       " 'o',\n",
       " 'novi element',\n",
       " 'string',\n",
       " 12,\n",
       " 100.44,\n",
       " 'o',\n",
       " 'novi element']"
      ]
     },
     "execution_count": 105,
     "metadata": {},
     "output_type": "execute_result"
    }
   ],
   "source": [
    "# mozemo kodititi isko kao i kod stinga * da bismo umnozavali listu\n",
    "moja_lista*3"
   ]
  },
  {
   "cell_type": "code",
   "execution_count": 106,
   "metadata": {},
   "outputs": [],
   "source": [
    "# bazicne lista metode\n",
    "\n",
    "lista=[1,2,3,4,5]"
   ]
  },
  {
   "cell_type": "code",
   "execution_count": 107,
   "metadata": {},
   "outputs": [
    {
     "data": {
      "text/plain": [
       "[1, 2, 3, 4, 5, 'append me']"
      ]
     },
     "execution_count": 107,
     "metadata": {},
     "output_type": "execute_result"
    }
   ],
   "source": [
    "#dodavanje elemenata listi appen()\n",
    "lista.append(\"append me\")\n",
    "lista"
   ]
  },
  {
   "cell_type": "code",
   "execution_count": 109,
   "metadata": {},
   "outputs": [
    {
     "data": {
      "text/plain": [
       "5"
      ]
     },
     "execution_count": 109,
     "metadata": {},
     "output_type": "execute_result"
    }
   ],
   "source": [
    "#izbacivanje elementa u listi je pop()\n",
    "lista.pop() # po difoltu je poslednji elementa ali se moze sa \"index= \"\" to menjati"
   ]
  },
  {
   "cell_type": "code",
   "execution_count": 110,
   "metadata": {},
   "outputs": [
    {
     "data": {
      "text/plain": [
       "(4, [1, 2, 3])"
      ]
     },
     "execution_count": 110,
     "metadata": {},
     "output_type": "execute_result"
    }
   ],
   "source": [
    "#dodeljivanje izbacenog elementa nekoj promenljivoj\n",
    "pop_element= lista.pop()\n",
    "pop_element, lista"
   ]
  },
  {
   "cell_type": "code",
   "execution_count": 111,
   "metadata": {},
   "outputs": [
    {
     "ename": "IndexError",
     "evalue": "list index out of range",
     "output_type": "error",
     "traceback": [
      "\u001b[1;31m---------------------------------------------------------------------------\u001b[0m",
      "\u001b[1;31mIndexError\u001b[0m                                Traceback (most recent call last)",
      "\u001b[1;32m<ipython-input-111-c97dad68f44b>\u001b[0m in \u001b[0;36m<module>\u001b[1;34m\u001b[0m\n\u001b[0;32m      1\u001b[0m \u001b[1;31m# vraca gresku ali u listi zatrazimo elementa koji je van indeksne granice npr list[100]\u001b[0m\u001b[1;33m\u001b[0m\u001b[1;33m\u001b[0m\u001b[1;33m\u001b[0m\u001b[0m\n\u001b[1;32m----> 2\u001b[1;33m \u001b[0mlista\u001b[0m\u001b[1;33m[\u001b[0m\u001b[1;36m100\u001b[0m\u001b[1;33m]\u001b[0m\u001b[1;33m\u001b[0m\u001b[1;33m\u001b[0m\u001b[0m\n\u001b[0m",
      "\u001b[1;31mIndexError\u001b[0m: list index out of range"
     ]
    }
   ],
   "source": [
    "# vraca gresku ali u listi zatrazimo elementa koji je van indeksne granice npr list[100]\n",
    "lista[100]"
   ]
  },
  {
   "cell_type": "code",
   "execution_count": 113,
   "metadata": {},
   "outputs": [],
   "source": [
    "lista=[2,4,12,5,73,57,234]"
   ]
  },
  {
   "cell_type": "code",
   "execution_count": 118,
   "metadata": {},
   "outputs": [
    {
     "data": {
      "text/plain": [
       "[2, 4, 5, 12, 57, 73, 234]"
      ]
     },
     "execution_count": 118,
     "metadata": {},
     "output_type": "execute_result"
    }
   ],
   "source": [
    "#sortiranje liste\n",
    "lista.sort()\n",
    "lista"
   ]
  },
  {
   "cell_type": "code",
   "execution_count": 119,
   "metadata": {},
   "outputs": [
    {
     "data": {
      "text/plain": [
       "[234, 73, 57, 12, 5, 4, 2]"
      ]
     },
     "execution_count": 119,
     "metadata": {},
     "output_type": "execute_result"
    }
   ],
   "source": [
    "#obrtanje liste\n",
    "lista.reverse()\n",
    "lista"
   ]
  },
  {
   "cell_type": "code",
   "execution_count": 121,
   "metadata": {},
   "outputs": [
    {
     "data": {
      "text/plain": [
       "[[1, 2, 3], [4, 5, 6], [7, 8, 9]]"
      ]
     },
     "execution_count": 121,
     "metadata": {},
     "output_type": "execute_result"
    }
   ],
   "source": [
    "#ugnjezdavanje liste\n",
    "\n",
    "lst1=[1,2,3]\n",
    "lst2=[4,5,6]\n",
    "lst3=[7,8,9]\n",
    "\n",
    "#matrica\n",
    "matrica=[lst1,lst2,lst3]\n",
    "matrica"
   ]
  },
  {
   "cell_type": "code",
   "execution_count": 125,
   "metadata": {},
   "outputs": [
    {
     "data": {
      "text/plain": [
       "([4, 5, 6], 5)"
      ]
     },
     "execution_count": 125,
     "metadata": {},
     "output_type": "execute_result"
    }
   ],
   "source": [
    "#mozemo koristiti indeksiranje da bismo izvukli lement koji nam je potreban \n",
    "matrica[1],matrica[1][1]"
   ]
  },
  {
   "cell_type": "code",
   "execution_count": 126,
   "metadata": {},
   "outputs": [],
   "source": [
    "# lista comprehensions -  koristimo za brze formiranje i kreiranje liste"
   ]
  },
  {
   "cell_type": "code",
   "execution_count": 131,
   "metadata": {},
   "outputs": [
    {
     "data": {
      "text/plain": [
       "[1, 4, 7]"
      ]
     },
     "execution_count": 131,
     "metadata": {},
     "output_type": "execute_result"
    }
   ],
   "source": [
    "prva_kolona=[row[0] for row in matrica]\n",
    "prva_kolona"
   ]
  },
  {
   "cell_type": "markdown",
   "metadata": {},
   "source": [
    "## Recnici(Dictionaries)\n",
    "\n",
    "- konstrukcija recnika\n",
    "- pristupanje objektima iz recnika\n",
    "- ugnjezdavanje recnika\n",
    "- osnovne recnik metode"
   ]
  },
  {
   "cell_type": "code",
   "execution_count": 134,
   "metadata": {},
   "outputs": [
    {
     "data": {
      "text/plain": [
       "{'key1': 'vrednost1', 'key2': 'vrednost2'}"
      ]
     },
     "execution_count": 134,
     "metadata": {},
     "output_type": "execute_result"
    }
   ],
   "source": [
    "# konstrukcija recnika -  konstrukciju vrsimo pomocu {} zagrada i : znaka\n",
    "moj_recnik={\"key1\" : \"vrednost1\", \"key2\" : \"vrednost2\"}\n",
    "moj_recnik"
   ]
  },
  {
   "cell_type": "code",
   "execution_count": 135,
   "metadata": {},
   "outputs": [
    {
     "data": {
      "text/plain": [
       "'vrednost2'"
      ]
     },
     "execution_count": 135,
     "metadata": {},
     "output_type": "execute_result"
    }
   ],
   "source": [
    "# pristupanje elementima recnika\n",
    "moj_recnik[\"key2\"]"
   ]
  },
  {
   "cell_type": "code",
   "execution_count": 136,
   "metadata": {},
   "outputs": [
    {
     "data": {
      "text/plain": [
       "['prvi', 'drugi', 'treci']"
      ]
     },
     "execution_count": 136,
     "metadata": {},
     "output_type": "execute_result"
    }
   ],
   "source": [
    "#recnici su fleksibilni po pitanju podataka koje se skaldiste u njima\n",
    "recnik={\"key1\":123,\"key2\":[12,23,44],\"key3\":[\"prvi\",\"drugi\",\"treci\"]}\n",
    "recnik[\"key3\"]"
   ]
  },
  {
   "cell_type": "code",
   "execution_count": 137,
   "metadata": {},
   "outputs": [
    {
     "data": {
      "text/plain": [
       "'drugi'"
      ]
     },
     "execution_count": 137,
     "metadata": {},
     "output_type": "execute_result"
    }
   ],
   "source": [
    "#mozemo ovo dalje indeksiratu\n",
    "recnik[\"key3\"][1]"
   ]
  },
  {
   "cell_type": "code",
   "execution_count": 138,
   "metadata": {},
   "outputs": [
    {
     "data": {
      "text/plain": [
       "'DRUGI'"
      ]
     },
     "execution_count": 138,
     "metadata": {},
     "output_type": "execute_result"
    }
   ],
   "source": [
    "# i posto se je vracen sting mozemo koristi metode koje smo proucili\n",
    "recnik[\"key3\"][1].upper()"
   ]
  },
  {
   "cell_type": "code",
   "execution_count": 140,
   "metadata": {},
   "outputs": [
    {
     "data": {
      "text/plain": [
       "{'key1': -77, 'key2': [12, 23, 44], 'key3': ['prvi', 'drugi', 'treci']}"
      ]
     },
     "execution_count": 140,
     "metadata": {},
     "output_type": "execute_result"
    }
   ],
   "source": [
    "#mozemo uticati na elemente recika\n",
    "recnik[\"key1\"]=recnik[\"key1\"]-100\n",
    "recnik"
   ]
  },
  {
   "cell_type": "code",
   "execution_count": 141,
   "metadata": {},
   "outputs": [
    {
     "data": {
      "text/plain": [
       "34"
      ]
     },
     "execution_count": 141,
     "metadata": {},
     "output_type": "execute_result"
    }
   ],
   "source": [
    "# mozemo koristi i skracenju verziju += i -=\n",
    "recnik[\"key1\"]+=111\n",
    "recnik[\"key1\"]"
   ]
  },
  {
   "cell_type": "code",
   "execution_count": 142,
   "metadata": {},
   "outputs": [],
   "source": [
    "#mozemo kreirati novi key sa dodeljivanjem.\n",
    "# prazan recnik\n",
    "d={}"
   ]
  },
  {
   "cell_type": "code",
   "execution_count": 144,
   "metadata": {},
   "outputs": [
    {
     "data": {
      "text/plain": [
       "{'zivotinja': 'tigar', 'odgovor': 42}"
      ]
     },
     "execution_count": 144,
     "metadata": {},
     "output_type": "execute_result"
    }
   ],
   "source": [
    "d[\"zivotinja\"]=\"tigar\"\n",
    "d[\"odgovor\"]=42\n",
    "d"
   ]
  },
  {
   "cell_type": "code",
   "execution_count": 147,
   "metadata": {},
   "outputs": [
    {
     "data": {
      "text/plain": [
       "'vrednost'"
      ]
     },
     "execution_count": 147,
     "metadata": {},
     "output_type": "execute_result"
    }
   ],
   "source": [
    "#ugnjezdavanje recnika (recnik u recniku)\n",
    "\n",
    "d={\"key1\":{\"ugnjezdeni1\":{\"ugnjezdeni2\":\"vrednost\"}}}\n",
    "d[\"key1\"][\"ugnjezdeni1\"][\"ugnjezdeni2\"]"
   ]
  },
  {
   "cell_type": "markdown",
   "metadata": {},
   "source": [
    "## Nekoliko recnik metoda\n",
    "- .keys()\n",
    "- .values()\n",
    "- .items()\n"
   ]
  },
  {
   "cell_type": "code",
   "execution_count": 148,
   "metadata": {},
   "outputs": [],
   "source": [
    "#kreiranje recnika\n",
    "d = {'key1':1,'key2':2,'key3':3}"
   ]
  },
  {
   "cell_type": "code",
   "execution_count": 153,
   "metadata": {},
   "outputs": [
    {
     "data": {
      "text/plain": [
       "dict_keys(['key1', 'key2', 'key3'])"
      ]
     },
     "execution_count": 153,
     "metadata": {},
     "output_type": "execute_result"
    }
   ],
   "source": [
    "#metoda koja vraca sve kljuceve .keys()\n",
    "d.keys()"
   ]
  },
  {
   "cell_type": "code",
   "execution_count": 154,
   "metadata": {},
   "outputs": [
    {
     "data": {
      "text/plain": [
       "dict_values([1, 2, 3])"
      ]
     },
     "execution_count": 154,
     "metadata": {},
     "output_type": "execute_result"
    }
   ],
   "source": [
    "#metoda koja vraca sve vrednosti. values()\n",
    "d.values()"
   ]
  },
  {
   "cell_type": "code",
   "execution_count": 155,
   "metadata": {},
   "outputs": [
    {
     "data": {
      "text/plain": [
       "dict_items([('key1', 1), ('key2', 2), ('key3', 3)])"
      ]
     },
     "execution_count": 155,
     "metadata": {},
     "output_type": "execute_result"
    }
   ],
   "source": [
    "#metoda koja vraca sve vrednosti i kljuceve tako sto napravi tuple\n",
    "d.items()"
   ]
  },
  {
   "cell_type": "markdown",
   "metadata": {},
   "source": [
    "# Tuple\n",
    "\n",
    "slicni listama samo sto se ne mogu menjati\n",
    "\n",
    "- konstrukcija tupla\n",
    "- bazicn emetode na tuplovima \n",
    "- nepromeljivost\n",
    "- za sta kostistimo tuple"
   ]
  },
  {
   "cell_type": "code",
   "execution_count": 156,
   "metadata": {},
   "outputs": [],
   "source": [
    "#konstrukcija tupla\n",
    "t=(1,2,3)"
   ]
  },
  {
   "cell_type": "code",
   "execution_count": 157,
   "metadata": {},
   "outputs": [
    {
     "data": {
      "text/plain": [
       "3"
      ]
     },
     "execution_count": 157,
     "metadata": {},
     "output_type": "execute_result"
    }
   ],
   "source": [
    "#velicina tupla\n",
    "len(t)"
   ]
  },
  {
   "cell_type": "code",
   "execution_count": 158,
   "metadata": {},
   "outputs": [],
   "source": [
    "# mogucnost miksovanja elementa u tuplu\n",
    "t=(\"jedan\",4)"
   ]
  },
  {
   "cell_type": "code",
   "execution_count": 161,
   "metadata": {},
   "outputs": [
    {
     "data": {
      "text/plain": [
       "('jedan', 4)"
      ]
     },
     "execution_count": 161,
     "metadata": {},
     "output_type": "execute_result"
    }
   ],
   "source": [
    "# indeksiranje\n",
    "t[0],t[-1]"
   ]
  },
  {
   "cell_type": "markdown",
   "metadata": {},
   "source": [
    "## osnovne metode na tuplovima\n",
    "- .index()\n",
    "- .count()\n"
   ]
  },
  {
   "cell_type": "code",
   "execution_count": 163,
   "metadata": {},
   "outputs": [
    {
     "data": {
      "text/plain": [
       "0"
      ]
     },
     "execution_count": 163,
     "metadata": {},
     "output_type": "execute_result"
    }
   ],
   "source": [
    "t.index(\"jedan\") # vraca indeks trazenog elementa"
   ]
  },
  {
   "cell_type": "code",
   "execution_count": 164,
   "metadata": {},
   "outputs": [
    {
     "data": {
      "text/plain": [
       "0"
      ]
     },
     "execution_count": 164,
     "metadata": {},
     "output_type": "execute_result"
    }
   ],
   "source": [
    "t.count(\"one\") # prebrojva pojavljivanje elementa u tuplu"
   ]
  },
  {
   "cell_type": "markdown",
   "metadata": {},
   "source": [
    "## nepromeljivost"
   ]
  },
  {
   "cell_type": "code",
   "execution_count": 167,
   "metadata": {},
   "outputs": [
    {
     "ename": "TypeError",
     "evalue": "'tuple' object does not support item assignment",
     "output_type": "error",
     "traceback": [
      "\u001b[1;31m---------------------------------------------------------------------------\u001b[0m",
      "\u001b[1;31mTypeError\u001b[0m                                 Traceback (most recent call last)",
      "\u001b[1;32m<ipython-input-167-2efb3d1d3d3b>\u001b[0m in \u001b[0;36m<module>\u001b[1;34m\u001b[0m\n\u001b[1;32m----> 1\u001b[1;33m \u001b[0mt\u001b[0m\u001b[1;33m[\u001b[0m\u001b[1;36m0\u001b[0m\u001b[1;33m]\u001b[0m\u001b[1;33m=\u001b[0m\u001b[1;34m\"prvi\"\u001b[0m \u001b[1;31m#ne mozemo menljati vrednosti tupla\u001b[0m\u001b[1;33m\u001b[0m\u001b[1;33m\u001b[0m\u001b[0m\n\u001b[0m",
      "\u001b[1;31mTypeError\u001b[0m: 'tuple' object does not support item assignment"
     ]
    }
   ],
   "source": [
    "t[0]=\"prvi\" #ne mozemo menljati vrednosti tupla"
   ]
  },
  {
   "cell_type": "code",
   "execution_count": 168,
   "metadata": {},
   "outputs": [
    {
     "ename": "AttributeError",
     "evalue": "'tuple' object has no attribute 'append'",
     "output_type": "error",
     "traceback": [
      "\u001b[1;31m---------------------------------------------------------------------------\u001b[0m",
      "\u001b[1;31mAttributeError\u001b[0m                            Traceback (most recent call last)",
      "\u001b[1;32m<ipython-input-168-0c55c0335e4f>\u001b[0m in \u001b[0;36m<module>\u001b[1;34m\u001b[0m\n\u001b[1;32m----> 1\u001b[1;33m \u001b[0mt\u001b[0m\u001b[1;33m.\u001b[0m\u001b[0mappend\u001b[0m\u001b[1;33m(\u001b[0m\u001b[1;34m\"tri\"\u001b[0m\u001b[1;33m)\u001b[0m\u001b[1;33m\u001b[0m\u001b[1;33m\u001b[0m\u001b[0m\n\u001b[0m",
      "\u001b[1;31mAttributeError\u001b[0m: 'tuple' object has no attribute 'append'"
     ]
    }
   ],
   "source": [
    "t.append(\"tri\") #nemozemo dodavati ako u listama"
   ]
  },
  {
   "cell_type": "markdown",
   "metadata": {},
   "source": [
    "## koriscenje\n",
    "\n",
    "koristimo ih za neke stvari koje necemo menjati tokom tpogramiranje kako sto su imanea \n",
    "dana u nedelji"
   ]
  },
  {
   "cell_type": "markdown",
   "metadata": {},
   "source": [
    "# Skupovi i booleans"
   ]
  },
  {
   "cell_type": "markdown",
   "metadata": {},
   "source": [
    "### Skupovi\n",
    "to su neuredjeni i jedinstveni objekti u python-u. "
   ]
  },
  {
   "cell_type": "code",
   "execution_count": 172,
   "metadata": {},
   "outputs": [],
   "source": [
    "#konstrukcija\n",
    "x=set()"
   ]
  },
  {
   "cell_type": "code",
   "execution_count": 174,
   "metadata": {},
   "outputs": [
    {
     "data": {
      "text/plain": [
       "{1}"
      ]
     },
     "execution_count": 174,
     "metadata": {},
     "output_type": "execute_result"
    }
   ],
   "source": [
    "x.add(1)\n",
    "x\n"
   ]
  },
  {
   "cell_type": "code",
   "execution_count": 177,
   "metadata": {},
   "outputs": [
    {
     "data": {
      "text/plain": [
       "{1, 3}"
      ]
     },
     "execution_count": 177,
     "metadata": {},
     "output_type": "execute_result"
    }
   ],
   "source": [
    "#set sadrzi samo jedinstvene elemente\n",
    "x.add(3)\n",
    "x.add(1)\n",
    "x"
   ]
  },
  {
   "cell_type": "code",
   "execution_count": 179,
   "metadata": {},
   "outputs": [],
   "source": [
    "#koristimo set da precistimo listu koja ima ponavljajuce elemente\n",
    "lista=[1,1,3,4,5,6,7,87,88,1]"
   ]
  },
  {
   "cell_type": "code",
   "execution_count": 180,
   "metadata": {},
   "outputs": [
    {
     "data": {
      "text/plain": [
       "{1, 3, 4, 5, 6, 7, 87, 88}"
      ]
     },
     "execution_count": 180,
     "metadata": {},
     "output_type": "execute_result"
    }
   ],
   "source": [
    "set(lista)"
   ]
  },
  {
   "cell_type": "markdown",
   "metadata": {},
   "source": [
    "# boolean\n",
    "vrednosti true and false koje se mogu kodirati sa 1 i 0 i takodje sadrze slobodna mesta(placeholders) None"
   ]
  },
  {
   "cell_type": "code",
   "execution_count": 181,
   "metadata": {},
   "outputs": [],
   "source": [
    "a = True"
   ]
  },
  {
   "cell_type": "code",
   "execution_count": 182,
   "metadata": {},
   "outputs": [
    {
     "data": {
      "text/plain": [
       "True"
      ]
     },
     "execution_count": 182,
     "metadata": {},
     "output_type": "execute_result"
    }
   ],
   "source": [
    "a"
   ]
  },
  {
   "cell_type": "code",
   "execution_count": 183,
   "metadata": {},
   "outputs": [
    {
     "data": {
      "text/plain": [
       "False"
      ]
     },
     "execution_count": 183,
     "metadata": {},
     "output_type": "execute_result"
    }
   ],
   "source": [
    "# izbacenja vrednosti boolean\n",
    "1>2"
   ]
  },
  {
   "cell_type": "code",
   "execution_count": 184,
   "metadata": {},
   "outputs": [],
   "source": [
    "b = None"
   ]
  },
  {
   "cell_type": "code",
   "execution_count": 185,
   "metadata": {},
   "outputs": [
    {
     "name": "stdout",
     "output_type": "stream",
     "text": [
      "None\n"
     ]
    }
   ],
   "source": [
    "print(b)"
   ]
  },
  {
   "cell_type": "markdown",
   "metadata": {},
   "source": [
    "# Fajlovi"
   ]
  },
  {
   "cell_type": "markdown",
   "metadata": {},
   "source": [
    "# Otvaranje fajla"
   ]
  },
  {
   "cell_type": "code",
   "execution_count": 26,
   "metadata": {},
   "outputs": [
    {
     "ename": "FileNotFoundError",
     "evalue": "[Errno 2] No such file or directory: 'woops.txt'",
     "output_type": "error",
     "traceback": [
      "\u001b[1;31m---------------------------------------------------------------------------\u001b[0m",
      "\u001b[1;31mFileNotFoundError\u001b[0m                         Traceback (most recent call last)",
      "\u001b[1;32m<ipython-input-26-d5c351d4d9ad>\u001b[0m in \u001b[0;36m<module>\u001b[1;34m\u001b[0m\n\u001b[0;32m      1\u001b[0m \u001b[1;31m# koji se nalazi u istom direktorijumu kao i notbook.\u001b[0m\u001b[1;33m\u001b[0m\u001b[1;33m\u001b[0m\u001b[1;33m\u001b[0m\u001b[0m\n\u001b[1;32m----> 2\u001b[1;33m \u001b[0mmoj_fajl\u001b[0m\u001b[1;33m=\u001b[0m\u001b[0mopen\u001b[0m\u001b[1;33m(\u001b[0m\u001b[1;34m\"woops.txt\"\u001b[0m\u001b[1;33m)\u001b[0m\u001b[1;33m\u001b[0m\u001b[1;33m\u001b[0m\u001b[0m\n\u001b[0m\u001b[0;32m      3\u001b[0m \u001b[1;31m# dolazi do greske jer ie ovog dajle ne postoji u nasem direktorijumu\u001b[0m\u001b[1;33m\u001b[0m\u001b[1;33m\u001b[0m\u001b[1;33m\u001b[0m\u001b[0m\n",
      "\u001b[1;31mFileNotFoundError\u001b[0m: [Errno 2] No such file or directory: 'woops.txt'"
     ]
    }
   ],
   "source": [
    "# koji se nalazi u istom direktorijumu kao i notbook.\n",
    "moj_fajl=open(\"woops.txt\")\n",
    "# dolazi do greske jer ie ovog dajle ne postoji u nasem direktorijumu"
   ]
  },
  {
   "cell_type": "code",
   "execution_count": 18,
   "metadata": {},
   "outputs": [
    {
     "data": {
      "text/plain": [
       "'C:\\\\Users\\\\MarioX\\\\Desktop\\\\python re-learning'"
      ]
     },
     "execution_count": 18,
     "metadata": {},
     "output_type": "execute_result"
    }
   ],
   "source": [
    "pwd #nam govori u ojem trenutno direktoriju radimo"
   ]
  },
  {
   "cell_type": "code",
   "execution_count": 20,
   "metadata": {},
   "outputs": [],
   "source": [
    "moj_fajl=open('test.txt')"
   ]
  },
  {
   "cell_type": "code",
   "execution_count": 21,
   "metadata": {},
   "outputs": [
    {
     "data": {
      "text/plain": [
       "'Hello, ovo je moj prvi fajl.\\novo je DRUGA linija mog fajla\\novo je TRECA linija mog fajla\\novo je CETVRTA linija mog fajla'"
      ]
     },
     "execution_count": 21,
     "metadata": {},
     "output_type": "execute_result"
    }
   ],
   "source": [
    "#sada mozemo citati fajl\n",
    "moj_fajl.read()"
   ]
  },
  {
   "cell_type": "code",
   "execution_count": 14,
   "metadata": {},
   "outputs": [
    {
     "data": {
      "text/plain": [
       "''"
      ]
     },
     "execution_count": 14,
     "metadata": {},
     "output_type": "execute_result"
    }
   ],
   "source": [
    "#ali kada hocemo da ponovi odradimo istu akciju \n",
    "moj_fajl.read()\n",
    "#ne dobiajmo povatnu inforamciju\n",
    "# ovo se desava jer je ciranje fajla kak povlacenje prsta preko recenice na kraju teksata\n",
    "# nema vise recenica pa nam \"prst\" ostaje tamo gde je i bio moramo resetovati"
   ]
  },
  {
   "cell_type": "code",
   "execution_count": 16,
   "metadata": {},
   "outputs": [
    {
     "data": {
      "text/plain": [
       "0"
      ]
     },
     "execution_count": 16,
     "metadata": {},
     "output_type": "execute_result"
    }
   ],
   "source": [
    "# resetujemo pokazivac(prst) na pocetak\n",
    "moj_fajl.seek(0)"
   ]
  },
  {
   "cell_type": "code",
   "execution_count": 17,
   "metadata": {},
   "outputs": [
    {
     "data": {
      "text/plain": [
       "'Hello, ovo je moj prvi fajl.'"
      ]
     },
     "execution_count": 17,
     "metadata": {},
     "output_type": "execute_result"
    }
   ],
   "source": [
    "moj_fajl.read()"
   ]
  },
  {
   "cell_type": "code",
   "execution_count": 22,
   "metadata": {},
   "outputs": [
    {
     "data": {
      "text/plain": [
       "['Hello, ovo je moj prvi fajl.\\n',\n",
       " 'ovo je DRUGA linija mog fajla\\n',\n",
       " 'ovo je TRECA linija mog fajla\\n',\n",
       " 'ovo je CETVRTA linija mog fajla']"
      ]
     },
     "execution_count": 22,
     "metadata": {},
     "output_type": "execute_result"
    }
   ],
   "source": [
    "# citanje fajla moze se izvrsiti linija po liniju\n",
    "moj_fajl.seek(0)\n",
    "moj_fajl.readlines()"
   ]
  },
  {
   "cell_type": "code",
   "execution_count": 23,
   "metadata": {},
   "outputs": [],
   "source": [
    "#zatvranje fajla\n",
    "moj_fajl.close()"
   ]
  },
  {
   "cell_type": "markdown",
   "metadata": {},
   "source": [
    "# Upisivanje u fajl\n",
    "\n",
    "open()- funkcija nam samo omogucava da citamo iz tog fajla. Da bismo pisali u isti fajl moramo proslediti i parametar \"w\"\n",
    "\n"
   ]
  },
  {
   "cell_type": "code",
   "execution_count": 30,
   "metadata": {},
   "outputs": [],
   "source": [
    "#dodavanje drugog argumenta u funkciju \"w\" -koji nam stoji za pisanje\n",
    "# ili dodavanjem modifikaciji kao sto je \"w+\" - koja nam govori pisi i citaj iz itog fajla\n",
    "\n",
    "moj_fajl=open(\"test.txt\",\"w+\")"
   ]
  },
  {
   "cell_type": "code",
   "execution_count": 29,
   "metadata": {},
   "outputs": [
    {
     "data": {
      "text/plain": [
       "''"
      ]
     },
     "execution_count": 29,
     "metadata": {},
     "output_type": "execute_result"
    }
   ],
   "source": [
    "#!!!! napomena je u tome da svaki put kada se pozove ovako open() tada se brise sve sto je vec u tim fajlovima\n",
    "moj_fajl.read()"
   ]
  },
  {
   "cell_type": "code",
   "execution_count": 31,
   "metadata": {},
   "outputs": [
    {
     "data": {
      "text/plain": [
       "24"
      ]
     },
     "execution_count": 31,
     "metadata": {},
     "output_type": "execute_result"
    }
   ],
   "source": [
    "#upisaivanje u fajl \n",
    "moj_fajl.write(\"Ovo je prvi pisana fajl.\")"
   ]
  },
  {
   "cell_type": "code",
   "execution_count": 33,
   "metadata": {},
   "outputs": [
    {
     "data": {
      "text/plain": [
       "'Ovo je prvi pisana fajl.'"
      ]
     },
     "execution_count": 33,
     "metadata": {},
     "output_type": "execute_result"
    }
   ],
   "source": [
    "moj_fajl.seek(0) #vracenja kursora na pocetak\n",
    "moj_fajl.read()  # citanje iz fajla"
   ]
  },
  {
   "cell_type": "code",
   "execution_count": 34,
   "metadata": {},
   "outputs": [],
   "source": [
    "moj_fajl.close() # zatvaranje istog"
   ]
  },
  {
   "cell_type": "markdown",
   "metadata": {},
   "source": [
    "# Dodavanje na postojeci fajl\n",
    "\n",
    "prosledjivanje argumenta \"a\" prlikom otvaranja fajla na m omogucuje da sve sto se dodatno ispisuje ispisuje se na karaj \n",
    "naseg fajla. I slicno ako fajl ne postoji kako sto je bilo kod \"w\" i \"w+\" samo ce stvoriti novi saj sa timn imenom"
   ]
  },
  {
   "cell_type": "code",
   "execution_count": 37,
   "metadata": {},
   "outputs": [
    {
     "data": {
      "text/plain": [
       "22"
      ]
     },
     "execution_count": 37,
     "metadata": {},
     "output_type": "execute_result"
    }
   ],
   "source": [
    "moj_fajl=open(\"test.txt\",\"a+\")\n",
    "moj_fajl.write(\"\\nOvoje moj drugi fajl i ovo ce biti dopisano.\")\n",
    "moj_fajl.write(\"\\nSlecei dopisani red!.\")\n"
   ]
  },
  {
   "cell_type": "code",
   "execution_count": 38,
   "metadata": {},
   "outputs": [
    {
     "data": {
      "text/plain": [
       "['Ovo je prvi pisana fajl.\\n',\n",
       " 'Ovoje moj drugi fajl i ovo ce biti dopisano.\\\\Slecei dopisani red!.\\n',\n",
       " 'Ovoje moj drugi fajl i ovo ce biti dopisano.\\n',\n",
       " 'Slecei dopisani red!.']"
      ]
     },
     "execution_count": 38,
     "metadata": {},
     "output_type": "execute_result"
    }
   ],
   "source": [
    "moj_fajl.seek(0)\n",
    "moj_fajl.readlines()"
   ]
  },
  {
   "cell_type": "code",
   "execution_count": 39,
   "metadata": {},
   "outputs": [],
   "source": [
    "moj_fajl.close()"
   ]
  },
  {
   "cell_type": "code",
   "execution_count": 40,
   "metadata": {},
   "outputs": [
    {
     "name": "stdout",
     "output_type": "stream",
     "text": [
      "Ovo je prvi pisana fajl.\n",
      "\n",
      "Ovoje moj drugi fajl i ovo ce biti dopisano.\\Slecei dopisani red!.\n",
      "\n",
      "Ovoje moj drugi fajl i ovo ce biti dopisano.\n",
      "\n",
      "Slecei dopisani red!.\n"
     ]
    }
   ],
   "source": [
    "# mozemo koristiti petlje da bismo rekli programu da prodje kroz svaki red naseg fajla i da odradi neki posao \n",
    "for line in open(\"test.txt\"):\n",
    "    print(line)"
   ]
  },
  {
   "cell_type": "markdown",
   "metadata": {},
   "source": [
    "# Komperison operatori\n",
    "\n",
    "- \"==\"\n",
    "- \"!=\"\n",
    "- \">\"\n",
    "- \"<\"\n",
    "- \"<=\"\n",
    "- \">=\"\n",
    "- \"and\"\n",
    "- \"or\"\n",
    "- \"not\""
   ]
  },
  {
   "cell_type": "code",
   "execution_count": 41,
   "metadata": {},
   "outputs": [
    {
     "data": {
      "text/plain": [
       "True"
      ]
     },
     "execution_count": 41,
     "metadata": {},
     "output_type": "execute_result"
    }
   ],
   "source": [
    "2==2"
   ]
  },
  {
   "cell_type": "code",
   "execution_count": 42,
   "metadata": {},
   "outputs": [
    {
     "data": {
      "text/plain": [
       "False"
      ]
     },
     "execution_count": 42,
     "metadata": {},
     "output_type": "execute_result"
    }
   ],
   "source": [
    "1==0"
   ]
  },
  {
   "cell_type": "code",
   "execution_count": 43,
   "metadata": {},
   "outputs": [
    {
     "data": {
      "text/plain": [
       "True"
      ]
     },
     "execution_count": 43,
     "metadata": {},
     "output_type": "execute_result"
    }
   ],
   "source": [
    "2!=4"
   ]
  },
  {
   "cell_type": "code",
   "execution_count": 45,
   "metadata": {},
   "outputs": [
    {
     "data": {
      "text/plain": [
       "False"
      ]
     },
     "execution_count": 45,
     "metadata": {},
     "output_type": "execute_result"
    }
   ],
   "source": [
    "1!=1"
   ]
  },
  {
   "cell_type": "code",
   "execution_count": 46,
   "metadata": {},
   "outputs": [
    {
     "data": {
      "text/plain": [
       "True"
      ]
     },
     "execution_count": 46,
     "metadata": {},
     "output_type": "execute_result"
    }
   ],
   "source": [
    "2>1"
   ]
  },
  {
   "cell_type": "code",
   "execution_count": 47,
   "metadata": {},
   "outputs": [
    {
     "data": {
      "text/plain": [
       "False"
      ]
     },
     "execution_count": 47,
     "metadata": {},
     "output_type": "execute_result"
    }
   ],
   "source": [
    "3>6"
   ]
  },
  {
   "cell_type": "code",
   "execution_count": 48,
   "metadata": {},
   "outputs": [
    {
     "data": {
      "text/plain": [
       "True"
      ]
     },
     "execution_count": 48,
     "metadata": {},
     "output_type": "execute_result"
    }
   ],
   "source": [
    "4>=4"
   ]
  },
  {
   "cell_type": "code",
   "execution_count": 49,
   "metadata": {},
   "outputs": [
    {
     "data": {
      "text/plain": [
       "True"
      ]
     },
     "execution_count": 49,
     "metadata": {},
     "output_type": "execute_result"
    }
   ],
   "source": [
    "4>=2"
   ]
  },
  {
   "cell_type": "code",
   "execution_count": 51,
   "metadata": {},
   "outputs": [
    {
     "data": {
      "text/plain": [
       "True"
      ]
     },
     "execution_count": 51,
     "metadata": {},
     "output_type": "execute_result"
    }
   ],
   "source": [
    "# Lancanje komparison operatora\n",
    "1<2<3"
   ]
  },
  {
   "cell_type": "code",
   "execution_count": 52,
   "metadata": {},
   "outputs": [
    {
     "data": {
      "text/plain": [
       "True"
      ]
     },
     "execution_count": 52,
     "metadata": {},
     "output_type": "execute_result"
    }
   ],
   "source": [
    "1<2 and 2<4"
   ]
  },
  {
   "cell_type": "code",
   "execution_count": 53,
   "metadata": {},
   "outputs": [
    {
     "data": {
      "text/plain": [
       "True"
      ]
     },
     "execution_count": 53,
     "metadata": {},
     "output_type": "execute_result"
    }
   ],
   "source": [
    "1<3>2"
   ]
  },
  {
   "cell_type": "code",
   "execution_count": 54,
   "metadata": {},
   "outputs": [
    {
     "data": {
      "text/plain": [
       "True"
      ]
     },
     "execution_count": 54,
     "metadata": {},
     "output_type": "execute_result"
    }
   ],
   "source": [
    "1<3 and 3>2"
   ]
  },
  {
   "cell_type": "code",
   "execution_count": 56,
   "metadata": {},
   "outputs": [
    {
     "data": {
      "text/plain": [
       "True"
      ]
     },
     "execution_count": 56,
     "metadata": {},
     "output_type": "execute_result"
    }
   ],
   "source": [
    "1==2 or 4==4"
   ]
  },
  {
   "cell_type": "markdown",
   "metadata": {},
   "source": [
    "# Python petlje\n",
    "\n",
    "- for\n",
    "- while\n",
    "- if ifelse else"
   ]
  },
  {
   "cell_type": "markdown",
   "metadata": {},
   "source": [
    "# If, elif,else petalja\n",
    "\n",
    "\n",
    "        if case1:\n",
    "            perform action1\n",
    "        elif case2:\n",
    "            perform action2\n",
    "        else: \n",
    "            perform action3"
   ]
  },
  {
   "cell_type": "code",
   "execution_count": 1,
   "metadata": {},
   "outputs": [
    {
     "name": "stdout",
     "output_type": "stream",
     "text": [
      "ovo je tacno!\n"
     ]
    }
   ],
   "source": [
    "if True:\n",
    "    print(\"ovo je tacno!\")"
   ]
  },
  {
   "cell_type": "code",
   "execution_count": 5,
   "metadata": {},
   "outputs": [
    {
     "name": "stdout",
     "output_type": "stream",
     "text": [
      "Ovo nije tacno\n"
     ]
    }
   ],
   "source": [
    "x=False\n",
    "if x:\n",
    "    prinf(\"ovo je tacno\")\n",
    "else:\n",
    "    print(\"Ovo nije tacno\")"
   ]
  },
  {
   "cell_type": "code",
   "execution_count": 7,
   "metadata": {},
   "outputs": [
    {
     "name": "stdout",
     "output_type": "stream",
     "text": [
      "Gde si ti?\n"
     ]
    }
   ],
   "source": [
    "#Visestruko granjanje\n",
    "\n",
    "loc=\"Banska\"\n",
    "if loc==\"auto radnja\":\n",
    "    print(\"Dobrodosli u auto radnju\")\n",
    "elif loc==\"Banka\":\n",
    "    print(\"Dobro dosli u Banku\")\n",
    "else:\n",
    "    print(\"Gde si ti?\")"
   ]
  },
  {
   "cell_type": "code",
   "execution_count": 9,
   "metadata": {},
   "outputs": [
    {
     "name": "stdout",
     "output_type": "stream",
     "text": [
      "Dobar dan Semy\n"
     ]
    }
   ],
   "source": [
    "Osoba=\"Semy\"\n",
    "if Osoba==\"Semy\":\n",
    "    print(\"Dobar dan Semy\")\n",
    "else:\n",
    "    print(\"Dobar dan, kako se vase ime?\")"
   ]
  },
  {
   "cell_type": "markdown",
   "metadata": {},
   "source": [
    "# For petlja\n",
    "\n",
    "\n",
    "\n",
    "        for itam in object:\n",
    "                statements to do staff"
   ]
  },
  {
   "cell_type": "code",
   "execution_count": 14,
   "metadata": {},
   "outputs": [],
   "source": [
    "#stampanje liste brojeva\n",
    "lista1=[1,2,3,4,5,6,7,8,9,10]"
   ]
  },
  {
   "cell_type": "code",
   "execution_count": 15,
   "metadata": {},
   "outputs": [
    {
     "name": "stdout",
     "output_type": "stream",
     "text": [
      "1\n",
      "2\n",
      "3\n",
      "4\n",
      "5\n",
      "6\n",
      "7\n",
      "8\n",
      "9\n",
      "10\n"
     ]
    }
   ],
   "source": [
    "for broj in lista1:\n",
    "    print(broj)"
   ]
  },
  {
   "cell_type": "code",
   "execution_count": 17,
   "metadata": {},
   "outputs": [
    {
     "name": "stdout",
     "output_type": "stream",
     "text": [
      "neparni\n",
      "2\n",
      "neparni\n",
      "4\n",
      "neparni\n",
      "6\n",
      "neparni\n",
      "8\n",
      "neparni\n",
      "10\n"
     ]
    }
   ],
   "source": [
    "# stampati sve parne brojeve\n",
    "for broj in lista1:\n",
    "    if broj%2==0:\n",
    "        print(broj)\n",
    "    else:\n",
    "        print(\"neparni\")"
   ]
  },
  {
   "cell_type": "code",
   "execution_count": 22,
   "metadata": {},
   "outputs": [
    {
     "name": "stdout",
     "output_type": "stream",
     "text": [
      "55\n"
     ]
    }
   ],
   "source": [
    "#sumiranje\n",
    "suma=0\n",
    "for broj in lista1:\n",
    "    suma+=broj\n",
    "print(suma)"
   ]
  },
  {
   "cell_type": "code",
   "execution_count": 26,
   "metadata": {},
   "outputs": [
    {
     "name": "stdout",
     "output_type": "stream",
     "text": [
      "izbaceno\n",
      "v\n",
      "izbaceno\n",
      " \n",
      "j\n",
      "e\n",
      " \n",
      "m\n",
      "izbaceno\n",
      "j\n",
      " \n",
      "s\n",
      "izbaceno\n",
      "r\n",
      "i\n",
      "n\n",
      "g\n",
      " \n",
      "k\n",
      "izbaceno\n",
      "j\n",
      "i\n",
      " \n",
      "s\n",
      "u\n",
      " \n",
      "izbaceno\n",
      "s\n",
      "izbaceno\n",
      "a\n",
      "m\n",
      "p\n",
      "a\n",
      "izbaceno\n",
      "i\n"
     ]
    }
   ],
   "source": [
    "# stampanje sliva iz stringa\n",
    "string=\"ovo je moj string koji su ostampati\"\n",
    "for slovo in string:\n",
    "    if slovo not in [\"o\",\"t\"]:\n",
    "        print(slovo)\n",
    "    else:\n",
    "        print(\"izbaceno\")"
   ]
  },
  {
   "cell_type": "code",
   "execution_count": 31,
   "metadata": {},
   "outputs": [
    {
     "name": "stdout",
     "output_type": "stream",
     "text": [
      "1 - 2 - 3 - 4 - 5 - "
     ]
    }
   ],
   "source": [
    "#Koriscenjr za tupl\n",
    "tup=(1,2,3,4,5)\n",
    "\n",
    "for t in tup:\n",
    "    print(t, end=\" - \")"
   ]
  },
  {
   "cell_type": "code",
   "execution_count": 32,
   "metadata": {},
   "outputs": [],
   "source": [
    "#otpakivanje tupla!\n",
    "\n",
    "lista2=[(1,2),(3,4),(5,6)]"
   ]
  },
  {
   "cell_type": "code",
   "execution_count": 33,
   "metadata": {},
   "outputs": [
    {
     "name": "stdout",
     "output_type": "stream",
     "text": [
      "(1, 2)\n",
      "(3, 4)\n",
      "(5, 6)\n"
     ]
    }
   ],
   "source": [
    "for tup in lista2:\n",
    "    print(tup)"
   ]
  },
  {
   "cell_type": "code",
   "execution_count": 34,
   "metadata": {},
   "outputs": [
    {
     "name": "stdout",
     "output_type": "stream",
     "text": [
      "2\n",
      "4\n",
      "6\n"
     ]
    }
   ],
   "source": [
    "#sada ga otpakujemo mozemo izvuci x ili y iz (x,y)\n",
    "\n",
    "for (t1,t2) in lista2:\n",
    "    print(t2)"
   ]
  },
  {
   "cell_type": "code",
   "execution_count": 35,
   "metadata": {},
   "outputs": [],
   "source": [
    "# rad sa recnicima\n",
    "\n",
    "d={\"k1\":1,\"k2\":2,\"k3\":3}"
   ]
  },
  {
   "cell_type": "code",
   "execution_count": 36,
   "metadata": {},
   "outputs": [
    {
     "name": "stdout",
     "output_type": "stream",
     "text": [
      "k1\n",
      "k2\n",
      "k3\n"
     ]
    }
   ],
   "source": [
    "#po difoltu stampa kljuceve\n",
    "for elem in d:\n",
    "    print(elem)"
   ]
  },
  {
   "cell_type": "code",
   "execution_count": 38,
   "metadata": {},
   "outputs": [
    {
     "name": "stdout",
     "output_type": "stream",
     "text": [
      "1\n",
      "2\n",
      "3\n"
     ]
    }
   ],
   "source": [
    "for elem in d.values(): \n",
    "    print(elem)#stampa nam vrednosti"
   ]
  },
  {
   "cell_type": "code",
   "execution_count": 39,
   "metadata": {},
   "outputs": [
    {
     "name": "stdout",
     "output_type": "stream",
     "text": [
      "('k1', 1)\n",
      "('k2', 2)\n",
      "('k3', 3)\n"
     ]
    }
   ],
   "source": [
    "for elem in d.items(): # .items() pravi puple pa mozemo da radimo otpakivanje\n",
    "     print(elem)"
   ]
  },
  {
   "cell_type": "code",
   "execution_count": 40,
   "metadata": {},
   "outputs": [
    {
     "name": "stdout",
     "output_type": "stream",
     "text": [
      "1\n",
      "2\n",
      "3\n"
     ]
    }
   ],
   "source": [
    "for (kljuc,vrednost) in d.items():\n",
    "    print(vrednost)"
   ]
  },
  {
   "cell_type": "code",
   "execution_count": 47,
   "metadata": {},
   "outputs": [
    {
     "data": {
      "text/plain": [
       "['k1', 'k2', 'k3']"
      ]
     },
     "execution_count": 47,
     "metadata": {},
     "output_type": "execute_result"
    }
   ],
   "source": [
    "#sve kao i uvek mozemo ubaciti u listu\n",
    "list(d.keys())"
   ]
  },
  {
   "cell_type": "markdown",
   "metadata": {},
   "source": [
    "# While petlja\n",
    "\n",
    "            while test:\n",
    "                  code statements\n",
    "            else:\n",
    "                  final code statements"
   ]
  },
  {
   "cell_type": "code",
   "execution_count": 48,
   "metadata": {},
   "outputs": [
    {
     "name": "stdout",
     "output_type": "stream",
     "text": [
      "trenitno x je:  0\n",
      "x je i dalje manje od 10, pa dodajem jedan (+1)\n",
      "trenitno x je:  1\n",
      "x je i dalje manje od 10, pa dodajem jedan (+1)\n",
      "trenitno x je:  2\n",
      "x je i dalje manje od 10, pa dodajem jedan (+1)\n",
      "trenitno x je:  3\n",
      "x je i dalje manje od 10, pa dodajem jedan (+1)\n",
      "trenitno x je:  4\n",
      "x je i dalje manje od 10, pa dodajem jedan (+1)\n",
      "trenitno x je:  5\n",
      "x je i dalje manje od 10, pa dodajem jedan (+1)\n",
      "trenitno x je:  6\n",
      "x je i dalje manje od 10, pa dodajem jedan (+1)\n",
      "trenitno x je:  7\n",
      "x je i dalje manje od 10, pa dodajem jedan (+1)\n",
      "trenitno x je:  8\n",
      "x je i dalje manje od 10, pa dodajem jedan (+1)\n",
      "trenitno x je:  9\n",
      "x je i dalje manje od 10, pa dodajem jedan (+1)\n"
     ]
    }
   ],
   "source": [
    "x = 0\n",
    "while x<10:\n",
    "    print(\"trenitno x je: \",x)\n",
    "    print(\"x je i dalje manje od 10, pa dodajem jedan (+1)\")\n",
    "    x+=1"
   ]
  },
  {
   "cell_type": "code",
   "execution_count": 49,
   "metadata": {},
   "outputs": [
    {
     "name": "stdout",
     "output_type": "stream",
     "text": [
      "trenitno x je:  0\n",
      "x je i dalje manje od 10, pa dodajem jedan (+1)\n",
      "trenitno x je:  1\n",
      "x je i dalje manje od 10, pa dodajem jedan (+1)\n",
      "trenitno x je:  2\n",
      "x je i dalje manje od 10, pa dodajem jedan (+1)\n",
      "trenitno x je:  3\n",
      "x je i dalje manje od 10, pa dodajem jedan (+1)\n",
      "trenitno x je:  4\n",
      "x je i dalje manje od 10, pa dodajem jedan (+1)\n",
      "trenitno x je:  5\n",
      "x je i dalje manje od 10, pa dodajem jedan (+1)\n",
      "trenitno x je:  6\n",
      "x je i dalje manje od 10, pa dodajem jedan (+1)\n",
      "trenitno x je:  7\n",
      "x je i dalje manje od 10, pa dodajem jedan (+1)\n",
      "trenitno x je:  8\n",
      "x je i dalje manje od 10, pa dodajem jedan (+1)\n",
      "trenitno x je:  9\n",
      "x je i dalje manje od 10, pa dodajem jedan (+1)\n",
      "sve odradjeno\n"
     ]
    }
   ],
   "source": [
    "x = 0\n",
    "while x<10:\n",
    "    print(\"trenitno x je: \",x)\n",
    "    print(\"x je i dalje manje od 10, pa dodajem jedan (+1)\")\n",
    "    x+=1\n",
    "else:\n",
    "    print(\"sve odradjeno\")"
   ]
  },
  {
   "cell_type": "markdown",
   "metadata": {},
   "source": [
    "# Break, Continue, Pass\n",
    "\n",
    "break- izlazi iz trenutr petlje<br>\n",
    "continue - odlazi do vrha trenutne petlje<br> \n",
    "pass - ne radi nista<br>\n",
    "\n",
    "razmislajte o break and continue kao o while petlje\n",
    "\n",
    "\n",
    "        while test:\n",
    "            code statement\n",
    "            if test:\n",
    "                break\n",
    "            if test:\n",
    "                continue\n",
    "        else:"
   ]
  },
  {
   "cell_type": "code",
   "execution_count": 51,
   "metadata": {},
   "outputs": [
    {
     "name": "stdout",
     "output_type": "stream",
     "text": [
      "trenitno x je:  0\n",
      "x je i dalje manje od 10, pa dodajem jedan (+1)\n",
      "continuing....\n",
      "trenitno x je:  1\n",
      "x je i dalje manje od 10, pa dodajem jedan (+1)\n",
      "continuing....\n",
      "trenitno x je:  2\n",
      "x je i dalje manje od 10, pa dodajem jedan (+1)\n",
      "x==3\n",
      "trenitno x je:  3\n",
      "x je i dalje manje od 10, pa dodajem jedan (+1)\n",
      "continuing....\n",
      "trenitno x je:  4\n",
      "x je i dalje manje od 10, pa dodajem jedan (+1)\n",
      "continuing....\n",
      "trenitno x je:  5\n",
      "x je i dalje manje od 10, pa dodajem jedan (+1)\n",
      "continuing....\n",
      "trenitno x je:  6\n",
      "x je i dalje manje od 10, pa dodajem jedan (+1)\n",
      "continuing....\n",
      "trenitno x je:  7\n",
      "x je i dalje manje od 10, pa dodajem jedan (+1)\n",
      "continuing....\n",
      "trenitno x je:  8\n",
      "x je i dalje manje od 10, pa dodajem jedan (+1)\n",
      "continuing....\n",
      "trenitno x je:  9\n",
      "x je i dalje manje od 10, pa dodajem jedan (+1)\n",
      "continuing....\n"
     ]
    }
   ],
   "source": [
    "x=0\n",
    "while x<10:\n",
    "    print(\"trenitno x je: \",x)\n",
    "    print(\"x je i dalje manje od 10, pa dodajem jedan (+1)\")\n",
    "    x+=1\n",
    "    if x == 3:\n",
    "        print(\"x==3\")\n",
    "    else:\n",
    "        print(\"continuing....\")\n",
    "        continue"
   ]
  },
  {
   "cell_type": "code",
   "execution_count": 52,
   "metadata": {},
   "outputs": [
    {
     "name": "stdout",
     "output_type": "stream",
     "text": [
      "trenitno x je:  0\n",
      "x je i dalje manje od 10, pa dodajem jedan (+1)\n",
      "continuing....\n",
      "trenitno x je:  1\n",
      "x je i dalje manje od 10, pa dodajem jedan (+1)\n",
      "continuing....\n",
      "trenitno x je:  2\n",
      "x je i dalje manje od 10, pa dodajem jedan (+1)\n",
      "Predidamo zato sto je x==3\n"
     ]
    }
   ],
   "source": [
    "#iskoristimo sada break\n",
    "x=0\n",
    "while x<10:\n",
    "    print(\"trenitno x je: \",x)\n",
    "    print(\"x je i dalje manje od 10, pa dodajem jedan (+1)\")\n",
    "    x+=1\n",
    "    if x == 3:\n",
    "        print(\"Predidamo zato sto je x==3\")\n",
    "        break\n",
    "    else:\n",
    "        print(\"continuing....\")\n",
    "        continue"
   ]
  },
  {
   "cell_type": "markdown",
   "metadata": {},
   "source": [
    "# Korisni Operatori \n",
    "\n",
    "- range()\n",
    "- enumerate()\n",
    "- zip()\n",
    "- in \n",
    "- min & max\n",
    "- random - > shaffle, randint \n",
    "- input "
   ]
  },
  {
   "cell_type": "code",
   "execution_count": 81,
   "metadata": {},
   "outputs": [
    {
     "data": {
      "text/plain": [
       "[1, 2, 3, 4, 5, 6, 7, 8, 9]"
      ]
     },
     "execution_count": 81,
     "metadata": {},
     "output_type": "execute_result"
    }
   ],
   "source": [
    "# range - brzo generisanje liste celih brojeva range([start, stop[, step)\n",
    "list(range(1,10))"
   ]
  },
  {
   "cell_type": "code",
   "execution_count": 61,
   "metadata": {},
   "outputs": [
    {
     "data": {
      "text/plain": [
       "[1, 3, 5, 7, 9]"
      ]
     },
     "execution_count": 61,
     "metadata": {},
     "output_type": "execute_result"
    }
   ],
   "source": [
    "list(range(1,10,2))\n"
   ]
  },
  {
   "cell_type": "code",
   "execution_count": 62,
   "metadata": {},
   "outputs": [
    {
     "data": {
      "text/plain": [
       "[(0, 'a'), (1, 'b'), (2, 'c'), (3, 'd'), (4, 'e'), (5, 'f'), (6, 'g')]"
      ]
     },
     "execution_count": 62,
     "metadata": {},
     "output_type": "execute_result"
    }
   ],
   "source": [
    "# enumerate - koristi se sa petljama (koristimo ga da bismo ubili indeksiranje za pocetak)\n",
    "#najbolje je objasniti sa primerom -> enumerate vraca litu tuplova\n",
    "\n",
    "list(enumerate(\"abcdefg\"))"
   ]
  },
  {
   "cell_type": "code",
   "execution_count": 58,
   "metadata": {},
   "outputs": [
    {
     "name": "stdout",
     "output_type": "stream",
     "text": [
      "na poziciji 0 je slovo a\n",
      "na poziciji 1 je slovo b\n",
      "na poziciji 2 je slovo c\n",
      "na poziciji 3 je slovo d\n"
     ]
    }
   ],
   "source": [
    "index=0\n",
    "for slovo in \"abcd\":\n",
    "    print(f\"na poziciji {index} je slovo {slovo}\")\n",
    "    index+=1"
   ]
  },
  {
   "cell_type": "code",
   "execution_count": 63,
   "metadata": {},
   "outputs": [
    {
     "name": "stdout",
     "output_type": "stream",
     "text": [
      "na poziciji 0 je slovo a\n",
      "na poziciji 1 je slovo b\n",
      "na poziciji 2 je slovo c\n",
      "na poziciji 3 je slovo d\n",
      "na poziciji 4 je slovo e\n",
      "na poziciji 5 je slovo r\n"
     ]
    }
   ],
   "source": [
    "# brojenje koliko smo puta prosli koz petlju je veoma cesto u programiranju\n",
    "# pa zato mozemo to zemiti sa enumerate\n",
    "\n",
    "for i,slovo in enumerate(\"abcder\"):\n",
    "    print(f\"na poziciji {i} je slovo {slovo}\")"
   ]
  },
  {
   "cell_type": "code",
   "execution_count": 64,
   "metadata": {},
   "outputs": [],
   "source": [
    "#zip - mozemo koristiti da bismo spojali liste u tuplove, GENERATOR!\n",
    "\n",
    "list1=[1,2,3,4,5]\n",
    "list2=[\"a\",\"b\",\"c\",\"d\",\"e\"]"
   ]
  },
  {
   "cell_type": "code",
   "execution_count": 65,
   "metadata": {},
   "outputs": [
    {
     "data": {
      "text/plain": [
       "[(1, 'a'), (2, 'b'), (3, 'c'), (4, 'd'), (5, 'e')]"
      ]
     },
     "execution_count": 65,
     "metadata": {},
     "output_type": "execute_result"
    }
   ],
   "source": [
    "list(zip(list1,list2))"
   ]
  },
  {
   "cell_type": "code",
   "execution_count": 66,
   "metadata": {},
   "outputs": [
    {
     "name": "stdout",
     "output_type": "stream",
     "text": [
      "za ovaj tupl, prvi element je 1 drugi element je a\n",
      "za ovaj tupl, prvi element je 2 drugi element je b\n",
      "za ovaj tupl, prvi element je 3 drugi element je c\n",
      "za ovaj tupl, prvi element je 4 drugi element je d\n",
      "za ovaj tupl, prvi element je 5 drugi element je e\n"
     ]
    }
   ],
   "source": [
    "#mozemo ga koristiti u petljama\n",
    "for deo1, deo2 in zip(list1,list2):\n",
    "    print(f\"za ovaj tupl, prvi element je {deo1} drugi element je {deo2}\")"
   ]
  },
  {
   "cell_type": "code",
   "execution_count": 68,
   "metadata": {},
   "outputs": [
    {
     "data": {
      "text/plain": [
       "True"
      ]
     },
     "execution_count": 68,
     "metadata": {},
     "output_type": "execute_result"
    }
   ],
   "source": [
    "#IN operator je boolean operator koji proverava da li je nesto u listi i koristimo ga u petljama\n",
    "\"x\" in [1,\"b\",\"ab\",4.4,{\"a\":5},\"x\"]"
   ]
  },
  {
   "cell_type": "code",
   "execution_count": 69,
   "metadata": {},
   "outputs": [],
   "source": [
    "#min & max - vraca maksimum i minimum od neke liste\n",
    "moja_lista=[1,2,3,4,5,6,7]\n"
   ]
  },
  {
   "cell_type": "code",
   "execution_count": 70,
   "metadata": {},
   "outputs": [
    {
     "data": {
      "text/plain": [
       "(7, 1)"
      ]
     },
     "execution_count": 70,
     "metadata": {},
     "output_type": "execute_result"
    }
   ],
   "source": [
    "max(moja_lista), min(moja_lista)"
   ]
  },
  {
   "cell_type": "code",
   "execution_count": 71,
   "metadata": {},
   "outputs": [],
   "source": [
    "list2=[\"a\",\"b\",\"c\",\"d\",\"e\"]"
   ]
  },
  {
   "cell_type": "code",
   "execution_count": 74,
   "metadata": {},
   "outputs": [
    {
     "data": {
      "text/plain": [
       "('e', 'a')"
      ]
     },
     "execution_count": 74,
     "metadata": {},
     "output_type": "execute_result"
    }
   ],
   "source": [
    " max(list2), min(list2) # leksigografsko uporedjivanje"
   ]
  },
  {
   "cell_type": "code",
   "execution_count": 75,
   "metadata": {},
   "outputs": [],
   "source": [
    "# random - veoam bitna biblioteka sa mnostvo funcija \n",
    "from random import shuffle"
   ]
  },
  {
   "cell_type": "code",
   "execution_count": 77,
   "metadata": {},
   "outputs": [
    {
     "data": {
      "text/plain": [
       "['a', 'd', 'b', 'c', 'e']"
      ]
     },
     "execution_count": 77,
     "metadata": {},
     "output_type": "execute_result"
    }
   ],
   "source": [
    "#shuffle - nam mesa nasu listu \"In-placa\" \n",
    "shuffle(list2)\n",
    "list2"
   ]
  },
  {
   "cell_type": "code",
   "execution_count": 78,
   "metadata": {},
   "outputs": [
    {
     "data": {
      "text/plain": [
       "[4, 5, 1, 2, 3]"
      ]
     },
     "execution_count": 78,
     "metadata": {},
     "output_type": "execute_result"
    }
   ],
   "source": [
    "shuffle(list1)\n",
    "list1"
   ]
  },
  {
   "cell_type": "code",
   "execution_count": 79,
   "metadata": {},
   "outputs": [
    {
     "data": {
      "text/plain": [
       "92"
      ]
     },
     "execution_count": 79,
     "metadata": {},
     "output_type": "execute_result"
    }
   ],
   "source": [
    "from random import randint\n",
    "#randint - izbaciej random broj iz zadatog intervala [a,b]\n",
    "\n",
    "randint(1,100)"
   ]
  },
  {
   "cell_type": "code",
   "execution_count": 80,
   "metadata": {},
   "outputs": [
    {
     "name": "stdout",
     "output_type": "stream",
     "text": [
      "Unesi neki ceo broj: a\n"
     ]
    },
    {
     "data": {
      "text/plain": [
       "'a'"
      ]
     },
     "execution_count": 80,
     "metadata": {},
     "output_type": "execute_result"
    }
   ],
   "source": [
    "# input - unos necega\n",
    "input(\"Unesi neki ceo broj: \")"
   ]
  },
  {
   "cell_type": "markdown",
   "metadata": {},
   "source": [
    "# List comprehensions\n",
    "\n",
    "omogucava nam da pravimo liste sa drugacijom notacijim"
   ]
  },
  {
   "cell_type": "code",
   "execution_count": 84,
   "metadata": {},
   "outputs": [
    {
     "data": {
      "text/plain": [
       "['s', 't', 'r', 'i', 'n', 'g']"
      ]
     },
     "execution_count": 84,
     "metadata": {},
     "output_type": "execute_result"
    }
   ],
   "source": [
    "#Izvodjiti svako drugo slova iz stringa\n",
    "lst=[slovo for slovo in \"string\"]\n",
    "lst"
   ]
  },
  {
   "cell_type": "markdown",
   "metadata": {},
   "source": [
    "notacija je matematicki poznata ako se prisetimo:\n",
    "\n",
    "x^2: x in {1,2,3,3,4}\n"
   ]
  },
  {
   "cell_type": "code",
   "execution_count": 89,
   "metadata": {},
   "outputs": [
    {
     "data": {
      "text/plain": [
       "[1, 4, 9, 16, 25, 36, 49, 64, 81]"
      ]
     },
     "execution_count": 89,
     "metadata": {},
     "output_type": "execute_result"
    }
   ],
   "source": [
    "# kvadriranje brojeva\n",
    "\n",
    "lis2=[x**2 for x in range(1,10) ]\n",
    "lis2"
   ]
  },
  {
   "cell_type": "code",
   "execution_count": 91,
   "metadata": {},
   "outputs": [
    {
     "data": {
      "text/plain": [
       "[0, 2, 4, 6, 8, 10]"
      ]
     },
     "execution_count": 91,
     "metadata": {},
     "output_type": "execute_result"
    }
   ],
   "source": [
    "#mozemo ubaciti i if u listu comperhensions\n",
    "# ovde se if postavlja na kraju\n",
    "\n",
    "lst=[x for x in range(11) if x%2==0]\n",
    "lst"
   ]
  },
  {
   "cell_type": "code",
   "execution_count": 92,
   "metadata": {},
   "outputs": [
    {
     "data": {
      "text/plain": [
       "[32.0, 50.0, 68.18, 94.1]"
      ]
     },
     "execution_count": 92,
     "metadata": {},
     "output_type": "execute_result"
    }
   ],
   "source": [
    "# konvertovanje celzijusa u faranhaj\n",
    "celsius=[0,10,20.1,34.5]\n",
    "\n",
    "faranhaj=[((9/5)*temp+32) for temp in celsius]\n",
    "\n",
    "faranhaj"
   ]
  },
  {
   "cell_type": "code",
   "execution_count": 94,
   "metadata": {},
   "outputs": [
    {
     "data": {
      "text/plain": [
       "[0, 1, 16, 81, 256, 625, 1296, 2401, 4096, 6561, 10000]"
      ]
     },
     "execution_count": 94,
     "metadata": {},
     "output_type": "execute_result"
    }
   ],
   "source": [
    "# mozemo takodje koristiti ugnmjezdenu listu\n",
    "\n",
    "lst=[x**2 for x in [x**2 for x in range(11)]]\n",
    "lst"
   ]
  },
  {
   "cell_type": "code",
   "execution_count": null,
   "metadata": {},
   "outputs": [],
   "source": []
  },
  {
   "cell_type": "code",
   "execution_count": null,
   "metadata": {},
   "outputs": [],
   "source": [
    "\n"
   ]
  }
 ],
 "metadata": {
  "kernelspec": {
   "display_name": "Python 3",
   "language": "python",
   "name": "python3"
  },
  "language_info": {
   "codemirror_mode": {
    "name": "ipython",
    "version": 3
   },
   "file_extension": ".py",
   "mimetype": "text/x-python",
   "name": "python",
   "nbconvert_exporter": "python",
   "pygments_lexer": "ipython3",
   "version": "3.7.4"
  }
 },
 "nbformat": 4,
 "nbformat_minor": 4
}
