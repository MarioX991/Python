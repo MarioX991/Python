{
 "cells": [
  {
   "cell_type": "code",
   "execution_count": 58,
   "metadata": {},
   "outputs": [],
   "source": [
    "import sys\n",
    "import numpy as np\n",
    "import scipy as sc\n",
    "import matplotlib.pyplot as plt\n",
    "from matplotlib import cm\n",
    "from mpl_toolkits.mplot3d import Axes3D\n",
    "import pandas as pd\n",
    "%matplotlib inline"
   ]
  },
  {
   "cell_type": "code",
   "execution_count": 59,
   "metadata": {},
   "outputs": [],
   "source": [
    "def featureNormalize(data):\n",
    "    mu=np.mean(data,axis=0)\n",
    "    data_norm=data-mu\n",
    "    sigma= np.std(data_norm,axis=0,ddof=1)\n",
    "    data_norm=data_norm/sigma\n",
    "    return data_norm, mu, sigma\n",
    "    \n",
    "     \n",
    "    "
   ]
  },
  {
   "cell_type": "code",
   "execution_count": null,
   "metadata": {},
   "outputs": [],
   "source": []
  },
  {
   "cell_type": "code",
   "execution_count": 60,
   "metadata": {},
   "outputs": [],
   "source": [
    "def gradientDescent(X,y,theta,alpha,iters,m):\n",
    "    grad=np.copy(theta)\n",
    "    max_j=X.shape[1]\n",
    "    J_history=[]\n",
    "    alpha_div_m=alpha/m\n",
    "    \n",
    "    for counter in range(0,iters):\n",
    "        \n",
    "        inner_sum=np.dot(X.T,(np.dot(X,grad)-y))\n",
    "        \n",
    "        grad= grad-alpha_div_m*inner_sum\n",
    "        \n",
    "        J_history.append(computeCost(X,y,grad,m))\n",
    "        \n",
    "    return J_history,grad\n",
    "    "
   ]
  },
  {
   "cell_type": "code",
   "execution_count": 61,
   "metadata": {},
   "outputs": [],
   "source": [
    "def computeCost( X, y, theta, m ):\n",
    "    term = np.dot(X,theta ) - y\n",
    "    return ( np.dot(term.T, term ) / (2 * m) )[0, 0]\n"
   ]
  },
  {
   "cell_type": "code",
   "execution_count": 80,
   "metadata": {},
   "outputs": [],
   "source": [
    "def normalEquation( X, y ):\n",
    "\treturn np.linalg.inv(np.dot(X.T,X )).dot( X.T ).dot( y )"
   ]
  },
  {
   "cell_type": "code",
   "execution_count": 63,
   "metadata": {},
   "outputs": [],
   "source": [
    "def part3_1():\n",
    "\tdata = np.genfromtxt( \"ex1data2.txt\", delimiter = ',' )\n",
    "\tX = data[:, 0:2]\n",
    "\ty = data[:, 2:3]\n",
    "\n",
    "\tX, mu, sigma = featureNormalize( X )\n",
    "\tprint(X)\n",
    "\tprint(mu)\n",
    "\tprint(sigma)"
   ]
  },
  {
   "cell_type": "code",
   "execution_count": 68,
   "metadata": {},
   "outputs": [],
   "source": [
    "def part3_2():\n",
    "    #get data\n",
    "\tdata = np.genfromtxt( \"ex1data2.txt\", delimiter = ',' )\n",
    "\tX = data[:, 0:2]\n",
    "\ty = data[:, 2:3]\n",
    "\tm = X.shape[0] #number of fetatures\n",
    "\n",
    "#normalize data\n",
    "\tX, mu, sigma = featureNormalize(X)\n",
    "\n",
    "\tX = np.c_[np.ones((m, 1)), X] # add intercept to X\n",
    "\titerations = 400\n",
    "\talphas = [0.01, 0.03, 0.1, 0.3, 1.0]\n",
    "\n",
    "\t# for each alpha, try to do gradient descent and plot the convergence curve\n",
    "\tfor alpha in alphas:\n",
    "\t\ttheta = np.zeros((3, 1))\n",
    "\t\tJ_history, theta = gradientDescent( X, y, theta, alpha, iterations, m )\n",
    "\n",
    "\t\t# create an array of number of iterations\n",
    "\t\tnumber_of_iterations = np.array( [x for x in range( 1, iterations + 1 )] ).reshape( iterations, 1)\n",
    "\n",
    "\t\tplt.plot( number_of_iterations, J_history, '-b' )\n",
    "\t\tplt.title( \"Alpha = %f\" % (alpha) )\n",
    "\t\tplt.xlabel('Number of iterations')\n",
    "\t\tplt.ylabel('Cost J')\n",
    "\t\tplt.xlim([0, 50])\n",
    "\n",
    "\t\t# 1650 sq feet 3 bedroom house\n",
    "\t\ttest = np.array([1.0, 1650.0, 3.0])\n",
    "\t\t# exclude intercept units\n",
    "\t\ttest[1:] = (test[1:] - mu) / sigma\n",
    "\t\tprint(np.dot(test,theta))"
   ]
  },
  {
   "cell_type": "code",
   "execution_count": 77,
   "metadata": {},
   "outputs": [],
   "source": [
    "def part3_3():\n",
    "\tdata = np.genfromtxt(\"ex1data2.txt\", delimiter = ',' )\n",
    "\tX = data[:, 0:2]\n",
    "\ty = data[:, 2:3]\n",
    "\tm = X.shape[0]\n",
    "\n",
    "\tX = np.c_[ np.ones((m, 1)), X ] # add intercept to X\n",
    "\n",
    "\ttheta = normalEquation( X, y )\n",
    "\t# 1650 sq feet 3 bedroom house\n",
    "\ttest = np.array([1.0, 1650.0, 3.0])\n",
    "\tprint (np.dot(test, theta ))"
   ]
  },
  {
   "cell_type": "code",
   "execution_count": 70,
   "metadata": {},
   "outputs": [],
   "source": [
    "data = np.genfromtxt( \"ex1data2.txt\", delimiter = ',' )\n",
    "X = data[:, 0:2]\n",
    "y = data[:, 2:3]\n",
    "m = X.shape[0]"
   ]
  },
  {
   "cell_type": "code",
   "execution_count": 66,
   "metadata": {},
   "outputs": [
    {
     "data": {
      "text/plain": [
       "2"
      ]
     },
     "execution_count": 66,
     "metadata": {},
     "output_type": "execute_result"
    }
   ],
   "source": [
    "X.shape[1]"
   ]
  },
  {
   "cell_type": "code",
   "execution_count": 81,
   "metadata": {},
   "outputs": [
    {
     "name": "stdout",
     "output_type": "stream",
     "text": [
      "[[ 1.30009869e-01 -2.23675187e-01]\n",
      " [-5.04189838e-01 -2.23675187e-01]\n",
      " [ 5.02476364e-01 -2.23675187e-01]\n",
      " [-7.35723065e-01 -1.53776691e+00]\n",
      " [ 1.25747602e+00  1.09041654e+00]\n",
      " [-1.97317285e-02  1.09041654e+00]\n",
      " [-5.87239800e-01 -2.23675187e-01]\n",
      " [-7.21881404e-01 -2.23675187e-01]\n",
      " [-7.81023044e-01 -2.23675187e-01]\n",
      " [-6.37573110e-01 -2.23675187e-01]\n",
      " [-7.63567023e-02  1.09041654e+00]\n",
      " [-8.56737193e-04 -2.23675187e-01]\n",
      " [-1.39273340e-01 -2.23675187e-01]\n",
      " [ 3.11729182e+00  2.40450826e+00]\n",
      " [-9.21956312e-01 -2.23675187e-01]\n",
      " [ 3.76643089e-01  1.09041654e+00]\n",
      " [-8.56523009e-01 -1.53776691e+00]\n",
      " [-9.62222960e-01 -2.23675187e-01]\n",
      " [ 7.65467909e-01  1.09041654e+00]\n",
      " [ 1.29648433e+00  1.09041654e+00]\n",
      " [-2.94048269e-01 -2.23675187e-01]\n",
      " [-1.41790005e-01 -1.53776691e+00]\n",
      " [-4.99156507e-01 -2.23675187e-01]\n",
      " [-4.86733818e-02  1.09041654e+00]\n",
      " [ 2.37739217e+00 -2.23675187e-01]\n",
      " [-1.13335621e+00 -2.23675187e-01]\n",
      " [-6.82873089e-01 -2.23675187e-01]\n",
      " [ 6.61026291e-01 -2.23675187e-01]\n",
      " [ 2.50809813e-01 -2.23675187e-01]\n",
      " [ 8.00701226e-01 -2.23675187e-01]\n",
      " [-2.03448310e-01 -1.53776691e+00]\n",
      " [-1.25918949e+00 -2.85185864e+00]\n",
      " [ 4.94765729e-02  1.09041654e+00]\n",
      " [ 1.42986760e+00 -2.23675187e-01]\n",
      " [-2.38681627e-01  1.09041654e+00]\n",
      " [-7.09298077e-01 -2.23675187e-01]\n",
      " [-9.58447962e-01 -2.23675187e-01]\n",
      " [ 1.65243186e-01  1.09041654e+00]\n",
      " [ 2.78635031e+00  1.09041654e+00]\n",
      " [ 2.02993169e-01  1.09041654e+00]\n",
      " [-4.23656542e-01 -1.53776691e+00]\n",
      " [ 2.98626458e-01 -2.23675187e-01]\n",
      " [ 7.12617934e-01  1.09041654e+00]\n",
      " [-1.00752294e+00 -2.23675187e-01]\n",
      " [-1.44542274e+00 -1.53776691e+00]\n",
      " [-1.87089985e-01  1.09041654e+00]\n",
      " [-1.00374794e+00 -2.23675187e-01]]\n",
      "[2000.68085106    3.17021277]\n",
      "[7.94702354e+02 7.60981887e-01]\n",
      "[289314.62033778]\n",
      "[293149.9943295]\n",
      "[293081.46462228]\n",
      "[293081.4643349]\n",
      "[293081.4643349]\n",
      "[293081.46433489]\n"
     ]
    },
    {
     "data": {
      "image/png": "[encoded data removed]",
      "text/plain": [
       "<Figure size 432x288 with 1 Axes>"
      ]
     },
     "metadata": {
      "needs_background": "light"
     },
     "output_type": "display_data"
    }
   ],
   "source": [
    "def main():\n",
    "\t#set_printoptions(precision=6, linewidth=200)\n",
    "\n",
    "\tpart3_1()\n",
    "\tpart3_2()\n",
    "\tpart3_3()\n",
    "\n",
    "\n",
    "\n",
    "main()"
   ]
  },
  {
   "cell_type": "code",
   "execution_count": null,
   "metadata": {},
   "outputs": [],
   "source": []
  },
  {
   "cell_type": "code",
   "execution_count": null,
   "metadata": {},
   "outputs": [],
   "source": []
  },
  {
   "cell_type": "code",
   "execution_count": null,
   "metadata": {},
   "outputs": [],
   "source": []
  }
 ],
 "metadata": {
  "kernelspec": {
   "display_name": "Python 3",
   "language": "python",
   "name": "python3"
  },
  "language_info": {
   "codemirror_mode": {
    "name": "ipython",
    "version": 3
   },
   "file_extension": ".py",
   "mimetype": "text/x-python",
   "name": "python",
   "nbconvert_exporter": "python",
   "pygments_lexer": "ipython3",
   "version": "3.7.6"
  }
 },
 "nbformat": 4,
 "nbformat_minor": 2
}
