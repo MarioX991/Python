{
 "cells": [
  {
   "cell_type": "markdown",
   "metadata": {},
   "source": [
    "# Brojevi i operaciej u Pythonu\n",
    "\n",
    "Obradjujemo sledevce teme:\n",
    "\n",
    "        1.) Tipovi brojeva u Pajtonu\n",
    "        2.) Osnove aritmetrike\n",
    "        3.) Razlika izmedju celobrojnog i obicnog deljenja\n",
    "        4.) Dodeljivanje vrednosti "
   ]
  },
  {
   "cell_type": "markdown",
   "metadata": {},
   "source": [
    "## Tipovi brojeva u Pajtonu\n",
    "\n",
    "Pajton ima razlicite tipove brojeva . Ali mi cemo se fokusirati samo na celobrojene (integer) i brojeve sa pokretnim zarezom (float).\n",
    "\n",
    "__Celobrojni__ su celi brojevi, pozitivni ili negativni. Npr 2 i -2 su primeri celih(integer) brojeva.<br>\n",
    "__Brojevi sa pokretnim zarezom__- su prepoznatljivi jer imaju zarez u njihovom zapisu ili koriste eksponene (e) za definisanje broja. Npr: 2.0 i -2.0 su primeri (float) brojeva. 4E2 (4 puta 10 na stepen 2) je takodje (float) boj"
   ]
  },
  {
   "cell_type": "markdown",
   "metadata": {},
   "source": [
    "<table>\n",
    "<tr> \n",
    "    <th> Primeri </th>\n",
    "    <th> Tipovi Brojeva</th>\n",
    "</tr>\n",
    "\n",
    "<tr> \n",
    "    <th> 1,2,-5,100 </th>\n",
    "    <th> Integer</th>\n",
    "</tr>\n",
    "\n",
    "\n",
    "<tr> \n",
    "    <th> 1.2,-0.5,2e2,3E2 </th>\n",
    "    <th> Float </th>\n",
    "</tr>\n",
    "</table>"
   ]
  },
  {
   "cell_type": "markdown",
   "metadata": {},
   "source": [
    "## Osovne operacije"
   ]
  },
  {
   "cell_type": "code",
   "execution_count": 5,
   "metadata": {},
   "outputs": [
    {
     "data": {
      "text/plain": [
       "3"
      ]
     },
     "execution_count": 5,
     "metadata": {},
     "output_type": "execute_result"
    }
   ],
   "source": [
    "# Sabiranje\n",
    "2+1"
   ]
  },
  {
   "cell_type": "code",
   "execution_count": 6,
   "metadata": {},
   "outputs": [
    {
     "data": {
      "text/plain": [
       "1"
      ]
     },
     "execution_count": 6,
     "metadata": {},
     "output_type": "execute_result"
    }
   ],
   "source": [
    "# Oduzimanje\n",
    "2-1"
   ]
  },
  {
   "cell_type": "code",
   "execution_count": 7,
   "metadata": {},
   "outputs": [
    {
     "data": {
      "text/plain": [
       "6"
      ]
     },
     "execution_count": 7,
     "metadata": {},
     "output_type": "execute_result"
    }
   ],
   "source": [
    "# Mnozenje\n",
    "3*2"
   ]
  },
  {
   "cell_type": "code",
   "execution_count": 8,
   "metadata": {},
   "outputs": [
    {
     "data": {
      "text/plain": [
       "2.0"
      ]
     },
     "execution_count": 8,
     "metadata": {},
     "output_type": "execute_result"
    }
   ],
   "source": [
    "# Deljenje\n",
    "4/2"
   ]
  },
  {
   "cell_type": "code",
   "execution_count": 9,
   "metadata": {},
   "outputs": [
    {
     "data": {
      "text/plain": [
       "1"
      ]
     },
     "execution_count": 9,
     "metadata": {},
     "output_type": "execute_result"
    }
   ],
   "source": [
    "# Celobrojno deljenje\n",
    "7//4"
   ]
  },
  {
   "cell_type": "code",
   "execution_count": 10,
   "metadata": {},
   "outputs": [
    {
     "data": {
      "text/plain": [
       "3"
      ]
     },
     "execution_count": 10,
     "metadata": {},
     "output_type": "execute_result"
    }
   ],
   "source": [
    "# Ostatak pri celobrojnom deljenje (Moduo)\n",
    "7%4"
   ]
  },
  {
   "cell_type": "markdown",
   "metadata": {},
   "source": [
    "__Sta se upravo desilo? 7 podeljeno sa 4 je 1.75 a ne 1!__\n",
    "\n",
    "Vrsimo deljenje kao u prvo razredu gde je 7:4=1(+3)<br>\n",
    "Gde nam je 1=7//4, a 3=7%4"
   ]
  },
  {
   "cell_type": "code",
   "execution_count": 11,
   "metadata": {},
   "outputs": [
    {
     "data": {
      "text/plain": [
       "8"
      ]
     },
     "execution_count": 11,
     "metadata": {},
     "output_type": "execute_result"
    }
   ],
   "source": [
    "# Stepenovanje\n",
    "2**3"
   ]
  },
  {
   "cell_type": "code",
   "execution_count": 12,
   "metadata": {},
   "outputs": [
    {
     "data": {
      "text/plain": [
       "2.0"
      ]
     },
     "execution_count": 12,
     "metadata": {},
     "output_type": "execute_result"
    }
   ],
   "source": [
    "# Korenovanje koristeci stepen\n",
    "4**0.5"
   ]
  },
  {
   "cell_type": "code",
   "execution_count": 13,
   "metadata": {},
   "outputs": [
    {
     "data": {
      "text/plain": [
       "105"
      ]
     },
     "execution_count": 13,
     "metadata": {},
     "output_type": "execute_result"
    }
   ],
   "source": [
    "# Redosled vrsenje operacia u pajtonu\n",
    "2+10*10+3"
   ]
  },
  {
   "cell_type": "code",
   "execution_count": 14,
   "metadata": {},
   "outputs": [
    {
     "data": {
      "text/plain": [
       "156"
      ]
     },
     "execution_count": 14,
     "metadata": {},
     "output_type": "execute_result"
    }
   ],
   "source": [
    "# Koristeci zagrade mi odredjujemo redosled operacija\n",
    "(2+10)*(10+3)"
   ]
  },
  {
   "cell_type": "markdown",
   "metadata": {},
   "source": [
    "## Dodeljivanje Vrednosti promenljivom\n",
    "\n",
    "Sada posto smo videli kako da koristimo brojeve u pajtonu, hocemo da vidimo kako sad te brojeve da skladistimo za kasnij koricenje tj kako da kreiramo promenljive kojima cemo dodeljivati te brojene vrednosti<br><br> \n",
    "Koristimo '=' da bismo vrsili dodeljivanje vrednisti priomenljivoj"
   ]
  },
  {
   "cell_type": "code",
   "execution_count": 15,
   "metadata": {},
   "outputs": [],
   "source": [
    "# Kreiracemo objekat sa imenom \"a\" i dodelicemo mu vrednoist 5\n",
    "a = 5"
   ]
  },
  {
   "cell_type": "code",
   "execution_count": 16,
   "metadata": {},
   "outputs": [
    {
     "data": {
      "text/plain": [
       "5"
      ]
     },
     "execution_count": 16,
     "metadata": {},
     "output_type": "execute_result"
    }
   ],
   "source": [
    "# sada kad pozovimo a pajton ce to tretirati kao broj 5\n",
    "a"
   ]
  },
  {
   "cell_type": "code",
   "execution_count": 17,
   "metadata": {},
   "outputs": [
    {
     "data": {
      "text/plain": [
       "10"
      ]
     },
     "execution_count": 17,
     "metadata": {},
     "output_type": "execute_result"
    }
   ],
   "source": [
    "# Mozemo sabirati objekte\n",
    "a+a"
   ]
  },
  {
   "cell_type": "code",
   "execution_count": 19,
   "metadata": {},
   "outputs": [
    {
     "data": {
      "text/plain": [
       "10"
      ]
     },
     "execution_count": 19,
     "metadata": {},
     "output_type": "execute_result"
    }
   ],
   "source": [
    "# Menjanje vrednosti objectu\n",
    "a=10\n",
    "# Provera\n",
    "a"
   ]
  },
  {
   "cell_type": "code",
   "execution_count": 21,
   "metadata": {},
   "outputs": [
    {
     "data": {
      "text/plain": [
       "40"
      ]
     },
     "execution_count": 21,
     "metadata": {},
     "output_type": "execute_result"
    }
   ],
   "source": [
    "# Pajton nam dozvoljava da menajmo vresnosti obejcta. Mozemo koristiti promenljive kako menajmo vrednosti\n",
    "a=a+a\n",
    "# Provera\n",
    "a"
   ]
  },
  {
   "cell_type": "markdown",
   "metadata": {},
   "source": [
    "Nekako pravila koja moramo postovati prilikom kreiranja promenljive(objecta):<br>\n",
    "\n",
    "    1.) Promeljive ne mogu kretati sa brojevima<br>\n",
    "    2.) Ne mozemo imati razmak u promenljivima, koristi _. pr: Veseli_petak<br>\n",
    "    3.) Ne mogu se koristiti simboli: '\",<>|()!$%&?\\!+-<br>\n",
    "    4.) Ne koristiti specificne reci koje se koriste u pythonu kao: \"list\",\"str\", \"len\"...<br>"
   ]
  },
  {
   "cell_type": "code",
   "execution_count": 23,
   "metadata": {},
   "outputs": [],
   "source": [
    "# Koristenje promenljive je korisno jer bolje pratimo sta se desava u nasem kod\n",
    "\n",
    "stranica_a=5\n",
    "stranica_b=6\n",
    "povrsina=stranica_a*stranica_b\n"
   ]
  },
  {
   "cell_type": "code",
   "execution_count": 24,
   "metadata": {},
   "outputs": [
    {
     "data": {
      "text/plain": [
       "30"
      ]
     },
     "execution_count": 24,
     "metadata": {},
     "output_type": "execute_result"
    }
   ],
   "source": [
    "# povrsina \n",
    "povrsina"
   ]
  },
  {
   "cell_type": "code",
   "execution_count": null,
   "metadata": {},
   "outputs": [],
   "source": []
  },
  {
   "cell_type": "code",
   "execution_count": null,
   "metadata": {},
   "outputs": [],
   "source": []
  },
  {
   "cell_type": "code",
   "execution_count": null,
   "metadata": {},
   "outputs": [],
   "source": []
  }
 ],
 "metadata": {
  "kernelspec": {
   "display_name": "Python 3",
   "language": "python",
   "name": "python3"
  },
  "language_info": {
   "codemirror_mode": {
    "name": "ipython",
    "version": 3
   },
   "file_extension": ".py",
   "mimetype": "text/x-python",
   "name": "python",
   "nbconvert_exporter": "python",
   "pygments_lexer": "ipython3",
   "version": "3.7.1"
  }
 },
 "nbformat": 4,
 "nbformat_minor": 2
}
