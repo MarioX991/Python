{
 "cells": [
  {
   "cell_type": "markdown",
   "metadata": {},
   "source": [
    "Printing formati u stringovima\n",
    "String formating nam omogucava ubacivanje nekih stvari u string sto je bolje nego da pokusavamo da ih nadovezujemo jedan na drugi. Brza provera brzine je u sledevem primeru \n",
    "\n",
    "    igrac=\"tomson\"\n",
    "    poeni=33\n",
    "\n",
    "    'Prosle veceri' +'igrac'+'je postigao' +str(poeni) +'poena'.   #concatenation\n",
    "\n",
    "    f'Prose veceri {igrac} je postigao {poeni} poena.'             # string format\n",
    "Postojue tri nacina za string formatiranje:\n",
    "\n",
    "1. Najstariji metod koriscenje placeholdera koriscenjem <code>%</code> karaktera\n",
    "2. Unapredjena tehnika je kosricenje <code>.format()</code> \n",
    "3. Najnovija metoda je koriscenje f-stringa"
   ]
  },
  {
   "cell_type": "markdown",
   "metadata": {},
   "source": [
    "## Formatiranje sa placeholderom\n",
    "\n",
    "Mozemo koristit <code>%s</code> za ubacivanje elemenata u string prlikom printovanja. Karakter `%` nam omogucava ovo svojstvo."
   ]
  },
  {
   "cell_type": "code",
   "execution_count": 1,
   "metadata": {},
   "outputs": [
    {
     "name": "stdout",
     "output_type": "stream",
     "text": [
      "I'm going to inject something here.\n"
     ]
    }
   ],
   "source": [
    "print(\"I'm going to inject %s here.\" %'something')"
   ]
  },
  {
   "cell_type": "markdown",
   "metadata": {},
   "source": [
    "Mozemo proslediti vise stvari placeholderu."
   ]
  },
  {
   "cell_type": "code",
   "execution_count": 2,
   "metadata": {},
   "outputs": [
    {
     "name": "stdout",
     "output_type": "stream",
     "text": [
      "I'm going to inject some text here, and more text here.\n"
     ]
    }
   ],
   "source": [
    "print(\"I'm going to inject %s text here, and %s text here.\" %('some','more'))"
   ]
  },
  {
   "cell_type": "markdown",
   "metadata": {},
   "source": [
    "MOzemo proslediti i ime promenljive:"
   ]
  },
  {
   "cell_type": "code",
   "execution_count": 3,
   "metadata": {},
   "outputs": [
    {
     "name": "stdout",
     "output_type": "stream",
     "text": [
      "I'm going to inject some text here, and more text here.\n"
     ]
    }
   ],
   "source": [
    "x, y = 'some', 'more'\n",
    "print(\"I'm going to inject %s text here, and %s text here.\"%(x,y))"
   ]
  },
  {
   "cell_type": "markdown",
   "metadata": {},
   "source": [
    "### Konverzacijke metode prilikom formatiranja.\n",
    "Moze se priometiti da dve metode <code>%s</code> i <code>%r</code> konvertuju bilo koji pajton objekat u string koristeci dve potpuno razdvojena metode: `str()` i `repr()`"
   ]
  },
  {
   "cell_type": "code",
   "execution_count": 4,
   "metadata": {},
   "outputs": [
    {
     "name": "stdout",
     "output_type": "stream",
     "text": [
      "He said his name was Fred.\n",
      "He said his name was 'Fred'.\n"
     ]
    }
   ],
   "source": [
    "print('He said his name was %s.' %'Fred')\n",
    "print('He said his name was %r.' %'Fred')"
   ]
  },
  {
   "cell_type": "markdown",
   "metadata": {},
   "source": [
    "Jos jedan primer, `\\t` je ubacivanje tab(razmaka) u string."
   ]
  },
  {
   "cell_type": "code",
   "execution_count": 5,
   "metadata": {},
   "outputs": [
    {
     "name": "stdout",
     "output_type": "stream",
     "text": [
      "I once caught a fish this \tbig.\n",
      "I once caught a fish 'this \\tbig'.\n"
     ]
    }
   ],
   "source": [
    "print('I once caught a fish %s.' %'this \\tbig')\n",
    "print('I once caught a fish %r.' %'this \\tbig')"
   ]
  },
  {
   "cell_type": "markdown",
   "metadata": {},
   "source": [
    "`%s` konvertuje bilo sta iz pajtona u string, ukljuvcujucu i integer i float borjeve. Dok `%d`konverutje prvo u integer bez zaokruzivanja. Npr:"
   ]
  },
  {
   "cell_type": "code",
   "execution_count": 7,
   "metadata": {},
   "outputs": [
    {
     "name": "stdout",
     "output_type": "stream",
     "text": [
      "I wrote 3.75 programs today.\n",
      "I wrote 3 programs today.\n"
     ]
    }
   ],
   "source": [
    "print('I wrote %s programs today.' %3.75)\n",
    "print('I wrote %d programs today.' %3.75)   "
   ]
  },
  {
   "cell_type": "markdown",
   "metadata": {},
   "source": [
    "### Zaokruzivanje brojeva\n",
    "Brojevi sa pokretnim zarezom se mogu zaokruzivati koristeci metodiu <code>%5.2f</code>.Ovde <code>5</code> predstvala minimalan broj ciara levo od zareza,gde se mesta popunjavaju praznim mestima ako imamo manje cifara a <code>.2f</code> predstavlja broj cifara desno od zareza. Npr:"
   ]
  },
  {
   "cell_type": "code",
   "execution_count": 10,
   "metadata": {},
   "outputs": [
    {
     "name": "stdout",
     "output_type": "stream",
     "text": [
      "Float brojevi: 13.14\n"
     ]
    }
   ],
   "source": [
    "print('Float brojevi: %5.2f' %(13.144))"
   ]
  },
  {
   "cell_type": "code",
   "execution_count": 11,
   "metadata": {},
   "outputs": [
    {
     "name": "stdout",
     "output_type": "stream",
     "text": [
      "Float brojevi: 13\n"
     ]
    }
   ],
   "source": [
    "print('Float brojevi: %1.0f' %(13.144))"
   ]
  },
  {
   "cell_type": "code",
   "execution_count": 12,
   "metadata": {},
   "outputs": [
    {
     "name": "stdout",
     "output_type": "stream",
     "text": [
      "Float brojevi: 13.14400\n"
     ]
    }
   ],
   "source": [
    "print('Float brojevi: %1.5f' %(13.144))"
   ]
  },
  {
   "cell_type": "code",
   "execution_count": 13,
   "metadata": {},
   "outputs": [
    {
     "name": "stdout",
     "output_type": "stream",
     "text": [
      "Float brojevi:      13.14\n"
     ]
    }
   ],
   "source": [
    "print('Float brojevi: %10.2f' %(13.144))"
   ]
  },
  {
   "cell_type": "code",
   "execution_count": 14,
   "metadata": {},
   "outputs": [
    {
     "name": "stdout",
     "output_type": "stream",
     "text": [
      "Float brojevi:                     13.14\n"
     ]
    }
   ],
   "source": [
    "print('Float brojevi: %25.2f' %(13.144))"
   ]
  },
  {
   "cell_type": "markdown",
   "metadata": {},
   "source": [
    "### Visestruko formatiranje"
   ]
  },
  {
   "cell_type": "code",
   "execution_count": 15,
   "metadata": {},
   "outputs": [
    {
     "name": "stdout",
     "output_type": "stream",
     "text": [
      "Prvi: Hello!, Drugi:  3.14, Treci: 'bye!'\n"
     ]
    }
   ],
   "source": [
    "print('Prvi: %s, Drugi: %5.2f, Treci: %r' %('Hello!',3.1415,'bye!'))"
   ]
  },
  {
   "cell_type": "markdown",
   "metadata": {},
   "source": [
    "## Formatiranje sa  `.format()` metodom\n",
    " sintaksa `.format()` method je:\n",
    "\n",
    "    'String here {} then also {}'.format('something1','something2')\n",
    "    \n",
    "npr:"
   ]
  },
  {
   "cell_type": "code",
   "execution_count": 16,
   "metadata": {},
   "outputs": [
    {
     "name": "stdout",
     "output_type": "stream",
     "text": [
      "Ovo je string sa UBACIVANJEM\n"
     ]
    }
   ],
   "source": [
    "print('Ovo je string sa {}'.format('UBACIVANJEM'))"
   ]
  },
  {
   "cell_type": "markdown",
   "metadata": {},
   "source": [
    "### Metod .format() ima nekoliko prednosti u odnosu na  %s placeholder mrtod:"
   ]
  },
  {
   "cell_type": "markdown",
   "metadata": {},
   "source": [
    "#### 1.Uneseni objekti se mogu pozivati pozicionim indeksima:"
   ]
  },
  {
   "cell_type": "code",
   "execution_count": 18,
   "metadata": {},
   "outputs": [
    {
     "name": "stdout",
     "output_type": "stream",
     "text": [
      "brza braon lisica\n"
     ]
    }
   ],
   "source": [
    "print('{2} {1} {0}'.format('lisica','braon','brza'))"
   ]
  },
  {
   "cell_type": "markdown",
   "metadata": {},
   "source": [
    "#### 2. Ubacivanim elementima se mogu dodeliti kljucne reci: "
   ]
  },
  {
   "cell_type": "code",
   "execution_count": 19,
   "metadata": {},
   "outputs": [
    {
     "name": "stdout",
     "output_type": "stream",
     "text": [
      "Prvi objekat: 1, Drugi objekat: dva, Treci objekat: 12.3\n"
     ]
    }
   ],
   "source": [
    "print('Prvi objekat: {a}, Drugi objekat: {b}, Treci objekat: {c}'.format(a=1,b='dva',c=12.3))"
   ]
  },
  {
   "cell_type": "markdown",
   "metadata": {},
   "source": [
    "#### 3. Unoseni elementi se mogu ponovo unositi, bez duplikata  u metodi:"
   ]
  },
  {
   "cell_type": "code",
   "execution_count": 23,
   "metadata": {},
   "outputs": [
    {
     "name": "stdout",
     "output_type": "stream",
     "text": [
      "Sacuvani dinar je zaradjen dinar dinar.\n",
      "Sacuvani dinar je zaradjen dinar dinar.\n"
     ]
    }
   ],
   "source": [
    "print('Sacuvani %s je zaradjen %s dinar.' %('dinar','dinar'))\n",
    "# vs.\n",
    "print('Sacuvani {p} je zaradjen {p} dinar.'.format(p='dinar'))"
   ]
  },
  {
   "cell_type": "markdown",
   "metadata": {},
   "source": [
    "### Poravnjanje, pedingandpreciznost sa `.format()`\n",
    "Sa viticastim zagradama mozemo precizirati duzinu polja, levo/desno poravnjanje i jos toga\n"
   ]
  },
  {
   "cell_type": "code",
   "execution_count": 24,
   "metadata": {},
   "outputs": [
    {
     "name": "stdout",
     "output_type": "stream",
     "text": [
      "Voce     | Kolicina \n",
      "jabuke   |       3.0\n",
      "Narandze |        10\n"
     ]
    }
   ],
   "source": [
    "print('{0:8} | {1:9}'.format('Voce', 'Kolicina'))\n",
    "print('{0:8} | {1:9}'.format('jabuke', 3.))\n",
    "print('{0:8} | {1:9}'.format('Narandze', 10))"
   ]
  },
  {
   "cell_type": "markdown",
   "metadata": {},
   "source": [
    "Po difoltu `.format()` poravnjanje teksta je levo, brojevi desno. Mozemo prosediti opciono `<`,`^`, ili `>` da podesimo levo, desno ili centar poravnjanja"
   ]
  },
  {
   "cell_type": "code",
   "execution_count": 25,
   "metadata": {},
   "outputs": [
    {
     "name": "stdout",
     "output_type": "stream",
     "text": [
      "Levo     |  Centar  |    Desno\n",
      "11       |    22    |       33\n"
     ]
    }
   ],
   "source": [
    "print('{0:<8} | {1:^8} | {2:>8}'.format('Levo','Centar','Desno'))\n",
    "print('{0:<8} | {1:^8} | {2:>8}'.format(11,22,33))"
   ]
  },
  {
   "cell_type": "markdown",
   "metadata": {},
   "source": [
    "Mozemo koristiti neki karakter sa peding karakterom"
   ]
  },
  {
   "cell_type": "code",
   "execution_count": 27,
   "metadata": {},
   "outputs": [
    {
     "name": "stdout",
     "output_type": "stream",
     "text": [
      "levo==== | -Centar- | ...desno\n",
      "11====== | ---22--- | ......33\n"
     ]
    }
   ],
   "source": [
    "print('{0:=<8} | {1:-^8} | {2:.>8}'.format('levo','Centar','desno'))\n",
    "print('{0:=<8} | {1:-^8} | {2:.>8}'.format(11,22,33))"
   ]
  },
  {
   "cell_type": "markdown",
   "metadata": {},
   "source": [
    "Velicina polja i float preciznos se moze odraditi slicno kao i sa placeholdeima."
   ]
  },
  {
   "cell_type": "code",
   "execution_count": 29,
   "metadata": {},
   "outputs": [
    {
     "name": "stdout",
     "output_type": "stream",
     "text": [
      "Ovo je 10 praznih mesta dvo-cifatnog broja:     13.58\n",
      "Ovo je 10 praznih mesta dvo-cifatnog broja:     13.58\n"
     ]
    }
   ],
   "source": [
    "print('Ovo je 10  mesta dvo-cifatnog broja:%10.2f' %13.579)\n",
    "print('Ovo je 10  mesta dvo-cifatnog broja:{0:10.2f}'.format(13.579))"
   ]
  },
  {
   "cell_type": "markdown",
   "metadata": {},
   "source": [
    "Primetimo da ima 5 pranih mesta pre znaka <code>:</code>, i 5 pet mesta koje je zauzeto sa 13.58 za ukopno 10 karaktera"
   ]
  },
  {
   "cell_type": "markdown",
   "metadata": {},
   "source": [
    "## Formatiranje stringa sa metodom:  f-strings"
   ]
  },
  {
   "cell_type": "code",
   "execution_count": 30,
   "metadata": {},
   "outputs": [
    {
     "name": "stdout",
     "output_type": "stream",
     "text": [
      "On je rekao da se zove Marko.\n"
     ]
    }
   ],
   "source": [
    "name = 'Marko'\n",
    "\n",
    "print(f\"On je rekao da se zove {name}.\")"
   ]
  },
  {
   "cell_type": "markdown",
   "metadata": {},
   "source": [
    "Dodajmo `!r` da bismo predstavili u obliku stringa:"
   ]
  },
  {
   "cell_type": "code",
   "execution_count": 34,
   "metadata": {},
   "outputs": [
    {
     "name": "stdout",
     "output_type": "stream",
     "text": [
      "On je rekao da se zove 'Marko'.\n"
     ]
    }
   ],
   "source": [
    "print(f\"On je rekao da se zove {name!r}.\")"
   ]
  },
  {
   "cell_type": "markdown",
   "metadata": {},
   "source": [
    "#### Float formatiranje broja `\"result: {value:{width}.{precision}}\"`"
   ]
  },
  {
   "cell_type": "markdown",
   "metadata": {},
   "source": [
    "Tamo gde smo `.format()` metodu radili smo ovako `{value:10.4f}`, sa f-strings to radimo ovako `{value:{10}.{6}}`\n"
   ]
  },
  {
   "cell_type": "code",
   "execution_count": 36,
   "metadata": {},
   "outputs": [
    {
     "name": "stdout",
     "output_type": "stream",
     "text": [
      "Deseto-karakterni, cetvorocifarni decimalni broj je:   23.4568\n",
      "Deseto-karakterni, cetvorocifarni decimalni broj je:   23.4568\n"
     ]
    }
   ],
   "source": [
    "broj= 23.45678\n",
    "print(\"Deseto-karakterni, cetvorocifarni decimalni broj je:{0:10.4f}\".format(broj))\n",
    "print(f\"Deseto-karakterni, cetvorocifarni decimalni broj je:{broj:{10}.{6}}\")"
   ]
  },
  {
   "cell_type": "markdown",
   "metadata": {},
   "source": [
    "Primetimo da je sa f-string, *preciznost* sredjivana sa totalnim brojem cifara, ne samo sa onim koji prate decimale. F-string ne dodaje cifre koje su potrene"
   ]
  },
  {
   "cell_type": "code",
   "execution_count": 38,
   "metadata": {},
   "outputs": [
    {
     "name": "stdout",
     "output_type": "stream",
     "text": [
      "Deseto-karakterni, cetvorocifarni decimalni broj je:   23.4500\n",
      "Deseto-karakterni, cetvorocifarni decimalni broj je:     23.45\n"
     ]
    }
   ],
   "source": [
    "num = 23.45\n",
    "print(\"Deseto-karakterni, cetvorocifarni decimalni broj je:{0:10.4f}\".format(num))\n",
    "print(f\"Deseto-karakterni, cetvorocifarni decimalni broj je:{num:{10}.{6}}\")"
   ]
  },
  {
   "cell_type": "markdown",
   "metadata": {},
   "source": [
    "Ako je to potrebno uvek se mozemo vraiti na `.format()`"
   ]
  },
  {
   "cell_type": "code",
   "execution_count": 41,
   "metadata": {},
   "outputs": [
    {
     "name": "stdout",
     "output_type": "stream",
     "text": [
      "Deseto-karakterni, cetvorocifarni decimalni broj je:   23.4500\n",
      "Deseto-karakterni, cetvorocifarni decimalni broj je:   23.4500\n"
     ]
    }
   ],
   "source": [
    "broj = 23.45\n",
    "print(\"Deseto-karakterni, cetvorocifarni decimalni broj je:{0:10.4f}\".format(broj))\n",
    "print(f\"Deseto-karakterni, cetvorocifarni decimalni broj je:{broj:10.4f}\")"
   ]
  }
 ],
 "metadata": {
  "kernelspec": {
   "display_name": "Python 3",
   "language": "python",
   "name": "python3"
  },
  "language_info": {
   "codemirror_mode": {
    "name": "ipython",
    "version": 3
   },
   "file_extension": ".py",
   "mimetype": "text/x-python",
   "name": "python",
   "nbconvert_exporter": "python",
   "pygments_lexer": "ipython3",
   "version": "3.7.1"
  }
 },
 "nbformat": 4,
 "nbformat_minor": 1
}
