{
 "cells": [
  {
   "cell_type": "markdown",
   "metadata": {},
   "source": [
    " <h1><center>Introduction to Numerical Computing whit NumPy</center></h1>"
   ]
  },
  {
   "cell_type": "markdown",
   "metadata": {},
   "source": [
    "\n",
    "* Define Arrays \n",
    "* Create Arrays\n",
    "* Computations on NumPy arrays\n",
    "* Indexing and Slicing\n",
    "* The Array Data Structure\n",
    "* Advance NumPy, Overview"
   ]
  },
  {
   "cell_type": "markdown",
   "metadata": {},
   "source": [
    "# Numpy Arrays\n",
    "\n",
    "NumPy arrays are the main way we will use Numpy throughout the course. Numpy arrays essentially come in two flavors: vectors and matrices. Vectors are strictly 1-d arrays and matrices are 2-d (but you should note a matrix can still have only one row or one column)."
   ]
  },
  {
   "cell_type": "code",
   "execution_count": 17,
   "metadata": {},
   "outputs": [],
   "source": [
    "import numpy as np"
   ]
  },
  {
   "cell_type": "code",
   "execution_count": 5,
   "metadata": {},
   "outputs": [],
   "source": [
    "pi=3.14"
   ]
  },
  {
   "cell_type": "markdown",
   "metadata": {},
   "source": [
    "# Creating Array"
   ]
  },
  {
   "cell_type": "code",
   "execution_count": 6,
   "metadata": {},
   "outputs": [],
   "source": [
    "#integer array\n",
    "a= np.array([0,1,2,3])"
   ]
  },
  {
   "cell_type": "code",
   "execution_count": 7,
   "metadata": {},
   "outputs": [
    {
     "data": {
      "text/plain": [
       "array([ 3.14  ,  5.    ,  2.    , 55.    , 66.    , 11.    , 34.1111])"
      ]
     },
     "execution_count": 7,
     "metadata": {},
     "output_type": "execute_result"
    }
   ],
   "source": [
    "# Unlike List NumPy is constrainde to array that all contein the same type. If types do not match, NumPy upcas if possible (here integer is upcast fo float)\n",
    "np.array([3.14,5,2,55,66,11,34.1111])"
   ]
  },
  {
   "cell_type": "code",
   "execution_count": 8,
   "metadata": {},
   "outputs": [
    {
     "data": {
      "text/plain": [
       "array([1., 2., 3., 4.])"
      ]
     },
     "execution_count": 8,
     "metadata": {},
     "output_type": "execute_result"
    }
   ],
   "source": [
    "#If we want to explicitly set the data type of the resulting array, we can used dtype keyword:\n",
    "np.array([1,2,3,4], dtype=\"float64\")"
   ]
  },
  {
   "cell_type": "code",
   "execution_count": 27,
   "metadata": {},
   "outputs": [
    {
     "name": "stdout",
     "output_type": "stream",
     "text": [
      "<class 'numpy.ndarray'>\n",
      "int32\n",
      "1\n",
      "(4,)\n",
      "4\n",
      "16\n"
     ]
    }
   ],
   "source": [
    "#Checking the type\n",
    "print(type(a))\n",
    "#numeric type of elements\n",
    "print(a.dtype)\n",
    "#number od dimensions\n",
    "print(a.ndim)\n",
    "#array shape\n",
    "print(a.shape) #returns a tuple listing the length of the array along each dimension \n",
    "#bytes per element\n",
    "print(a.itemsize)\n",
    "#bytes of mememory used\n",
    "print(a.nbytes)"
   ]
  },
  {
   "cell_type": "markdown",
   "metadata": {},
   "source": [
    "### Creating array from scrach\n",
    "\n",
    "* zeros\n",
    "* ones\n",
    "* full\n",
    "* arange\n",
    "* linspace\n",
    "* random.random\n",
    "* random.normal\n",
    "* random.randint\n",
    "* eye\n",
    "* indentity\n",
    "* empty\n",
    "* fill\n",
    "* logspace\n",
    "* loadtext\n",
    "\n",
    "Especially for longeer array, it is more efficient to create array from scratch using routines built int NumPy. Here are several examples:"
   ]
  },
  {
   "cell_type": "markdown",
   "metadata": {},
   "source": [
    "#### arange()"
   ]
  },
  {
   "cell_type": "code",
   "execution_count": 13,
   "metadata": {},
   "outputs": [
    {
     "data": {
      "text/plain": [
       "array([0, 1, 2, 3, 4, 5, 6, 7, 8, 9])"
      ]
     },
     "execution_count": 13,
     "metadata": {},
     "output_type": "execute_result"
    }
   ],
   "source": [
    "#arange [start:stop:step]\n",
    "np.arange(0,10)\n"
   ]
  },
  {
   "cell_type": "code",
   "execution_count": 11,
   "metadata": {},
   "outputs": [
    {
     "data": {
      "text/plain": [
       "array([ 0,  2,  4,  6,  8, 10])"
      ]
     },
     "execution_count": 11,
     "metadata": {},
     "output_type": "execute_result"
    }
   ],
   "source": [
    "np.arange(0,12,2)"
   ]
  },
  {
   "cell_type": "code",
   "execution_count": 14,
   "metadata": {},
   "outputs": [
    {
     "data": {
      "text/plain": [
       "array([0.   , 0.785, 1.57 , 2.355, 3.14 , 3.925, 4.71 , 5.495])"
      ]
     },
     "execution_count": 14,
     "metadata": {},
     "output_type": "execute_result"
    }
   ],
   "source": [
    "np.arange(0,2*pi,pi/4)"
   ]
  },
  {
   "cell_type": "markdown",
   "metadata": {},
   "source": [
    "#### zeros,ones,full,identity,empty,fill,eye"
   ]
  },
  {
   "cell_type": "code",
   "execution_count": 15,
   "metadata": {},
   "outputs": [
    {
     "data": {
      "text/plain": [
       "array([0, 0, 0, 0, 0, 0, 0, 0, 0, 0])"
      ]
     },
     "execution_count": 15,
     "metadata": {},
     "output_type": "execute_result"
    }
   ],
   "source": [
    "#create a length-10 integer array filled with zeros\n",
    "np.zeros(10,dtype=int)\n"
   ]
  },
  {
   "cell_type": "code",
   "execution_count": 30,
   "metadata": {},
   "outputs": [
    {
     "data": {
      "text/plain": [
       "array([[1., 1., 1., 1., 1.],\n",
       "       [1., 1., 1., 1., 1.],\n",
       "       [1., 1., 1., 1., 1.]])"
      ]
     },
     "execution_count": 30,
     "metadata": {},
     "output_type": "execute_result"
    }
   ],
   "source": [
    "#create 3x5 floting-point array filledwith 1s\n",
    "np.ones((3,5),dtype=float)"
   ]
  },
  {
   "cell_type": "code",
   "execution_count": 32,
   "metadata": {},
   "outputs": [
    {
     "data": {
      "text/plain": [
       "array([[3.14, 3.14, 3.14, 3.14, 3.14],\n",
       "       [3.14, 3.14, 3.14, 3.14, 3.14],\n",
       "       [3.14, 3.14, 3.14, 3.14, 3.14]])"
      ]
     },
     "execution_count": 32,
     "metadata": {},
     "output_type": "execute_result"
    }
   ],
   "source": [
    "#creata 3x5 array filled with 3.14\n",
    "np.full((3,5),3.14)"
   ]
  },
  {
   "cell_type": "code",
   "execution_count": 25,
   "metadata": {},
   "outputs": [
    {
     "name": "stdout",
     "output_type": "stream",
     "text": [
      "[[1 0 0 0]\n",
      " [0 1 0 0]\n",
      " [0 0 1 0]\n",
      " [0 0 0 1]]\n"
     ]
    }
   ],
   "source": [
    "#create an n by n identity arrey\n",
    "a=np.identity(4, dtype=int)\n",
    "print(a)"
   ]
  },
  {
   "cell_type": "code",
   "execution_count": 40,
   "metadata": {},
   "outputs": [
    {
     "data": {
      "text/plain": [
       "array([6., 6.])"
      ]
     },
     "execution_count": 40,
     "metadata": {},
     "output_type": "execute_result"
    }
   ],
   "source": [
    "# create empty array\n",
    "a=np.empty(2)\n",
    "a"
   ]
  },
  {
   "cell_type": "code",
   "execution_count": 42,
   "metadata": {},
   "outputs": [
    {
     "data": {
      "text/plain": [
       "array([6., 6.])"
      ]
     },
     "execution_count": 42,
     "metadata": {},
     "output_type": "execute_result"
    }
   ],
   "source": [
    "# fill empty array\n",
    "a.fill(6.0)\n",
    "a"
   ]
  },
  {
   "cell_type": "code",
   "execution_count": 46,
   "metadata": {},
   "outputs": [
    {
     "data": {
      "text/plain": [
       "array([[1., 0., 0.],\n",
       "       [0., 1., 0.],\n",
       "       [0., 0., 1.]])"
      ]
     },
     "execution_count": 46,
     "metadata": {},
     "output_type": "execute_result"
    }
   ],
   "source": [
    "#Create a 3x3 identity matrix (Return a 2-D array with ones on the diagonal and zeros elsewhere)\n",
    "np.eye(3)"
   ]
  },
  {
   "cell_type": "markdown",
   "metadata": {},
   "source": [
    "#### linspace,logspace"
   ]
  },
  {
   "cell_type": "code",
   "execution_count": 43,
   "metadata": {},
   "outputs": [
    {
     "data": {
      "text/plain": [
       "array([0.  , 0.25, 0.5 , 0.75, 1.  ])"
      ]
     },
     "execution_count": 43,
     "metadata": {},
     "output_type": "execute_result"
    }
   ],
   "source": [
    "#cerate array of five values evenly spaced  between 0 and 1(return every nmber between intervals)\n",
    "np.linspace(0,1,5)"
   ]
  },
  {
   "cell_type": "code",
   "execution_count": 44,
   "metadata": {},
   "outputs": [
    {
     "data": {
      "text/plain": [
       "array([ 1.        ,  1.77827941,  3.16227766,  5.62341325, 10.        ])"
      ]
     },
     "execution_count": 44,
     "metadata": {},
     "output_type": "execute_result"
    }
   ],
   "source": [
    "#create N evenly spaced elements on a log scales between base-start ans base-stop(default base 10)\n",
    "np.logspace(0,1,5)"
   ]
  },
  {
   "cell_type": "markdown",
   "metadata": {},
   "source": [
    "#### random."
   ]
  },
  {
   "cell_type": "code",
   "execution_count": 47,
   "metadata": {},
   "outputs": [
    {
     "data": {
      "text/plain": [
       "array([[0.51999152, 0.26829723, 0.66570332],\n",
       "       [0.79224366, 0.75424433, 0.01001791],\n",
       "       [0.6118622 , 0.13332143, 0.54011686]])"
      ]
     },
     "execution_count": 47,
     "metadata": {},
     "output_type": "execute_result"
    }
   ],
   "source": [
    "#create 3x3 array of uniformly distributed random values between 0 and 1, or random.rand for 1-dim array\n",
    "np.random.random((3,3))"
   ]
  },
  {
   "cell_type": "code",
   "execution_count": 49,
   "metadata": {},
   "outputs": [
    {
     "data": {
      "text/plain": [
       "array([0.39154157, 0.00602476, 0.95279172, 0.00485677])"
      ]
     },
     "execution_count": 49,
     "metadata": {},
     "output_type": "execute_result"
    }
   ],
   "source": [
    "np.random.rand(4)"
   ]
  },
  {
   "cell_type": "code",
   "execution_count": 50,
   "metadata": {},
   "outputs": [
    {
     "data": {
      "text/plain": [
       "array([[ 1.83056115,  0.66524546, -0.32315821],\n",
       "       [-0.62883527,  0.88388057,  0.98715114],\n",
       "       [ 0.59813565, -1.8494642 ,  0.20248891]])"
      ]
     },
     "execution_count": 50,
     "metadata": {},
     "output_type": "execute_result"
    }
   ],
   "source": [
    "#Create 3x3 array of normal distributed random values with mean 0 and standard deviation 1, or random.randn for 1-dim\n",
    "np.random.normal(0,1,(3,3))"
   ]
  },
  {
   "cell_type": "code",
   "execution_count": 51,
   "metadata": {},
   "outputs": [
    {
     "data": {
      "text/plain": [
       "array([ 0.43492903, -0.17601724, -0.57653262, -0.90118079])"
      ]
     },
     "execution_count": 51,
     "metadata": {},
     "output_type": "execute_result"
    }
   ],
   "source": [
    "np.random.randn(4)"
   ]
  },
  {
   "cell_type": "code",
   "execution_count": 52,
   "metadata": {},
   "outputs": [
    {
     "data": {
      "text/plain": [
       "array([[9, 5, 9],\n",
       "       [5, 6, 8],\n",
       "       [8, 4, 7]])"
      ]
     },
     "execution_count": 52,
     "metadata": {},
     "output_type": "execute_result"
    }
   ],
   "source": [
    "# crate array od random integer in the interval [0,10)\n",
    "np.random.randint(0,10,(3,3))"
   ]
  },
  {
   "cell_type": "code",
   "execution_count": null,
   "metadata": {},
   "outputs": [],
   "source": []
  },
  {
   "cell_type": "code",
   "execution_count": null,
   "metadata": {},
   "outputs": [],
   "source": []
  },
  {
   "cell_type": "code",
   "execution_count": null,
   "metadata": {},
   "outputs": [],
   "source": []
  },
  {
   "cell_type": "markdown",
   "metadata": {},
   "source": [
    "# Computations on NumPy arrays: Universal Functions\n",
    "\n",
    "Computation on NumPy arrays can be fast or can be very slow. The key to making it faster is to used __vectorized__ operation, generallyimplementing through NumPy __universal function__(ufuncs). Te relative sluggishness of Python generally manifest itseltf in situation where many small operations are being repeated - for instance, looping over array to operate on each element. For example, imagines we have an array of values and we would like to compute the reciprocal of each. A strightforward approach might look like this:"
   ]
  },
  {
   "cell_type": "code",
   "execution_count": 1,
   "metadata": {},
   "outputs": [
    {
     "data": {
      "text/plain": [
       "array([0.11111111, 0.16666667, 0.125     , 0.33333333, 0.16666667])"
      ]
     },
     "execution_count": 1,
     "metadata": {},
     "output_type": "execute_result"
    }
   ],
   "source": [
    "import numpy as np\n",
    "def compute_reciprocals(values):\n",
    "    output=np.empty(len(values))\n",
    "    for i in range(len(values)):\n",
    "        output[i]=1.0/values[i]\n",
    "    return output\n",
    "\n",
    "values=np.random.randint(1,10, size=5) # size=Non tell python to return just one number\n",
    "compute_reciprocals(values)"
   ]
  },
  {
   "cell_type": "markdown",
   "metadata": {},
   "source": [
    "This programs feels fairly natural to someone from _C_ or _Java_ backgraound.But if we measure execution time of this code for a longe input, we see that this operation i very slow."
   ]
  },
  {
   "cell_type": "code",
   "execution_count": 44,
   "metadata": {},
   "outputs": [
    {
     "name": "stdout",
     "output_type": "stream",
     "text": [
      "6.25 s ± 337 ms per loop (mean ± std. dev. of 7 runs, 1 loop each)\n"
     ]
    }
   ],
   "source": [
    "big_array=np.random.randint(1,100,size=1000000)\n",
    "%timeit compute_reciprocals(big_array)"
   ]
  },
  {
   "cell_type": "markdown",
   "metadata": {},
   "source": [
    "It takes several second to compute these million operation and to store the result!\n",
    "For many types of operations, NumPy provides a convenient iterface into just this kind of statilly type, compiled routine. This is known as a _vectorized_ operation. We can accomplish this by simply performing an operation on the array, which will then be applied to each element. \n",
    "Compere the results of the following two:"
   ]
  },
  {
   "cell_type": "code",
   "execution_count": 46,
   "metadata": {},
   "outputs": [
    {
     "name": "stdout",
     "output_type": "stream",
     "text": [
      "[0.125      0.125      0.125      0.25       0.16666667]\n",
      "[0.125      0.125      0.125      0.25       0.16666667]\n"
     ]
    }
   ],
   "source": [
    "print(compute_reciprocals(values))\n",
    "print(1.0/values)"
   ]
  },
  {
   "cell_type": "code",
   "execution_count": 48,
   "metadata": {},
   "outputs": [
    {
     "name": "stdout",
     "output_type": "stream",
     "text": [
      "19.8 ms ± 3.49 ms per loop (mean ± std. dev. of 7 runs, 100 loops each)\n"
     ]
    }
   ],
   "source": [
    "%timeit (1.0/big_array)"
   ]
  },
  {
   "cell_type": "markdown",
   "metadata": {},
   "source": [
    "Vectorized operation in NumPy is implemented via _ufunk_, whose main purpose is to quckly execute repeted operation in values in NumPy array. Ufuncs are very flexible. Example:"
   ]
  },
  {
   "cell_type": "code",
   "execution_count": 50,
   "metadata": {},
   "outputs": [],
   "source": [
    "a=np.array([1,2,3,4])\n",
    "b=np.array([2,3,4,5])"
   ]
  },
  {
   "cell_type": "markdown",
   "metadata": {},
   "source": [
    "### Exploring NumPy Ufuncs"
   ]
  },
  {
   "cell_type": "markdown",
   "metadata": {},
   "source": [
    "Ufuncs exist in two flavors: unary ufuncs, whitch operate on a single input, and binary ufuncs which operate on two input.\n",
    "We will see exampel od both here:\n",
    "\n",
    "#### Array aritmetric\n",
    "\n",
    "NumPy ufuncs feel very natural to used because they make use of Python native aritmetric operation. Standard addition, substractin, multiplicatin and devison can be all used:"
   ]
  },
  {
   "cell_type": "code",
   "execution_count": 70,
   "metadata": {},
   "outputs": [
    {
     "name": "stdout",
     "output_type": "stream",
     "text": [
      "a = [0 1 2 3]\n",
      "a + 5 =  [5 6 7 8]\n",
      "a - 5 =  [-5 -4 -3 -2]\n",
      "a * 5 = [0 2 4 6]\n",
      "a / 2 = [0.  0.5 1.  1.5]\n",
      "a // 2 = [0 0 1 1]\n",
      "-a  = [ 0 -1 -2 -3]\n",
      "a ** 2 =  [0 1 4 9]\n",
      "a % 2=  [0 1 0 1]\n"
     ]
    }
   ],
   "source": [
    "a=np.arange(4)\n",
    "print(\"a =\", a)\n",
    "print(\"a + 5 = \",a+5)\n",
    "print(\"a - 5 = \",a-5)\n",
    "print(\"a * 5 =\",a*2 ) \n",
    "print(\"a / 2 =\",a/2)\n",
    "print(\"a // 2 =\",a//2)\n",
    "#there are operation for negation, a ** operation for exponentiation, and a % operation form modulues\n",
    "print(\"-a  =\", -a)\n",
    "print(\"a ** 2 = \",a**2)\n",
    "print(\"a % 2= \",a%2)"
   ]
  },
  {
   "cell_type": "markdown",
   "metadata": {},
   "source": [
    "#### Absolute value, trigonometric,exponents, logarithms\n",
    "\n",
    "Just as NumPy understand Python build-in artitmetric operatios, it also undenstands Python build-in absolute values function "
   ]
  },
  {
   "cell_type": "code",
   "execution_count": 72,
   "metadata": {},
   "outputs": [
    {
     "data": {
      "text/plain": [
       "array([2, 1, 0, 1, 2])"
      ]
     },
     "execution_count": 72,
     "metadata": {},
     "output_type": "execute_result"
    }
   ],
   "source": [
    "#absolute value\n",
    "a=np.array([-2,-1,0,1,2])\n",
    "abs(a)"
   ]
  },
  {
   "cell_type": "markdown",
   "metadata": {},
   "source": [
    "Corresponding NumPy ufunc is __np.absulute__, which is also avaible under the alias __np.abs__"
   ]
  },
  {
   "cell_type": "code",
   "execution_count": 73,
   "metadata": {},
   "outputs": [
    {
     "data": {
      "text/plain": [
       "array([2, 1, 0, 1, 2])"
      ]
     },
     "execution_count": 73,
     "metadata": {},
     "output_type": "execute_result"
    }
   ],
   "source": [
    "np.absolute(a)\n",
    "np.abs(a)"
   ]
  },
  {
   "cell_type": "code",
   "execution_count": 76,
   "metadata": {},
   "outputs": [
    {
     "name": "stdout",
     "output_type": "stream",
     "text": [
      "[3.-4.j 4.-3.j 2.+0.j 0.+1.j]\n",
      "[5. 5. 2. 1.]\n"
     ]
    }
   ],
   "source": [
    "# This ufunc can handle complex number in which the absolute values return magnitude:\n",
    "a=np.array([3-4j,4-3j,2+0j,0+1j])\n",
    "print(a)\n",
    "print(np.abs(a))"
   ]
  },
  {
   "cell_type": "code",
   "execution_count": 78,
   "metadata": {},
   "outputs": [
    {
     "name": "stdout",
     "output_type": "stream",
     "text": [
      "theta =  [0.         1.57079633 3.14159265]\n",
      "sin(theta) =  [0.0000000e+00 1.0000000e+00 1.2246468e-16]\n",
      "cos(theta) =  [ 1.000000e+00  6.123234e-17 -1.000000e+00]\n",
      "tan(theta) =  [ 0.00000000e+00  1.63312394e+16 -1.22464680e-16]\n"
     ]
    }
   ],
   "source": [
    "#Trigonometric\n",
    "theta=np.linspace(0,np.pi,3)\n",
    "\n",
    "print(\"theta = \",theta)\n",
    "print(\"sin(theta) = \", np.sin(theta))\n",
    "print(\"cos(theta) = \", np.cos(theta))\n",
    "print(\"tan(theta) = \", np.tan(theta))"
   ]
  },
  {
   "cell_type": "code",
   "execution_count": 79,
   "metadata": {},
   "outputs": [
    {
     "name": "stdout",
     "output_type": "stream",
     "text": [
      "a =  [-1, 0, -1]\n",
      "arcsin(theta) =  [-1.57079633  0.         -1.57079633]\n",
      "arccos(theta) =  [3.14159265 1.57079633 3.14159265]\n",
      "arctan(theta) =  [-0.78539816  0.         -0.78539816]\n"
     ]
    }
   ],
   "source": [
    "# Inveres trigonometric \n",
    "\n",
    "a=[-1,0,-1]\n",
    "print(\"a = \",a)\n",
    "print(\"arcsin(theta) = \", np.arcsin(a))\n",
    "print(\"arccos(theta) = \", np.arccos(a))\n",
    "print(\"arctan(theta) = \", np.arctan(a))"
   ]
  },
  {
   "cell_type": "code",
   "execution_count": 81,
   "metadata": {},
   "outputs": [
    {
     "name": "stdout",
     "output_type": "stream",
     "text": [
      "x =  [1, 2, 3]\n",
      "e^x =  [ 2.71828183  7.3890561  20.08553692]\n",
      "2^x =  [2. 4. 8.]\n",
      "3^x =  [ 3  9 27]\n"
     ]
    }
   ],
   "source": [
    "# exponents and logarithms\n",
    "\n",
    "#eponents\n",
    "x=[1,2,3]\n",
    "\n",
    "print(\"x = \",x)\n",
    "print(\"e^x = \", np.exp(x))\n",
    "print(\"2^x = \", np.exp2(x))\n",
    "print(\"3^x = \", np.power(3,x))"
   ]
  },
  {
   "cell_type": "code",
   "execution_count": 86,
   "metadata": {},
   "outputs": [
    {
     "name": "stdout",
     "output_type": "stream",
     "text": [
      "x =  [1, 2, 4, 10]\n",
      "ln(x) =  [0.         0.69314718 1.38629436 2.30258509]\n",
      "log2(x) =  [0.         1.         2.         3.32192809]\n",
      "log10(x) =  [0.         0.30103    0.60205999 1.        ]\n"
     ]
    }
   ],
   "source": [
    "#logaritham\n",
    "\n",
    "x=[1,2,4,10]\n",
    "\n",
    "print(\"x = \",x)\n",
    "print(\"ln(x) = \", np.log(x))\n",
    "print(\"log2(x) = \", np.log2(x))\n",
    "print(\"log10(x) = \", np.log10(x))"
   ]
  },
  {
   "cell_type": "markdown",
   "metadata": {},
   "source": [
    "### Advance ufunc features\n",
    "\n",
    "#### Specifying output\n",
    "\n",
    "For large calcuation, it is sometimes useful to be able to specify the array where the result of the calsuation will be stored. Rather then creating a temperary array, you can used this to write computation result directly to the memory location where you would like them to be. For all unifunc, you can fo this using the out argument of the function:"
   ]
  },
  {
   "cell_type": "code",
   "execution_count": 9,
   "metadata": {},
   "outputs": [
    {
     "name": "stdout",
     "output_type": "stream",
     "text": [
      "[0 1 2 3 4]\n",
      "[ 0. 10. 20. 30. 40.]\n"
     ]
    }
   ],
   "source": [
    "a=np.arange(5)\n",
    "b=np.empty(5)\n",
    "np.multiply(a,10,out=b)\n",
    "print(a)\n",
    "print(b)"
   ]
  },
  {
   "cell_type": "code",
   "execution_count": 13,
   "metadata": {},
   "outputs": [
    {
     "name": "stdout",
     "output_type": "stream",
     "text": [
      "[ 1.  0.  2.  0.  4.  0.  8.  0. 16.  0.]\n"
     ]
    }
   ],
   "source": [
    "# this can be used with array views. We can write results of a computation to every other elements of a specified array:\n",
    "b=np.zeros(10)\n",
    "np.power(2,a,out=y[::2]) #2^a\n",
    "print(y)"
   ]
  },
  {
   "cell_type": "markdown",
   "metadata": {},
   "source": [
    "#### Aggregate\n",
    "\n",
    "\n",
    "\n",
    "For binary ufunc, there are some interesting aggregate that can be computed directly from object. For example, if we would like to __reduce__ an array with a particular operatin, we can used reduced method on any ufunc. Reduced repeatedly applies a given operation to the elements of an array until only a single result remains.\n",
    "\n",
    "For example, calling reduced on the add ufunc return the sum od all elements in the array:"
   ]
  },
  {
   "cell_type": "code",
   "execution_count": 14,
   "metadata": {},
   "outputs": [
    {
     "data": {
      "text/plain": [
       "15"
      ]
     },
     "execution_count": 14,
     "metadata": {},
     "output_type": "execute_result"
    }
   ],
   "source": [
    "a=np.arange(1,6)\n",
    "np.add.reduce(a)"
   ]
  },
  {
   "cell_type": "markdown",
   "metadata": {},
   "source": [
    "Similarly, calling reduce on the multiply ufunc result in the product of all array elements. If we wont to store results of the computation we can used __accumulate__."
   ]
  },
  {
   "cell_type": "code",
   "execution_count": 15,
   "metadata": {},
   "outputs": [
    {
     "data": {
      "text/plain": [
       "120"
      ]
     },
     "execution_count": 15,
     "metadata": {},
     "output_type": "execute_result"
    }
   ],
   "source": [
    "np.multiply.reduce(a)"
   ]
  },
  {
   "cell_type": "code",
   "execution_count": 16,
   "metadata": {},
   "outputs": [
    {
     "data": {
      "text/plain": [
       "array([  1,   2,   6,  24, 120], dtype=int32)"
      ]
     },
     "execution_count": 16,
     "metadata": {},
     "output_type": "execute_result"
    }
   ],
   "source": [
    "np.multiply.accumulate(a)"
   ]
  },
  {
   "cell_type": "markdown",
   "metadata": {},
   "source": [
    "Any ufunc can compute the output of all pairs ot two different inputs using tje __outer__ method.This allows you, in one line, to do things like createa mulitplication table: "
   ]
  },
  {
   "cell_type": "code",
   "execution_count": 19,
   "metadata": {},
   "outputs": [
    {
     "data": {
      "text/plain": [
       "array([[ 1,  2,  3,  4,  5],\n",
       "       [ 2,  4,  6,  8, 10],\n",
       "       [ 3,  6,  9, 12, 15],\n",
       "       [ 4,  8, 12, 16, 20],\n",
       "       [ 5, 10, 15, 20, 25]])"
      ]
     },
     "execution_count": 19,
     "metadata": {},
     "output_type": "execute_result"
    }
   ],
   "source": [
    "a=np.arange(1,6)\n",
    "np.multiply.outer(a,a)"
   ]
  },
  {
   "cell_type": "markdown",
   "metadata": {},
   "source": [
    "#### Aggregation: Min,Max and Everything Between\n",
    "\n",
    "Often when you are faced with a large amount of data, a first stp is to compute statistics dfor the tada in question. Most common summary statistics ate mean, standard deviation, but other aggregation are useful as well(the sum, productm, median, minimum and maximum, quatiles, etc.)\n",
    "\n",
    "#### Summing the values in an array\n",
    "\n",
    "Python can do this using the built-in function __sum()__, in NumPy syntax in quite similar, and result is the same"
   ]
  },
  {
   "cell_type": "code",
   "execution_count": 24,
   "metadata": {},
   "outputs": [
    {
     "name": "stdout",
     "output_type": "stream",
     "text": [
      "46.27540655780677\n",
      "46.275406557806754\n"
     ]
    }
   ],
   "source": [
    "import numpy as np\n",
    "#python built-in\n",
    "l=np.random.random(100)\n",
    "print(sum(l))\n",
    "#NumPy\n",
    "print(np.sum(l))"
   ]
  },
  {
   "cell_type": "code",
   "execution_count": 25,
   "metadata": {},
   "outputs": [
    {
     "name": "stdout",
     "output_type": "stream",
     "text": [
      "292 ms ± 28.6 ms per loop (mean ± std. dev. of 7 runs, 1 loop each)\n",
      "4.66 ms ± 271 µs per loop (mean ± std. dev. of 7 runs, 100 loops each)\n"
     ]
    }
   ],
   "source": [
    "#NumyPy version of the operation is computed much more quickly:\n",
    "big_array=np.random.random(1000000)\n",
    "%timeit sum(big_array)\n",
    "%timeit np.sum(big_array)"
   ]
  },
  {
   "cell_type": "markdown",
   "metadata": {},
   "source": [
    "#### Minimum and Maximum"
   ]
  },
  {
   "cell_type": "code",
   "execution_count": null,
   "metadata": {},
   "outputs": [],
   "source": [
    "# similary python has built-in min and max and corresponding functin in NumPy np.min() and np.max"
   ]
  },
  {
   "cell_type": "code",
   "execution_count": 27,
   "metadata": {},
   "outputs": [
    {
     "name": "stdout",
     "output_type": "stream",
     "text": [
      "2.7239842237403167e-07\n",
      "0.9999999441030138\n",
      "2.7239842237403167e-07\n",
      "0.9999999441030138\n"
     ]
    }
   ],
   "source": [
    "#python buil-in\n",
    "print(min(big_array))\n",
    "print(max(big_array))\n",
    "#NumPy\n",
    "print(np.min(big_array))\n",
    "print(np.max(big_array))"
   ]
  },
  {
   "cell_type": "code",
   "execution_count": 28,
   "metadata": {},
   "outputs": [
    {
     "name": "stdout",
     "output_type": "stream",
     "text": [
      "179 ms ± 4.15 ms per loop (mean ± std. dev. of 7 runs, 10 loops each)\n",
      "4.83 ms ± 559 µs per loop (mean ± std. dev. of 7 runs, 100 loops each)\n"
     ]
    }
   ],
   "source": [
    "%timeit min(big_array)\n",
    "%timeit np.min(big_array)"
   ]
  },
  {
   "cell_type": "markdown",
   "metadata": {},
   "source": [
    "#### Multidimensional aggregation\n",
    "\n",
    "One common type of aggregation operation is an aggregate along a row and column.\n",
    "Say we have data stored in 2-dimensional array"
   ]
  },
  {
   "cell_type": "code",
   "execution_count": 30,
   "metadata": {},
   "outputs": [
    {
     "name": "stdout",
     "output_type": "stream",
     "text": [
      "[[0.01686024 0.36481134 0.98660598 0.31749868]\n",
      " [0.45143885 0.9958938  0.45330852 0.51354934]\n",
      " [0.52425094 0.06974814 0.34389574 0.99228892]]\n"
     ]
    }
   ],
   "source": [
    "M=np.random.random((3,4))\n",
    "print(M)"
   ]
  },
  {
   "cell_type": "markdown",
   "metadata": {},
   "source": [
    "By default , NumPy aggreagation function wull return the aggregate over the entire array. Aggreagate function take an additional argument specifying the _axis_ along which the aggreagate is computed. FOr exmple we can find the minimum values withineach column by specifying _axis_=0:"
   ]
  },
  {
   "cell_type": "code",
   "execution_count": 31,
   "metadata": {},
   "outputs": [
    {
     "data": {
      "text/plain": [
       "6.0301505049108775"
      ]
     },
     "execution_count": 31,
     "metadata": {},
     "output_type": "execute_result"
    }
   ],
   "source": [
    "#aggreagate whitout argument axis, aggregate throug all array\n",
    "M.sum()"
   ]
  },
  {
   "cell_type": "code",
   "execution_count": 32,
   "metadata": {},
   "outputs": [
    {
     "data": {
      "text/plain": [
       "array([0.01686024, 0.06974814, 0.34389574, 0.31749868])"
      ]
     },
     "execution_count": 32,
     "metadata": {},
     "output_type": "execute_result"
    }
   ],
   "source": [
    "M.min(axis=0)"
   ]
  },
  {
   "cell_type": "code",
   "execution_count": 33,
   "metadata": {},
   "outputs": [
    {
     "data": {
      "text/plain": [
       "array([0.01686024, 0.45143885, 0.06974814])"
      ]
     },
     "execution_count": 33,
     "metadata": {},
     "output_type": "execute_result"
    }
   ],
   "source": [
    "# similarly, we can find the maxinum and minimum values for each row:\n",
    "M.min(axis=1)"
   ]
  },
  {
   "cell_type": "markdown",
   "metadata": {},
   "source": [
    "<center><img src='img\\aggregate1.png'/></center>"
   ]
  },
  {
   "cell_type": "code",
   "execution_count": null,
   "metadata": {},
   "outputs": [],
   "source": []
  },
  {
   "cell_type": "code",
   "execution_count": null,
   "metadata": {},
   "outputs": [],
   "source": []
  },
  {
   "cell_type": "markdown",
   "metadata": {},
   "source": [
    "#### loadtext"
   ]
  },
  {
   "cell_type": "code",
   "execution_count": 54,
   "metadata": {},
   "outputs": [],
   "source": [
    "# automatically generated an array from the text file\n"
   ]
  },
  {
   "cell_type": "markdown",
   "metadata": {},
   "source": [
    "<center><img src='img\\text.png' /></center>"
   ]
  },
  {
   "cell_type": "code",
   "execution_count": 57,
   "metadata": {},
   "outputs": [
    {
     "data": {
      "text/plain": [
       "array([[   1,    1, 2000,   13],\n",
       "       [   4,    1, 2000,   55]])"
      ]
     },
     "execution_count": 57,
     "metadata": {},
     "output_type": "execute_result"
    }
   ],
   "source": [
    "arr=np.loadtxt('data.txt', skiprows=1,dtype=int,delimiter=\",\",usecols=(0,1,2,4),comments=\"%\")\n",
    "arr"
   ]
  },
  {
   "cell_type": "code",
   "execution_count": 58,
   "metadata": {},
   "outputs": [],
   "source": [
    "# save an arr into a txt file\n",
    "np.savetxt('filename',arr)"
   ]
  },
  {
   "cell_type": "markdown",
   "metadata": {},
   "source": [
    "## Reshape\n",
    "Returns an array containing the same data with a new shape."
   ]
  },
  {
   "cell_type": "code",
   "execution_count": 38,
   "metadata": {},
   "outputs": [
    {
     "data": {
      "text/plain": [
       "array([[ 0,  1,  2,  3,  4],\n",
       "       [ 5,  6,  7,  8,  9],\n",
       "       [10, 11, 12, 13, 14],\n",
       "       [15, 16, 17, 18, 19],\n",
       "       [20, 21, 22, 23, 24]])"
      ]
     },
     "execution_count": 38,
     "metadata": {},
     "output_type": "execute_result"
    }
   ],
   "source": [
    "arr.reshape(5,5)"
   ]
  },
  {
   "cell_type": "markdown",
   "metadata": {},
   "source": [
    "## Shape\n",
    "\n",
    "Shape is an attribute that arrays have (not a method):"
   ]
  },
  {
   "cell_type": "code",
   "execution_count": 49,
   "metadata": {},
   "outputs": [
    {
     "data": {
      "text/plain": [
       "(25,)"
      ]
     },
     "execution_count": 49,
     "metadata": {},
     "output_type": "execute_result"
    }
   ],
   "source": [
    "# Vector\n",
    "arr.shape"
   ]
  },
  {
   "cell_type": "code",
   "execution_count": 54,
   "metadata": {},
   "outputs": [
    {
     "name": "stdout",
     "output_type": "stream",
     "text": [
      "<class 'int'>\n",
      "<class 'tuple'>\n"
     ]
    }
   ],
   "source": [
    "# shape return a tuple (dimension,)\n",
    "# brackets don't make tuple, that's what comma are doing\n",
    "f=(5)\n",
    "print(type(f))\n",
    "f=(5,)\n",
    "print(type(f))"
   ]
  },
  {
   "cell_type": "code",
   "execution_count": 44,
   "metadata": {},
   "outputs": [
    {
     "data": {
      "text/plain": [
       "array([[ 0,  1,  2,  3,  4,  5,  6,  7,  8,  9, 10, 11, 12, 13, 14, 15,\n",
       "        16, 17, 18, 19, 20, 21, 22, 23, 24]])"
      ]
     },
     "execution_count": 44,
     "metadata": {},
     "output_type": "execute_result"
    }
   ],
   "source": [
    "# Notice the two sets of brackets\n",
    "arr.reshape(1,25)"
   ]
  },
  {
   "cell_type": "code",
   "execution_count": 45,
   "metadata": {},
   "outputs": [
    {
     "data": {
      "text/plain": [
       "(1, 25)"
      ]
     },
     "execution_count": 45,
     "metadata": {},
     "output_type": "execute_result"
    }
   ],
   "source": [
    "arr.reshape(1,25).shape"
   ]
  },
  {
   "cell_type": "code",
   "execution_count": 46,
   "metadata": {},
   "outputs": [
    {
     "data": {
      "text/plain": [
       "array([[ 0],\n",
       "       [ 1],\n",
       "       [ 2],\n",
       "       [ 3],\n",
       "       [ 4],\n",
       "       [ 5],\n",
       "       [ 6],\n",
       "       [ 7],\n",
       "       [ 8],\n",
       "       [ 9],\n",
       "       [10],\n",
       "       [11],\n",
       "       [12],\n",
       "       [13],\n",
       "       [14],\n",
       "       [15],\n",
       "       [16],\n",
       "       [17],\n",
       "       [18],\n",
       "       [19],\n",
       "       [20],\n",
       "       [21],\n",
       "       [22],\n",
       "       [23],\n",
       "       [24]])"
      ]
     },
     "execution_count": 46,
     "metadata": {},
     "output_type": "execute_result"
    }
   ],
   "source": [
    "arr.reshape(25,1)"
   ]
  },
  {
   "cell_type": "code",
   "execution_count": 55,
   "metadata": {},
   "outputs": [
    {
     "data": {
      "text/plain": [
       "(25, 1)"
      ]
     },
     "execution_count": 55,
     "metadata": {},
     "output_type": "execute_result"
    }
   ],
   "source": [
    "arr.reshape(25,1).shape"
   ]
  },
  {
   "cell_type": "code",
   "execution_count": 14,
   "metadata": {},
   "outputs": [
    {
     "data": {
      "text/plain": [
       "nan"
      ]
     },
     "execution_count": 14,
     "metadata": {},
     "output_type": "execute_result"
    }
   ],
   "source": [
    "# Convert a string or number to a floating point number, if possible.\n",
    "np.nan"
   ]
  },
  {
   "cell_type": "markdown",
   "metadata": {},
   "source": [
    "# Indexing and Slicing"
   ]
  },
  {
   "cell_type": "markdown",
   "metadata": {},
   "source": [
    "### Indexing"
   ]
  },
  {
   "cell_type": "markdown",
   "metadata": {},
   "source": [
    "<center><img src='img\\indexing.png' /></center>"
   ]
  },
  {
   "cell_type": "code",
   "execution_count": 44,
   "metadata": {},
   "outputs": [
    {
     "data": {
      "text/plain": [
       "array([1, 2])"
      ]
     },
     "execution_count": 44,
     "metadata": {},
     "output_type": "execute_result"
    }
   ],
   "source": [
    "a=np.array([0,1,2,3])\n",
    "# get a value at an index\n",
    "a[0]\n",
    "# get value in a range\n",
    "a[1:3]"
   ]
  },
  {
   "cell_type": "markdown",
   "metadata": {},
   "source": [
    "<center><img src='img\\indexing2.png' /></center>"
   ]
  },
  {
   "cell_type": "code",
   "execution_count": 16,
   "metadata": {},
   "outputs": [
    {
     "data": {
      "text/plain": [
       "array([10,  1,  2,  3])"
      ]
     },
     "execution_count": 16,
     "metadata": {},
     "output_type": "execute_result"
    }
   ],
   "source": [
    "# ap array is mutable\n",
    "a[0]=10\n",
    "a"
   ]
  },
  {
   "cell_type": "markdown",
   "metadata": {},
   "source": [
    "### Beware Of Type Coercion"
   ]
  },
  {
   "cell_type": "code",
   "execution_count": 18,
   "metadata": {},
   "outputs": [
    {
     "data": {
      "text/plain": [
       "dtype('int32')"
      ]
     },
     "execution_count": 18,
     "metadata": {},
     "output_type": "execute_result"
    }
   ],
   "source": [
    "# np array is homogen, every single elements of array is a same type\n",
    "a.dtype"
   ]
  },
  {
   "cell_type": "code",
   "execution_count": 25,
   "metadata": {},
   "outputs": [
    {
     "data": {
      "text/plain": [
       "array([10,  2,  3,  4,  5])"
      ]
     },
     "execution_count": 25,
     "metadata": {},
     "output_type": "execute_result"
    }
   ],
   "source": [
    "# assigning a float into an int32 array truncates the decimal part\n",
    "a[0]=10.4\n",
    "a"
   ]
  },
  {
   "cell_type": "code",
   "execution_count": 19,
   "metadata": {},
   "outputs": [
    {
     "name": "stdout",
     "output_type": "stream",
     "text": [
      "int32\n",
      "float64\n",
      "complex128\n"
     ]
    }
   ],
   "source": [
    "# how numpy recognize what type list is it?\n",
    "# if everything is integer the type of array is integer\n",
    "# is one of tham a float the array is be float\n",
    "# is one of tham a complex array is complex\n",
    "a=np.array([1,2,3,4,5])\n",
    "print(a.dtype)\n",
    "b=np.array([1,2,3,4,5.1])\n",
    "print(b.dtype)\n",
    "c=np.array([1,2,3,4,5,3+1j])\n",
    "print(c.dtype)"
   ]
  },
  {
   "cell_type": "code",
   "execution_count": 28,
   "metadata": {},
   "outputs": [
    {
     "data": {
      "text/plain": [
       "array([-4, -4, -4, -4, -4])"
      ]
     },
     "execution_count": 28,
     "metadata": {},
     "output_type": "execute_result"
    }
   ],
   "source": [
    "# fill has the same behaviors\n",
    "a.fill(-4.5)\n",
    "a"
   ]
  },
  {
   "cell_type": "code",
   "execution_count": 59,
   "metadata": {},
   "outputs": [
    {
     "data": {
      "text/plain": [
       "dtype('float64')"
      ]
     },
     "execution_count": 59,
     "metadata": {},
     "output_type": "execute_result"
    }
   ],
   "source": [
    "# we can forcing type of array by put dtype\n",
    "x=np.array([1,2,3,4,5], dtype='float')\n",
    "x.dtype"
   ]
  },
  {
   "cell_type": "code",
   "execution_count": null,
   "metadata": {},
   "outputs": [],
   "source": []
  },
  {
   "cell_type": "markdown",
   "metadata": {},
   "source": [
    "# Multi-Dimensional Arrays\n"
   ]
  },
  {
   "cell_type": "code",
   "execution_count": 33,
   "metadata": {},
   "outputs": [
    {
     "data": {
      "text/plain": [
       "array([[ 0,  1,  2,  3],\n",
       "       [10, 11, 12, 13]])"
      ]
     },
     "execution_count": 33,
     "metadata": {},
     "output_type": "execute_result"
    }
   ],
   "source": [
    "# list of list\n",
    "a=np.array([[0,1,2,3],\n",
    "            [10,11,12,13]])\n",
    "a"
   ]
  },
  {
   "cell_type": "markdown",
   "metadata": {},
   "source": [
    "<center><img src='img\\2d.1.png' /></center>"
   ]
  },
  {
   "cell_type": "code",
   "execution_count": 41,
   "metadata": {},
   "outputs": [
    {
     "name": "stdout",
     "output_type": "stream",
     "text": [
      "(2, 4)\n",
      "8\n",
      "2\n"
     ]
    }
   ],
   "source": [
    "# Shape =(rows, columns)\n",
    "print(a.shape)\n",
    "# Element count\n",
    "print(a.size)\n",
    "# Number of dimensions\n",
    "print(a.ndim)"
   ]
  },
  {
   "cell_type": "markdown",
   "metadata": {},
   "source": [
    "<center>Shape:<img src='img\\2d.2.png' /></center>\n",
    "<center>Element count:<img src='img\\2d.3.png' /></center>\n",
    "<center>Number of dimensions:<img src='img\\2d.4.png' /></center>"
   ]
  },
  {
   "cell_type": "code",
   "execution_count": 44,
   "metadata": {},
   "outputs": [
    {
     "name": "stdout",
     "output_type": "stream",
     "text": [
      "int32\n",
      "8\n",
      "32\n"
     ]
    }
   ],
   "source": [
    "# Type:\n",
    "print(a.dtype)\n",
    "# Total number of element\n",
    "print(a.size)\n",
    "# Number of bytes\n",
    "print(a.nbytes)\n"
   ]
  },
  {
   "cell_type": "markdown",
   "metadata": {},
   "source": [
    "### Get / Set Elements"
   ]
  },
  {
   "cell_type": "code",
   "execution_count": 45,
   "metadata": {},
   "outputs": [
    {
     "data": {
      "text/plain": [
       "array([[ 0,  1,  2,  3],\n",
       "       [10, 11, 12, 13]])"
      ]
     },
     "execution_count": 45,
     "metadata": {},
     "output_type": "execute_result"
    }
   ],
   "source": [
    "a"
   ]
  },
  {
   "cell_type": "markdown",
   "metadata": {},
   "source": [
    "<center><img src='img\\2d.7.png' /></center>"
   ]
  },
  {
   "cell_type": "code",
   "execution_count": 49,
   "metadata": {},
   "outputs": [
    {
     "data": {
      "text/plain": [
       "-1"
      ]
     },
     "execution_count": 49,
     "metadata": {},
     "output_type": "execute_result"
    }
   ],
   "source": [
    "# get element for first row and third column\n",
    "a[1,3]"
   ]
  },
  {
   "cell_type": "code",
   "execution_count": 48,
   "metadata": {},
   "outputs": [
    {
     "data": {
      "text/plain": [
       "array([[ 0,  1,  2,  3],\n",
       "       [10, 11, 12, -1]])"
      ]
     },
     "execution_count": 48,
     "metadata": {},
     "output_type": "execute_result"
    }
   ],
   "source": [
    "# Change 2D array element\n",
    "a[1,3] = -1\n",
    "a"
   ]
  },
  {
   "cell_type": "markdown",
   "metadata": {},
   "source": [
    "<center><img src='img\\2d.5.png' /></center>"
   ]
  },
  {
   "cell_type": "code",
   "execution_count": 50,
   "metadata": {},
   "outputs": [
    {
     "data": {
      "text/plain": [
       "array([10, 11, 12, -1])"
      ]
     },
     "execution_count": 50,
     "metadata": {},
     "output_type": "execute_result"
    }
   ],
   "source": [
    "# Address second (oneth) row using single index\n",
    "a[1]"
   ]
  },
  {
   "cell_type": "markdown",
   "metadata": {},
   "source": [
    "<center><img src='img\\2d.6.png' /></center>"
   ]
  },
  {
   "cell_type": "markdown",
   "metadata": {},
   "source": [
    "# Indexing and Slicing"
   ]
  },
  {
   "cell_type": "markdown",
   "metadata": {},
   "source": [
    "### Slicing\n",
    "\n",
    "**var[lower,upper,step]**<br>\n",
    "Exrtact a portion of a sequence by specifying lower and upper bound.<br>\n",
    "The lower-bound element is includeed, but the upper element is **not** included.<br>\n",
    "Mathematically: [lower,upper). The step value specifies the stride between elements."
   ]
  },
  {
   "cell_type": "code",
   "execution_count": 3,
   "metadata": {},
   "outputs": [
    {
     "data": {
      "text/plain": [
       "array([11, 12])"
      ]
     },
     "execution_count": 3,
     "metadata": {},
     "output_type": "execute_result"
    }
   ],
   "source": [
    "# slicing 1-d array\n",
    "#           -5 -4 -3 -2 -1\n",
    "#            0  1  2  3  4 \n",
    "a=np.array([10,11,12,13,14])\n",
    "# positiv indices \n",
    "a[1:3]\n",
    "\n",
    "# negative indices\n",
    "a[1:-2]  # drop first one and drop second from the end\n",
    "\n",
    "# do not recommend this type of slicing\n",
    "a[-4:3]"
   ]
  },
  {
   "cell_type": "code",
   "execution_count": 4,
   "metadata": {},
   "outputs": [
    {
     "data": {
      "text/plain": [
       "array([10, 12, 14])"
      ]
     },
     "execution_count": 4,
     "metadata": {},
     "output_type": "execute_result"
    }
   ],
   "source": [
    "# OMITTED INDEXING\n",
    "# omitted banderies are assumed to beginning(or end) of the list\n",
    "\n",
    "# grab fist three elements\n",
    "a[:3]\n",
    "# grab last teo elements\n",
    "a[-2:]\n",
    "# every other element\n",
    "a[::2]\n"
   ]
  },
  {
   "cell_type": "code",
   "execution_count": 7,
   "metadata": {},
   "outputs": [
    {
     "data": {
      "text/plain": [
       "array([11, 12])"
      ]
     },
     "execution_count": 7,
     "metadata": {},
     "output_type": "execute_result"
    }
   ],
   "source": [
    "# Important notes on Slices\n",
    "slice_arr=a[1:3]\n",
    "\n",
    "# Show Slice \n",
    "slice_arr"
   ]
  },
  {
   "cell_type": "code",
   "execution_count": 8,
   "metadata": {},
   "outputs": [
    {
     "data": {
      "text/plain": [
       "array([99, 99])"
      ]
     },
     "execution_count": 8,
     "metadata": {},
     "output_type": "execute_result"
    }
   ],
   "source": [
    "# Change Slice\n",
    "slice_arr[:]=99\n",
    "\n",
    "#Show Slice\n",
    "slice_arr"
   ]
  },
  {
   "cell_type": "code",
   "execution_count": 9,
   "metadata": {},
   "outputs": [
    {
     "data": {
      "text/plain": [
       "array([10, 99, 99, 13, 14])"
      ]
     },
     "execution_count": 9,
     "metadata": {},
     "output_type": "execute_result"
    }
   ],
   "source": [
    "# Changes also affect our original array\n",
    "# Slice are references to memory in the original array\n",
    "# Change values in a slice also changes the original array\n",
    "a\n",
    "# This tall us data is not copy, it is view of the original array!"
   ]
  },
  {
   "cell_type": "code",
   "execution_count": 10,
   "metadata": {},
   "outputs": [
    {
     "data": {
      "text/plain": [
       "array([10, 99, 99, 13, 14])"
      ]
     },
     "execution_count": 10,
     "metadata": {},
     "output_type": "execute_result"
    }
   ],
   "source": [
    "# To get a copy, need to be \n",
    "arr_copy=a.copy()\n",
    "arr_copy"
   ]
  },
  {
   "cell_type": "markdown",
   "metadata": {},
   "source": [
    "## Indexing a 2D array (matrices)\n",
    "\n",
    "The general format is **a[row][col]** or **a[row,col]**. I recommend usually using the comma notation for clarity."
   ]
  },
  {
   "cell_type": "markdown",
   "metadata": {},
   "source": [
    "<center><img src='img\\2d.8.png' /></center>"
   ]
  },
  {
   "cell_type": "code",
   "execution_count": 28,
   "metadata": {},
   "outputs": [],
   "source": [
    "a=np.array(([0,1,2,3,4,5],\n",
    "            [10,11,12,13,14,15],\n",
    "            [20,21,22,23,24,25],\n",
    "            [30,31,32,33,34,35],\n",
    "            [40,41,42,43,44,45],\n",
    "            [50,51,52,53,54,55]))\n"
   ]
  },
  {
   "cell_type": "code",
   "execution_count": 29,
   "metadata": {},
   "outputs": [
    {
     "data": {
      "text/plain": [
       "array([30, 31, 32, 33, 34, 35])"
      ]
     },
     "execution_count": 29,
     "metadata": {},
     "output_type": "execute_result"
    }
   ],
   "source": [
    "#Indexing row\n",
    "a[3]"
   ]
  },
  {
   "cell_type": "code",
   "execution_count": 31,
   "metadata": {},
   "outputs": [
    {
     "data": {
      "text/plain": [
       "34"
      ]
     },
     "execution_count": 31,
     "metadata": {},
     "output_type": "execute_result"
    }
   ],
   "source": [
    "# Format is a[row][col] or a[row,col]\n",
    "# Getting a element\n",
    "a[3][4]\n",
    "# Getting a element \n",
    "a[3,4]"
   ]
  },
  {
   "cell_type": "code",
   "execution_count": 19,
   "metadata": {},
   "outputs": [
    {
     "name": "stdout",
     "output_type": "stream",
     "text": [
      "[3 4]\n",
      "[[44 45]\n",
      " [54 55]]\n",
      "[ 2 12 22 32 42 52]\n"
     ]
    }
   ],
   "source": [
    "# Slicing 2D array:\n",
    "# grab first row and all element from [3,5) column\n",
    "Yellow=a[0,3:5]\n",
    "# grab every rows from 4 to the end and grab every columns from 4 to the end\n",
    "Blue=a[4:,4:]\n",
    "# Grab all rows and column whit index 2 \n",
    "Red=a[:,2]\n",
    "\n",
    "print(Yellow)\n",
    "\n",
    "print(Blue)\n",
    "\n",
    "print(Red)\n",
    "\n"
   ]
  },
  {
   "cell_type": "code",
   "execution_count": 26,
   "metadata": {},
   "outputs": [
    {
     "name": "stdout",
     "output_type": "stream",
     "text": [
      "Array dimension: 1\n",
      "Indexing: 0\n",
      "Slicing: 1\n"
     ]
    }
   ],
   "source": [
    "# tip: every time when we indexing we drop dimension, and when we slice keep dimension\n",
    "g=np.array([1,2,3,4])\n",
    "print(f\"Array dimension: {g.ndim}\")\n",
    "\n",
    "# Indexing\n",
    "print(f\"Indexing: {g[1].ndim}\")\n",
    "\n",
    "# Slicing\n",
    "print(f\"Slicing: {g[1:].ndim}\")"
   ]
  },
  {
   "cell_type": "code",
   "execution_count": 27,
   "metadata": {},
   "outputs": [
    {
     "data": {
      "text/plain": [
       "array([[20, 22, 24],\n",
       "       [40, 42, 44]])"
      ]
     },
     "execution_count": 27,
     "metadata": {},
     "output_type": "execute_result"
    }
   ],
   "source": [
    "# Steps are also possible\n",
    "\n",
    "a[2::2,::2] # from row 0 until the end in step of two\n",
    "            # and for columns we go from beginning to the end in step of two"
   ]
  },
  {
   "cell_type": "markdown",
   "metadata": {},
   "source": [
    "# Fancy Indexing\n",
    "Fancy indexing allows you to select entire rows or columns out of order,to show this, let's quickly build out a numpy array:"
   ]
  },
  {
   "cell_type": "markdown",
   "metadata": {},
   "source": [
    "<center><img src='img\\2d.9.png' /></center>"
   ]
  },
  {
   "cell_type": "code",
   "execution_count": 72,
   "metadata": {},
   "outputs": [
    {
     "name": "stdout",
     "output_type": "stream",
     "text": [
      "[ 0 10 20 30 40 50 60 70]\n",
      "[10 20 50]\n",
      "[ 0 10 20]\n",
      "[-1 -2 -5]\n",
      "[3 0 0 4 0 8]\n"
     ]
    }
   ],
   "source": [
    "a = np.arange(0,80,10)\n",
    "print(a)\n",
    "# Every thime when we used fancy indexing we got a copy, and every time when we used slicing we\n",
    "# work in same memory -- give a view\n",
    "# indexing by position\n",
    "\n",
    "indices=[1,2,-3]\n",
    "y=a[indices]\n",
    "print(y)\n",
    "\n",
    "# indexing with boolean\n",
    "# Create mask\n",
    "mask=np.array([0,1,1,0,0,1,0,0],dtype=bool)\n",
    "\n",
    "# Conditional create of mask\n",
    "mask2=a<30\n",
    "y=a[mask2]\n",
    "print(y)\n",
    "# very important, mask and array must have same number od elements\n",
    "\n",
    "a=np.array([3,-1,-2,4,-5,8])\n",
    "# create mask for negatives number\n",
    "negative=a<3\n",
    "print(a[negative]) # a[a<0] is also work\n",
    "\n",
    "# using mask to change array, modify array inplace but \n",
    "a[a<0]=0\n",
    "print(a)"
   ]
  },
  {
   "cell_type": "markdown",
   "metadata": {},
   "source": [
    "#### boolean"
   ]
  },
  {
   "cell_type": "code",
   "execution_count": 73,
   "metadata": {},
   "outputs": [
    {
     "data": {
      "text/plain": [
       "array([ True,  True,  True,  True,  True, False])"
      ]
     },
     "execution_count": 73,
     "metadata": {},
     "output_type": "execute_result"
    }
   ],
   "source": [
    "a<8"
   ]
  },
  {
   "cell_type": "code",
   "execution_count": 74,
   "metadata": {},
   "outputs": [
    {
     "data": {
      "text/plain": [
       "array([False, False, False,  True, False,  True])"
      ]
     },
     "execution_count": 74,
     "metadata": {},
     "output_type": "execute_result"
    }
   ],
   "source": [
    "a>3"
   ]
  },
  {
   "cell_type": "code",
   "execution_count": 75,
   "metadata": {},
   "outputs": [
    {
     "ename": "ValueError",
     "evalue": "The truth value of an array with more than one element is ambiguous. Use a.any() or a.all()",
     "output_type": "error",
     "traceback": [
      "\u001b[1;31m---------------------------------------------------------------------------\u001b[0m",
      "\u001b[1;31mValueError\u001b[0m                                Traceback (most recent call last)",
      "\u001b[1;32m<ipython-input-75-021b4e7eb494>\u001b[0m in \u001b[0;36m<module>\u001b[1;34m()\u001b[0m\n\u001b[1;32m----> 1\u001b[1;33m \u001b[0ma\u001b[0m\u001b[1;33m>\u001b[0m\u001b[1;36m3\u001b[0m \u001b[1;32mand\u001b[0m \u001b[0ma\u001b[0m\u001b[1;33m<\u001b[0m\u001b[1;36m8\u001b[0m \u001b[1;31m# and, or expect one true or one false not array of true and or-s\u001b[0m\u001b[1;33m\u001b[0m\u001b[0m\n\u001b[0m\u001b[0;32m      2\u001b[0m              \u001b[1;31m# python in confused\u001b[0m\u001b[1;33m\u001b[0m\u001b[1;33m\u001b[0m\u001b[0m\n",
      "\u001b[1;31mValueError\u001b[0m: The truth value of an array with more than one element is ambiguous. Use a.any() or a.all()"
     ]
    }
   ],
   "source": [
    "a>3 and a<8 # and, or expect one true or one false not array of true and or-s\n",
    "             # python in confused"
   ]
  },
  {
   "cell_type": "code",
   "execution_count": 76,
   "metadata": {},
   "outputs": [
    {
     "data": {
      "text/plain": [
       "True"
      ]
     },
     "execution_count": 76,
     "metadata": {},
     "output_type": "execute_result"
    }
   ],
   "source": [
    "# any()\n",
    "#Returns True if any of the elements of `a` evaluate to True.\n",
    "(a<8).any()"
   ]
  },
  {
   "cell_type": "markdown",
   "metadata": {},
   "source": [
    "#### Binary and Bitwise Operator\n",
    "\n",
    "Binary operators: and, or, not - expect one true or one false for each side<br>\n",
    "Bitwise operator: &(and), |(or), ~(not), ^(hor) - accept more then one paramether"
   ]
  },
  {
   "cell_type": "code",
   "execution_count": 82,
   "metadata": {},
   "outputs": [
    {
     "data": {
      "text/plain": [
       "(array([0], dtype=int32),)"
      ]
     },
     "execution_count": 82,
     "metadata": {},
     "output_type": "execute_result"
    }
   ],
   "source": [
    "negatives=(a>3)&(a<8)\n",
    "negatives\n",
    "# position on True\n",
    "np.nonzero(negatives) #Return the indices of the elements that are non-zero.\n",
    "a=np.array([10,1,20])\n",
    "b=np.array([2,3,20])\n",
    "a>b #everything what is boolean array we can used like mask\n",
    "np.nonzero(a>b)"
   ]
  },
  {
   "cell_type": "code",
   "execution_count": 83,
   "metadata": {},
   "outputs": [
    {
     "data": {
      "text/plain": [
       "11"
      ]
     },
     "execution_count": 83,
     "metadata": {},
     "output_type": "execute_result"
    }
   ],
   "source": [
    "# are this betwidse operators overloaded for np?\n",
    "# yes and no. \n",
    "f=6 \n",
    "g=5\n",
    "f + g\n",
    "f.__add__(g) # python translate this call to a this method--\"special methods\". part pzthon protocol. we can see them used f.__\n",
    "            # everthis is cand overloaded"
   ]
  },
  {
   "cell_type": "markdown",
   "metadata": {},
   "source": [
    "### Fancy indexing in 2D array"
   ]
  },
  {
   "cell_type": "markdown",
   "metadata": {},
   "source": [
    "<center><img src='img\\2d.10.png' /></center>"
   ]
  },
  {
   "cell_type": "code",
   "execution_count": 84,
   "metadata": {},
   "outputs": [
    {
     "data": {
      "text/plain": [
       "array([[ 0,  1,  2,  3,  4,  5],\n",
       "       [ 6,  7,  8,  9, 10, 11],\n",
       "       [12, 13, 14, 15, 16, 17],\n",
       "       [18, 19, 20, 21, 22, 23],\n",
       "       [24, 25, 26, 27, 28, 29],\n",
       "       [30, 31, 32, 33, 34, 35]])"
      ]
     },
     "execution_count": 84,
     "metadata": {},
     "output_type": "execute_result"
    }
   ],
   "source": [
    "a= np.arange(36).reshape(6,6)\n",
    "a"
   ]
  },
  {
   "cell_type": "code",
   "execution_count": 85,
   "metadata": {},
   "outputs": [
    {
     "data": {
      "text/plain": [
       "array([ 1,  8, 15, 22, 29])"
      ]
     },
     "execution_count": 85,
     "metadata": {},
     "output_type": "execute_result"
    }
   ],
   "source": [
    "# Yellow\n",
    "a[[0,1,2,3,4],[1,2,3,4,5]] #like decart product (Rowe x Column)"
   ]
  },
  {
   "cell_type": "code",
   "execution_count": 86,
   "metadata": {},
   "outputs": [
    {
     "data": {
      "text/plain": [
       "array([[18, 20, 23],\n",
       "       [24, 26, 29],\n",
       "       [30, 32, 35]])"
      ]
     },
     "execution_count": 86,
     "metadata": {},
     "output_type": "execute_result"
    }
   ],
   "source": [
    "# Blues\n",
    "a[3:,[0,2,5]] #we can't do this whit slicing because this is step of one and step of two"
   ]
  },
  {
   "cell_type": "code",
   "execution_count": 87,
   "metadata": {},
   "outputs": [
    {
     "data": {
      "text/plain": [
       "array([ 2, 14, 32])"
      ]
     },
     "execution_count": 87,
     "metadata": {},
     "output_type": "execute_result"
    }
   ],
   "source": [
    "# used mask\n",
    "\n",
    "# Red\n",
    "mask=np.array([1,0,1,0,0,1],dtype=bool) # tip=mask=np.array([1,0,1,0,0,1]) different results\n",
    "a[mask,2] # used mask for rows and column index 2 fixed"
   ]
  },
  {
   "cell_type": "code",
   "execution_count": 10,
   "metadata": {},
   "outputs": [
    {
     "name": "stdout",
     "output_type": "stream",
     "text": [
      "1\n",
      "[10 30]\n",
      "[10 30]\n",
      "True\n",
      "False\n",
      "True\n",
      "[10  1 30]\n",
      "\n",
      "\n",
      "[-1 30]\n",
      "[10  1 30]\n",
      "\n",
      "\n",
      "[-1 30]\n",
      "[-1  1 30]\n"
     ]
    }
   ],
   "source": [
    "# Subset vs array\n",
    "a=np.array([10,1,30])\n",
    "print(a.ndim)\n",
    "# build subest form array used index to pick up element create now array, \n",
    "# whit slicing we don't create a new array\n",
    "\n",
    "# SUBSET\n",
    "subset=a[[0,2]] \n",
    "print(subset)\n",
    "\n",
    "# SLICING\n",
    "a_slice=a[::2]\n",
    "print(a_slice)\n",
    "\n",
    "# chack who own data\n",
    "print(subset.flags.owndata)\n",
    "print(a_slice.flags.owndata)\n",
    "print(a.flags.owndata)\n",
    "print(a)\n",
    "print(\"\\n\")\n",
    "\n",
    "# change element is subset, dont cause change elements in array\n",
    "subset[0]=-1\n",
    "print(subset)\n",
    "print(a)\n",
    "print(\"\\n\")\n",
    "# change element is slice cause change in array\n",
    "a_slice[0]=-1\n",
    "print(a_slice)\n",
    "print(a)\n"
   ]
  },
  {
   "cell_type": "markdown",
   "metadata": {},
   "source": [
    "# Multi-Dimensional Array -Visualisation"
   ]
  },
  {
   "cell_type": "markdown",
   "metadata": {},
   "source": [
    "<center><img src='img\\2d.11.png' /></center>"
   ]
  },
  {
   "cell_type": "markdown",
   "metadata": {},
   "source": [
    "# Computations whit Arrays\n",
    "## Rule:\n",
    "**Rule 1**: Operations between multiple array objects are first checked for proper match.<br>\n",
    "**Rule 2**: Matematical operators (+, -, *, /, ext, log, ....) apply element by element, on the values<br>\n",
    "__Rule 3__ : Reducion operations (mean, std, skew, kurt, sum, prod,...) apply to the whole array, unless an axis is specifid.<br>\n",
    "__Rule 4__: Missing values propagate unless explicitly ignored (nanmean, nansum..)"
   ]
  },
  {
   "cell_type": "markdown",
   "metadata": {},
   "source": [
    "### Calculation method"
   ]
  },
  {
   "cell_type": "markdown",
   "metadata": {},
   "source": [
    "<center><img src='img\\11.png' /></center>"
   ]
  },
  {
   "cell_type": "markdown",
   "metadata": {},
   "source": [
    "### Sum Method"
   ]
  },
  {
   "cell_type": "code",
   "execution_count": 51,
   "metadata": {},
   "outputs": [
    {
     "name": "stdout",
     "output_type": "stream",
     "text": [
      "21\n",
      "[5 7 9]\n",
      "[ 6 15]\n"
     ]
    }
   ],
   "source": [
    "# method act on data stored in the array\n",
    "a=np.array([[1,2,3],[4,5,6]])\n",
    "\n",
    "# .sum() default to adding up all the values in an array\n",
    "print(a.sum())\n",
    "# supply the keyword axis to sum alog the 0th axis\n",
    "print(a.sum(axis=0))\n",
    "\n",
    "# supply the keyword axis to sum along the last axis\n",
    "print(a.sum(axis=-1))"
   ]
  },
  {
   "cell_type": "markdown",
   "metadata": {},
   "source": [
    "### Sum Function"
   ]
  },
  {
   "cell_type": "code",
   "execution_count": 53,
   "metadata": {},
   "outputs": [
    {
     "name": "stdout",
     "output_type": "stream",
     "text": [
      "21\n"
     ]
    },
    {
     "data": {
      "text/plain": [
       "array([5, 7, 9])"
      ]
     },
     "execution_count": 53,
     "metadata": {},
     "output_type": "execute_result"
    }
   ],
   "source": [
    "# Function work on data passed to it\n",
    "\n",
    "a=np.array([[1,2,3],[4,5,6]])\n",
    "# sum() defaults to adding up all values in an array\n",
    "print(np.sum(a))\n",
    "\n",
    "# supply an axis argument to sum along a specific axis\n",
    "np.sum(a,axis=0)"
   ]
  },
  {
   "cell_type": "markdown",
   "metadata": {},
   "source": [
    "### Ather Method and Function\n",
    "#### Mathematical function\n",
    "* sum, prod\n",
    "* min, max, argmin, argmax\n",
    "* ptp ( max - min )\n",
    "#### Statistics\n",
    "* mean, std, var\n",
    "#### Truth values testing\n",
    "* any, all"
   ]
  },
  {
   "cell_type": "code",
   "execution_count": null,
   "metadata": {},
   "outputs": [],
   "source": []
  },
  {
   "cell_type": "code",
   "execution_count": 57,
   "metadata": {},
   "outputs": [
    {
     "data": {
      "text/plain": [
       "0.0"
      ]
     },
     "execution_count": 57,
     "metadata": {},
     "output_type": "execute_result"
    }
   ],
   "source": [
    "# MIN\n",
    "a=np.array([2.,3.,0.,1.])\n",
    "a.min(axis=0)\n",
    "# using NumPy's min() insteed of Python's build-in min() for speedy operations\n",
    "# on multi-dimensional arrays\n",
    "\n",
    "# as a function:\n",
    "np.min(a,axis=0)"
   ]
  },
  {
   "cell_type": "code",
   "execution_count": 60,
   "metadata": {},
   "outputs": [
    {
     "data": {
      "text/plain": [
       "3.0"
      ]
     },
     "execution_count": 60,
     "metadata": {},
     "output_type": "execute_result"
    }
   ],
   "source": [
    "# MAX\n",
    "a=np.array([2.,3.,0.,1.])\n",
    "a.max(axis=0)\n",
    "\n",
    "# as a function\n",
    "np.max(a,axis=0)"
   ]
  },
  {
   "cell_type": "code",
   "execution_count": 61,
   "metadata": {},
   "outputs": [
    {
     "data": {
      "text/plain": [
       "2"
      ]
     },
     "execution_count": 61,
     "metadata": {},
     "output_type": "execute_result"
    }
   ],
   "source": [
    "# ARGMIN\n",
    "# find index of minimum values.\n",
    "a.argmin(axis=0)\n",
    "\n",
    "# as a function:\n",
    "np.argmin(a,axis=0)"
   ]
  },
  {
   "cell_type": "code",
   "execution_count": 62,
   "metadata": {},
   "outputs": [
    {
     "data": {
      "text/plain": [
       "1"
      ]
     },
     "execution_count": 62,
     "metadata": {},
     "output_type": "execute_result"
    }
   ],
   "source": [
    "# ARGMIN\n",
    "# find index of minimum values.\n",
    "a.argmax(axis=0)\n",
    "\n",
    "# as a function:\n",
    "np.argmax(a,axis=0)"
   ]
  },
  {
   "cell_type": "code",
   "execution_count": 65,
   "metadata": {},
   "outputs": [
    {
     "data": {
      "text/plain": [
       "array([2.5, 3.5, 4.5])"
      ]
     },
     "execution_count": 65,
     "metadata": {},
     "output_type": "execute_result"
    }
   ],
   "source": [
    "# MEAN\n",
    "a=np.array([[1,2,3],[4,5,6]])\n",
    "#mean values of each column\n",
    "a.mean(axis=0)\n",
    "#function\n",
    "np.mean(a,axis=0)"
   ]
  },
  {
   "cell_type": "code",
   "execution_count": 66,
   "metadata": {},
   "outputs": [
    {
     "data": {
      "text/plain": [
       "array([2.25, 2.25, 2.25])"
      ]
     },
     "execution_count": 66,
     "metadata": {},
     "output_type": "execute_result"
    }
   ],
   "source": [
    "# STANDARD DEV./VARIANCE\n",
    "a.std(axis=0)\n",
    "#for sample set ddof=1\n",
    "a.std(axis=0,ddof=1)\n",
    "\n",
    "#variance\n",
    "a.var(axis=0)\n",
    "#function\n",
    "np.var(a,axis=0)"
   ]
  },
  {
   "cell_type": "markdown",
   "metadata": {},
   "source": [
    "# Array Broadcasting"
   ]
  },
  {
   "cell_type": "code",
   "execution_count": null,
   "metadata": {},
   "outputs": [],
   "source": []
  },
  {
   "cell_type": "code",
   "execution_count": null,
   "metadata": {},
   "outputs": [],
   "source": []
  },
  {
   "cell_type": "code",
   "execution_count": null,
   "metadata": {},
   "outputs": [],
   "source": []
  },
  {
   "cell_type": "code",
   "execution_count": null,
   "metadata": {},
   "outputs": [],
   "source": []
  },
  {
   "cell_type": "code",
   "execution_count": null,
   "metadata": {},
   "outputs": [],
   "source": []
  },
  {
   "cell_type": "code",
   "execution_count": null,
   "metadata": {},
   "outputs": [],
   "source": []
  },
  {
   "cell_type": "code",
   "execution_count": null,
   "metadata": {},
   "outputs": [],
   "source": []
  },
  {
   "cell_type": "code",
   "execution_count": null,
   "metadata": {},
   "outputs": [],
   "source": []
  },
  {
   "cell_type": "code",
   "execution_count": null,
   "metadata": {},
   "outputs": [],
   "source": []
  }
 ],
 "metadata": {
  "kernelspec": {
   "display_name": "Python 3",
   "language": "python",
   "name": "python3"
  },
  "language_info": {
   "codemirror_mode": {
    "name": "ipython",
    "version": 3
   },
   "file_extension": ".py",
   "mimetype": "text/x-python",
   "name": "python",
   "nbconvert_exporter": "python",
   "pygments_lexer": "ipython3",
   "version": "3.7.3"
  }
 },
 "nbformat": 4,
 "nbformat_minor": 2
}
