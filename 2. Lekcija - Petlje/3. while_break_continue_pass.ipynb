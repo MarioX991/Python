{
 "cells": [
  {
   "cell_type": "markdown",
   "metadata": {},
   "source": [
    "# While petlja\n",
    "\n",
    "While petalja je jedan od najosnovnijih nacina da se odrati prolaz(iteracija) kroz objekat. While nepreatano proverava jedan uslov sve dok je taj uslov tacan. Razlog petlje je u tome sto se kroz kod svaki put prolazi dok je uslov potvrdan.\n",
    "\n",
    "        Sintaksa while petlje je:\n",
    "        \n",
    "                while uslov: \n",
    "                     code\n",
    "                else:\n",
    "                     final code"
   ]
  },
  {
   "cell_type": "code",
   "execution_count": 4,
   "metadata": {},
   "outputs": [
    {
     "name": "stdout",
     "output_type": "stream",
     "text": [
      "x je trenutno  0\n",
      "x je i salje manje od 10, dodaj 1 na x\n",
      "x je trenutno  1\n",
      "x je i salje manje od 10, dodaj 1 na x\n",
      "x je trenutno  2\n",
      "x je i salje manje od 10, dodaj 1 na x\n",
      "x je trenutno  3\n",
      "x je i salje manje od 10, dodaj 1 na x\n",
      "x je trenutno  4\n",
      "x je i salje manje od 10, dodaj 1 na x\n",
      "x je trenutno  5\n",
      "x je i salje manje od 10, dodaj 1 na x\n",
      "x je trenutno  6\n",
      "x je i salje manje od 10, dodaj 1 na x\n",
      "x je trenutno  7\n",
      "x je i salje manje od 10, dodaj 1 na x\n",
      "x je trenutno  8\n",
      "x je i salje manje od 10, dodaj 1 na x\n",
      "x je trenutno  9\n",
      "x je i salje manje od 10, dodaj 1 na x\n"
     ]
    }
   ],
   "source": [
    "x=0\n",
    "\n",
    "while (x<10):\n",
    "    print(\"x je trenutno \", x)\n",
    "    print(\"x je i salje manje od 10, dodaj 1 na x\")\n",
    "    x+=1"
   ]
  },
  {
   "cell_type": "code",
   "execution_count": 6,
   "metadata": {},
   "outputs": [
    {
     "name": "stdout",
     "output_type": "stream",
     "text": [
      "x je trenutno  0\n",
      "x je i salje manje od 10, dodaj 1 na x\n",
      "x je trenutno  1\n",
      "x je i salje manje od 10, dodaj 1 na x\n",
      "x je trenutno  2\n",
      "x je i salje manje od 10, dodaj 1 na x\n",
      "x je trenutno  3\n",
      "x je i salje manje od 10, dodaj 1 na x\n",
      "x je trenutno  4\n",
      "x je i salje manje od 10, dodaj 1 na x\n",
      "x je trenutno  5\n",
      "x je i salje manje od 10, dodaj 1 na x\n",
      "x je trenutno  6\n",
      "x je i salje manje od 10, dodaj 1 na x\n",
      "x je trenutno  7\n",
      "x je i salje manje od 10, dodaj 1 na x\n",
      "x je trenutno  8\n",
      "x je i salje manje od 10, dodaj 1 na x\n",
      "x je trenutno  9\n",
      "x je i salje manje od 10, dodaj 1 na x\n",
      "Sve je OK\n"
     ]
    }
   ],
   "source": [
    "# hajde da vidimo kako iskombinovati ovo sa else\n",
    "\n",
    "x=0\n",
    "\n",
    "while (x<10):\n",
    "    print(\"x je trenutno \", x)\n",
    "    print(\"x je i salje manje od 10, dodaj 1 na x\")\n",
    "    x+=1\n",
    "else:\n",
    "    print(\"Sve je OK\")"
   ]
  },
  {
   "cell_type": "code",
   "execution_count": null,
   "metadata": {},
   "outputs": [],
   "source": []
  },
  {
   "cell_type": "code",
   "execution_count": null,
   "metadata": {},
   "outputs": [],
   "source": []
  },
  {
   "cell_type": "code",
   "execution_count": null,
   "metadata": {},
   "outputs": [],
   "source": []
  },
  {
   "cell_type": "markdown",
   "metadata": {},
   "source": [
    "# BREAK / COMTINUE / PASS\n",
    "\n",
    "\n",
    "Mi mozemo koristi <code> Break </code>,<code> Continue </code>,<code> Pass </code> u nasim petljama da bismo im poboljsali funkcionalnost. \n",
    "\n",
    "            Break - Izlazi i trenutne najblize ugnjezdene petlje\n",
    "            Continue - Vraca se na pocetak najblize ugnjeudene petlje\n",
    "            Pass - Ne radi nista\n",
    "            \n",
    "<code> Break </code> i <code> Continue </code> mogu se postaviti bilo gde u telu petlje, ali ih mi ubacjemu u ugnjezdenom delu sa if petljom da bi imali bolje delovanje      "
   ]
  },
  {
   "cell_type": "code",
   "execution_count": 11,
   "metadata": {},
   "outputs": [
    {
     "name": "stdout",
     "output_type": "stream",
     "text": [
      "x je trenutno  0\n",
      "x je i salje manje od 10, dodaj 1 na x\n",
      "continuing.....\n",
      "\n",
      "x je trenutno  1\n",
      "x je i salje manje od 10, dodaj 1 na x\n",
      "continuing.....\n",
      "\n",
      "x je trenutno  2\n",
      "x je i salje manje od 10, dodaj 1 na x\n",
      "x je trenutno  3\n",
      "x je i salje manje od 10, dodaj 1 na x\n",
      "continuing.....\n",
      "\n",
      "x je trenutno  4\n",
      "x je i salje manje od 10, dodaj 1 na x\n",
      "continuing.....\n",
      "\n",
      "x je trenutno  5\n",
      "x je i salje manje od 10, dodaj 1 na x\n",
      "continuing.....\n",
      "\n",
      "x je trenutno  6\n",
      "x je i salje manje od 10, dodaj 1 na x\n",
      "continuing.....\n",
      "\n",
      "x je trenutno  7\n",
      "x je i salje manje od 10, dodaj 1 na x\n",
      "continuing.....\n",
      "\n",
      "x je trenutno  8\n",
      "x je i salje manje od 10, dodaj 1 na x\n",
      "continuing.....\n",
      "\n",
      "x je trenutno  9\n",
      "x je i salje manje od 10, dodaj 1 na x\n",
      "continuing.....\n",
      "\n"
     ]
    }
   ],
   "source": [
    "# hajde da vidimo kako iskombinovati ovo sa else\n",
    "\n",
    "x=0\n",
    "\n",
    "while (x<10):\n",
    "    print(\"x je trenutno \", x)\n",
    "    print(\"x je i salje manje od 10, dodaj 1 na x\")\n",
    "    x+=1\n",
    "    if(x==3):\n",
    "        continue # ako je ovo ispunjeno continue nece dozvoliti da se proje dole nego vraca na pocetak while prtlje\n",
    "    else:\n",
    "        print(\"continuing.....\\n\")  "
   ]
  },
  {
   "cell_type": "code",
   "execution_count": null,
   "metadata": {},
   "outputs": [],
   "source": [
    "# hajde da ubacimo Break kada x==3"
   ]
  },
  {
   "cell_type": "code",
   "execution_count": 13,
   "metadata": {},
   "outputs": [
    {
     "name": "stdout",
     "output_type": "stream",
     "text": [
      "x je trenutno  0\n",
      "x je i salje manje od 10, dodaj 1 na x\n",
      "continuing.....\n",
      "\n",
      "x je trenutno  1\n",
      "x je i salje manje od 10, dodaj 1 na x\n",
      "continuing.....\n",
      "\n",
      "x je trenutno  2\n",
      "x je i salje manje od 10, dodaj 1 na x\n",
      "Break jer je x==3\n"
     ]
    }
   ],
   "source": [
    "# hajde da vidimo kako iskombinovati ovo sa else\n",
    "\n",
    "x=0\n",
    "\n",
    "while (x<10):\n",
    "    print(\"x je trenutno \", x)\n",
    "    print(\"x je i salje manje od 10, dodaj 1 na x\")\n",
    "    x+=1\n",
    "    if(x==3):\n",
    "        print(\"Break jer je x==3\")\n",
    "        break # kad se ovaj deo petlja se pokida i nas program izlazi i while petlje ili prve posle ugnjezdenja\n",
    "    else:\n",
    "        print(\"continuing.....\\n\")  "
   ]
  },
  {
   "cell_type": "code",
   "execution_count": 14,
   "metadata": {},
   "outputs": [],
   "source": [
    "# primetimo da else nikad nije stigo da se odradi pa nije stiglo da se isprintuje continuing"
   ]
  },
  {
   "cell_type": "code",
   "execution_count": null,
   "metadata": {},
   "outputs": [],
   "source": []
  }
 ],
 "metadata": {
  "kernelspec": {
   "display_name": "Python 3",
   "language": "python",
   "name": "python3"
  },
  "language_info": {
   "codemirror_mode": {
    "name": "ipython",
    "version": 3
   },
   "file_extension": ".py",
   "mimetype": "text/x-python",
   "name": "python",
   "nbconvert_exporter": "python",
   "pygments_lexer": "ipython3",
   "version": "3.7.1"
  }
 },
 "nbformat": 4,
 "nbformat_minor": 2
}
