{
 "cells": [
  {
   "cell_type": "markdown",
   "metadata": {},
   "source": [
    "# if, elif, else Petlje\n",
    "\n",
    "Vrlo cesto u programima zelimo da uradimo nesto ali samo ako je nesto drugo tačno ( istinito ). Python-ova <code>if</code> naredba je ono sto nam treba u takvim slucajevima\n",
    "\n",
    "Verbalno mi govorimo racunaru:\n",
    "                \n",
    "                \"Hej, ako se ovo desi, odradi ovu akciju\"\n",
    "                \n",
    "Kasnije mozemo to i produziti sa <code>elif</code> i <code>else</code> delovima, sto nam omogiucava da kazemo racunaru:\n",
    "\n",
    "    \"Hej ako se ovo desi, odrati ovo. U suprotnom slucaju ako se ovo desi odradi ovu akciju.I na kraju ako se ovo desi odradi ovo.\n",
    "    \n",
    "    Sintaksa <code>if</code> petlj je:\n",
    "                \n",
    "                if uslov 1:\n",
    "                    akcija 1\n",
    "                elif uslov2:\n",
    "                    akcija 2\n",
    "                else:\n",
    "                    akcija 3"
   ]
  },
  {
   "cell_type": "code",
   "execution_count": 1,
   "metadata": {},
   "outputs": [
    {
     "name": "stdout",
     "output_type": "stream",
     "text": [
      "Hello World\n"
     ]
    }
   ],
   "source": [
    "#if \n",
    "if True:\n",
    "    print(\"Hello World\")"
   ]
  },
  {
   "cell_type": "code",
   "execution_count": 3,
   "metadata": {},
   "outputs": [
    {
     "name": "stdout",
     "output_type": "stream",
     "text": [
      "Ispisivace se u slucaju kada X nije True\n"
     ]
    }
   ],
   "source": [
    "# if/else\n",
    "x= False\n",
    "\n",
    "\n",
    "if x:\n",
    "    print(\"X je True\")\n",
    "else:\n",
    "    print(\"Ispisivace se u slucaju kada X nije True\")"
   ]
  },
  {
   "cell_type": "code",
   "execution_count": 4,
   "metadata": {},
   "outputs": [
    {
     "name": "stdout",
     "output_type": "stream",
     "text": [
      "Dobrodosli u Banku\n"
     ]
    }
   ],
   "source": [
    "# if/elif/else\n",
    "\n",
    "loc= 'Banka'\n",
    "\n",
    "if loc==\"Auto perionica\":\n",
    "    print(\"Dobrodosli u autoperionicu\")\n",
    "elif loc==\"Banka\":\n",
    "    print(\"Dobrodosli u Banku\")\n",
    "else:\n",
    "    print(\"Gde si?\")"
   ]
  },
  {
   "cell_type": "markdown",
   "metadata": {},
   "source": [
    "Prometimo da je <code>if</code> proveravao sve dok nije rezultat bio potvrdan (True) i tada je realizovao akciju vezanu za taj deo koda. Takodje mozemo u <code>if</code> kodu ubacivati koiko hocemo <code>elif</code> sve dok na kraju ne zavrsimo sa <code>else</code>."
   ]
  },
  {
   "cell_type": "code",
   "execution_count": 6,
   "metadata": {},
   "outputs": [
    {
     "name": "stdout",
     "output_type": "stream",
     "text": [
      "Cao Marko\n"
     ]
    }
   ],
   "source": [
    "ime='Marko'\n",
    "\n",
    "if ime==\"Marko\":\n",
    "    print(\"Cao Marko\")\n",
    "else:\n",
    "    print(\"vase ime je?\")"
   ]
  },
  {
   "cell_type": "code",
   "execution_count": 8,
   "metadata": {},
   "outputs": [
    {
     "name": "stdout",
     "output_type": "stream",
     "text": [
      "Cao, Dejane\n"
     ]
    }
   ],
   "source": [
    "ime='Dejan'\n",
    "\n",
    "if ime==\"Marko\":\n",
    "    print(\"Cao Marko\")\n",
    "elif ime==\"Dejan\":\n",
    "    print(\"Cao, Dejane\")\n",
    "else:\n",
    "    print(\"vase ime je?\")"
   ]
  },
  {
   "cell_type": "code",
   "execution_count": null,
   "metadata": {},
   "outputs": [],
   "source": []
  },
  {
   "cell_type": "code",
   "execution_count": null,
   "metadata": {},
   "outputs": [],
   "source": []
  }
 ],
 "metadata": {
  "kernelspec": {
   "display_name": "Python 3",
   "language": "python",
   "name": "python3"
  },
  "language_info": {
   "codemirror_mode": {
    "name": "ipython",
    "version": 3
   },
   "file_extension": ".py",
   "mimetype": "text/x-python",
   "name": "python",
   "nbconvert_exporter": "python",
   "pygments_lexer": "ipython3",
   "version": "3.7.1"
  }
 },
 "nbformat": 4,
 "nbformat_minor": 2
}
