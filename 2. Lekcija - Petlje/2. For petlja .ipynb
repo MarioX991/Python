{
 "cells": [
  {
   "cell_type": "markdown",
   "metadata": {},
   "source": [
    "# For petlja\n",
    "\n",
    "<code>For</code> petlja nam sluzi za prolazenje kroz neki objekat u pajtonu, ona prolazi kroz celove koji se nalaze u neko jnizu ili u nekom opbjektu koji dozvoljava proazenje kroz njega. Objekte koje smo odradili kroz oje mozemo prolaziti su : Stringovi, liste, tuples cak i build-in funkcije za recnike(dictionaries) kao sto su kljucevi i vrednosti.\n",
    "\n",
    "    Sitaksa <code>for</code> petlje je:\n",
    "    \n",
    "            for item in obeject:\n",
    "                akcija\n",
    "                \n",
    "item koji se pojavljuje u for petlji je naziv koji programer postavlje da bi lakse kod bio za citanje"
   ]
  },
  {
   "cell_type": "code",
   "execution_count": 1,
   "metadata": {},
   "outputs": [],
   "source": [
    "# Prolazak kroz listu\n",
    "# kreiraj listiu\n",
    "\n",
    "my_list=[1,2,3,4,5,6,7,8,9,10]"
   ]
  },
  {
   "cell_type": "code",
   "execution_count": 2,
   "metadata": {},
   "outputs": [
    {
     "name": "stdout",
     "output_type": "stream",
     "text": [
      "1 2 3 4 5 6 7 8 9 10 "
     ]
    }
   ],
   "source": [
    "for num in my_list:\n",
    "    print(num, end=\" \")"
   ]
  },
  {
   "cell_type": "code",
   "execution_count": 5,
   "metadata": {},
   "outputs": [
    {
     "name": "stdout",
     "output_type": "stream",
     "text": [
      "2 4 6 8 10 "
     ]
    }
   ],
   "source": [
    "# sada hocemo da iz liste izvadimo samo parne brojeve\n",
    "\n",
    "for num in my_list:\n",
    "    if(num%2==0):\n",
    "        print(num, end=\" \")"
   ]
  },
  {
   "cell_type": "code",
   "execution_count": 6,
   "metadata": {},
   "outputs": [
    {
     "name": "stdout",
     "output_type": "stream",
     "text": [
      "Neparan\n",
      "2\n",
      "Neparan\n",
      "4\n",
      "Neparan\n",
      "6\n",
      "Neparan\n",
      "8\n",
      "Neparan\n",
      "10\n"
     ]
    }
   ],
   "source": [
    "# isti kao i gore samo za neparne da pise neparan\n",
    "\n",
    "for num in my_list:\n",
    "    if(num%2==0):\n",
    "        print(num)\n",
    "    else:\n",
    "        print(\"Neparan\")"
   ]
  },
  {
   "cell_type": "code",
   "execution_count": 7,
   "metadata": {},
   "outputs": [
    {
     "name": "stdout",
     "output_type": "stream",
     "text": [
      "55\n"
     ]
    }
   ],
   "source": [
    "# jedna od cestih koriscenja for petlje je sto je koristimo za neko sabiranje\n",
    "# hocemo da saberemo elemente liste\n",
    "\n",
    "# postavljamo sumu na nuli\n",
    "suma=0\n",
    "\n",
    "for num in my_list:\n",
    "    suma=suma+num\n",
    "\n",
    "print(suma)"
   ]
  },
  {
   "cell_type": "markdown",
   "metadata": {},
   "source": [
    "__Koristimo <code>for</code> petlju za stringove!__\n",
    "\n",
    "Strig je niz karaktere koji je posavljen u odredjenom poretku"
   ]
  },
  {
   "cell_type": "code",
   "execution_count": 9,
   "metadata": {},
   "outputs": [
    {
     "name": "stdout",
     "output_type": "stream",
     "text": [
      " \n",
      "o\n",
      "v\n",
      "o\n",
      " \n",
      "j\n",
      "e\n",
      " \n",
      "m\n",
      "o\n",
      "j\n",
      " \n",
      "s\n",
      "t\n",
      "r\n",
      "i\n",
      "n\n",
      "g\n"
     ]
    }
   ],
   "source": [
    "# kreirajmo sting\n",
    "s= \" ovo je moj string\"\n",
    "\n",
    "\n",
    "for latter in s:\n",
    "    print(latter)"
   ]
  },
  {
   "cell_type": "markdown",
   "metadata": {},
   "source": [
    "__Koristimo <code>for</code> za tuple:__\n"
   ]
  },
  {
   "cell_type": "code",
   "execution_count": 10,
   "metadata": {},
   "outputs": [
    {
     "name": "stdout",
     "output_type": "stream",
     "text": [
      "1\n",
      "2\n",
      "3\n",
      "4\n",
      "5\n"
     ]
    }
   ],
   "source": [
    "tup=(1,2,3,4,5)\n",
    "\n",
    "for i in tup:\n",
    "    print(i)"
   ]
  },
  {
   "cell_type": "markdown",
   "metadata": {},
   "source": [
    "__Tuple__ ima jednu vaznu osobinu vezanu za _for_ petlju. Ako prolazimo kroz objekat koji ima tuple u sebi, ovo se zove __tuple unpacking.__ Tokom prolaska for petljom mi mozemo da otpakujemo puple koji se nalazi unutar niza i mozemo da pridjemo pojednimom elementu tog tupla. "
   ]
  },
  {
   "cell_type": "code",
   "execution_count": 11,
   "metadata": {},
   "outputs": [],
   "source": [
    "list2=[(1,2),(3,4),(5,6),(7,8)]"
   ]
  },
  {
   "cell_type": "code",
   "execution_count": 13,
   "metadata": {},
   "outputs": [
    {
     "name": "stdout",
     "output_type": "stream",
     "text": [
      "(1, 2)\n",
      "(3, 4)\n",
      "(5, 6)\n",
      "(7, 8)\n"
     ]
    }
   ],
   "source": [
    "for tup in list2:\n",
    "    print(tup)"
   ]
  },
  {
   "cell_type": "code",
   "execution_count": 14,
   "metadata": {},
   "outputs": [
    {
     "name": "stdout",
     "output_type": "stream",
     "text": [
      "1\n",
      "3\n",
      "5\n",
      "7\n"
     ]
    }
   ],
   "source": [
    "# sad mozemo da otpakujemo puple\n",
    "\n",
    "for (t1,t2) in list2:\n",
    "    print(t1)"
   ]
  },
  {
   "cell_type": "markdown",
   "metadata": {},
   "source": [
    "Za tuplove u nizu mi mozemo da pristupimo elementima pomocu unpacking. Mnogi objekti vracaju tuple kao rezultat pa je ova osobina vazna"
   ]
  },
  {
   "cell_type": "code",
   "execution_count": 15,
   "metadata": {},
   "outputs": [],
   "source": [
    "d={'k1':1,'k2':2,'k3':3}"
   ]
  },
  {
   "cell_type": "code",
   "execution_count": 16,
   "metadata": {},
   "outputs": [
    {
     "name": "stdout",
     "output_type": "stream",
     "text": [
      "k1\n",
      "k2\n",
      "k3\n"
     ]
    }
   ],
   "source": [
    "for item in d:\n",
    "    print(item)"
   ]
  },
  {
   "cell_type": "markdown",
   "metadata": {},
   "source": [
    "Primetimo da nam je ispisao samo kljuceve. Ali nije prikazao vrednmosti.\n",
    "\n",
    "Zato se upoznajemo sa novim metodama recnika koje su: __.keys()__, __.values()__, __.items()__"
   ]
  },
  {
   "cell_type": "code",
   "execution_count": 17,
   "metadata": {},
   "outputs": [
    {
     "data": {
      "text/plain": [
       "dict_items([('k1', 1), ('k2', 2), ('k3', 3)])"
      ]
     },
     "execution_count": 17,
     "metadata": {},
     "output_type": "execute_result"
    }
   ],
   "source": [
    "# kreirajmo recnik\n",
    "d.items()"
   ]
  },
  {
   "cell_type": "markdown",
   "metadata": {},
   "source": [
    "posto __.itam()__ metod podrzava prolaenje(iteraciju) , mouzemo koristiti _dictionary unpacking_ da razdvojimo kljuceve od vredniosti"
   ]
  },
  {
   "cell_type": "code",
   "execution_count": 22,
   "metadata": {},
   "outputs": [
    {
     "name": "stdout",
     "output_type": "stream",
     "text": [
      "1\n",
      "k1\n",
      "2\n",
      "k2\n",
      "3\n",
      "k3\n"
     ]
    }
   ],
   "source": [
    "# Dictionary unpacking\n",
    "\n",
    "for (k,v) in d.items():\n",
    "    print(v,end=\"\\n\")\n",
    "    print(k)"
   ]
  },
  {
   "cell_type": "code",
   "execution_count": 23,
   "metadata": {},
   "outputs": [
    {
     "data": {
      "text/plain": [
       "['k1', 'k2', 'k3']"
      ]
     },
     "execution_count": 23,
     "metadata": {},
     "output_type": "execute_result"
    }
   ],
   "source": [
    "# ako hocemo da prikazemo pravu listu kljuveca \n",
    "list(d.keys())"
   ]
  },
  {
   "cell_type": "code",
   "execution_count": 24,
   "metadata": {},
   "outputs": [
    {
     "data": {
      "text/plain": [
       "[1, 2, 3]"
      ]
     },
     "execution_count": 24,
     "metadata": {},
     "output_type": "execute_result"
    }
   ],
   "source": [
    "# Upamtimo da su recnici unorder objeti, al imi mozemo sortirati vrednosti posle ubacivanje u listu\n",
    "sorted(d.values())"
   ]
  },
  {
   "cell_type": "code",
   "execution_count": null,
   "metadata": {},
   "outputs": [],
   "source": []
  },
  {
   "cell_type": "code",
   "execution_count": null,
   "metadata": {},
   "outputs": [],
   "source": []
  },
  {
   "cell_type": "code",
   "execution_count": null,
   "metadata": {},
   "outputs": [],
   "source": []
  }
 ],
 "metadata": {
  "kernelspec": {
   "display_name": "Python 3",
   "language": "python",
   "name": "python3"
  },
  "language_info": {
   "codemirror_mode": {
    "name": "ipython",
    "version": 3
   },
   "file_extension": ".py",
   "mimetype": "text/x-python",
   "name": "python",
   "nbconvert_exporter": "python",
   "pygments_lexer": "ipython3",
   "version": "3.7.1"
  }
 },
 "nbformat": 4,
 "nbformat_minor": 2
}
