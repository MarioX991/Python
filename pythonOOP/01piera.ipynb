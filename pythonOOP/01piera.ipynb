{
 "cells": [
  {
   "cell_type": "markdown",
   "metadata": {},
   "source": [
    "# Python OOP\n",
    "\n",
    "<img src=\"img/c.png\"></img>"
   ]
  },
  {
   "cell_type": "code",
   "execution_count": 2,
   "metadata": {},
   "outputs": [
    {
     "data": {
      "text/plain": [
       "'hasky'"
      ]
     },
     "execution_count": 2,
     "metadata": {},
     "output_type": "execute_result"
    }
   ],
   "source": [
    "# instanca je specijalan objekat kreiran iz neke klase\n",
    "class Sample():\n",
    "    pass\n",
    "\n",
    "#kreiranje instance nase klase\n",
    "my_sample = Sample()\n",
    "\n",
    "# Kreirajmo atribute u klasi, atributi se dodaju u init funkciju \n",
    "\n",
    "class Dog():\n",
    "    #atributi(karakteristike)\n",
    "    # inint moze da se interpretira kako konstruktor klase, i on se poziva automatcki kada se poziva instanca klase\n",
    "    # self - instancu samog objekta\n",
    "    \n",
    "    def __init__(self,breed):\n",
    "        self.breed = breed\n",
    "\n",
    "#my_dog je isntanca Dog() klase\n",
    "my_dog = Dog(\"hasky\")\n",
    "\n",
    "my_dog.breed"
   ]
  },
  {
   "cell_type": "code",
   "execution_count": 7,
   "metadata": {},
   "outputs": [],
   "source": [
    "class Dog1():\n",
    "    # Atributi\n",
    "    # Uzimamo jedan argument \n",
    "    # i dodelimo da sa self.atribute_name(sami biramo ime atributa)\n",
    "    \n",
    "    def __init__(self,mybreed): #mybreed je samo parametar funkcije koja ce se sa selt dodleiti obktu\n",
    "        self.my_attibute_name = mybreed\n",
    "# vazni je : self.ime atributa = arguent_funkcije"
   ]
  },
  {
   "cell_type": "code",
   "execution_count": 8,
   "metadata": {},
   "outputs": [],
   "source": [
    "my_dog = Dog1(mybreed=\"Huskie\")"
   ]
  },
  {
   "cell_type": "code",
   "execution_count": 9,
   "metadata": {},
   "outputs": [
    {
     "data": {
      "text/plain": [
       "'Huskie'"
      ]
     },
     "execution_count": 9,
     "metadata": {},
     "output_type": "execute_result"
    }
   ],
   "source": [
    "my_dog.my_attibute_name"
   ]
  },
  {
   "cell_type": "code",
   "execution_count": 10,
   "metadata": {},
   "outputs": [],
   "source": [
    "#dodavanje jos atributa\n",
    "class Dog2():\n",
    "    # Atributi\n",
    "    \n",
    "    # mozemo primetiti da nvodimo racuna o type unosa podatka kod kreirane instance\n",
    "    \n",
    "    def __init__(self,breed,name,spots): #mybreed je samo parametar funkcije koja ce se sa selt dodleiti obktu\n",
    "        self.breed = breed\n",
    "        self.name = name \n",
    "        # ocekujemo da bude boolean\n",
    "        self.spots = spots\n",
    "# zeznuto je jer ne pravi razliku izmedju unosnih podatka \n",
    "# jer podifoltu moze biti bio sa ali moze se to srediti "
   ]
  },
  {
   "cell_type": "code",
   "execution_count": 13,
   "metadata": {},
   "outputs": [],
   "source": []
  },
  {
   "cell_type": "code",
   "execution_count": null,
   "metadata": {},
   "outputs": [],
   "source": []
  },
  {
   "cell_type": "code",
   "execution_count": null,
   "metadata": {},
   "outputs": [],
   "source": []
  },
  {
   "cell_type": "code",
   "execution_count": null,
   "metadata": {},
   "outputs": [],
   "source": []
  },
  {
   "cell_type": "code",
   "execution_count": null,
   "metadata": {},
   "outputs": [],
   "source": []
  },
  {
   "cell_type": "code",
   "execution_count": null,
   "metadata": {},
   "outputs": [],
   "source": []
  },
  {
   "cell_type": "code",
   "execution_count": null,
   "metadata": {},
   "outputs": [],
   "source": []
  },
  {
   "cell_type": "code",
   "execution_count": null,
   "metadata": {},
   "outputs": [],
   "source": []
  },
  {
   "cell_type": "code",
   "execution_count": null,
   "metadata": {},
   "outputs": [],
   "source": []
  },
  {
   "cell_type": "code",
   "execution_count": null,
   "metadata": {},
   "outputs": [],
   "source": []
  },
  {
   "cell_type": "code",
   "execution_count": null,
   "metadata": {},
   "outputs": [],
   "source": []
  }
 ],
 "metadata": {
  "kernelspec": {
   "display_name": "Python 3",
   "language": "python",
   "name": "python3"
  },
  "language_info": {
   "codemirror_mode": {
    "name": "ipython",
    "version": 3
   },
   "file_extension": ".py",
   "mimetype": "text/x-python",
   "name": "python",
   "nbconvert_exporter": "python",
   "pygments_lexer": "ipython3",
   "version": "3.7.4"
  }
 },
 "nbformat": 4,
 "nbformat_minor": 4
}
